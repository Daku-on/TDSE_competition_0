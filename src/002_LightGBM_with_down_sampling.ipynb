{
 "cells": [
  {
   "cell_type": "code",
   "execution_count": 1,
   "id": "edff9377",
   "metadata": {
    "_cell_guid": "b1076dfc-b9ad-4769-8c92-a6c4dae69d19",
    "_uuid": "8f2839f25d086af736a60e9eeb907d3b93b6e0e5",
    "execution": {
     "iopub.execute_input": "2024-06-09T11:34:21.735003Z",
     "iopub.status.busy": "2024-06-09T11:34:21.734502Z",
     "iopub.status.idle": "2024-06-09T11:34:25.642764Z",
     "shell.execute_reply": "2024-06-09T11:34:25.640976Z"
    },
    "papermill": {
     "duration": 3.919607,
     "end_time": "2024-06-09T11:34:25.646263",
     "exception": false,
     "start_time": "2024-06-09T11:34:21.726656",
     "status": "completed"
    },
    "tags": []
   },
   "outputs": [],
   "source": [
    "import numpy as np # 今回は明示的には使わない\n",
    "import pandas as pd # data processing, CSV file I/O (e.g. pd.read_csv)\n",
    "import lightgbm as lgb # LightGBM でモデルを作成する\n",
    "from sklearn.metrics import accuracy_score, roc_auc_score #精度評価に使用"
   ]
  },
  {
   "cell_type": "code",
   "execution_count": 2,
   "id": "d942730c",
   "metadata": {
    "execution": {
     "iopub.execute_input": "2024-06-09T11:34:25.660218Z",
     "iopub.status.busy": "2024-06-09T11:34:25.659566Z",
     "iopub.status.idle": "2024-06-09T11:34:25.674756Z",
     "shell.execute_reply": "2024-06-09T11:34:25.673385Z"
    },
    "papermill": {
     "duration": 0.025397,
     "end_time": "2024-06-09T11:34:25.677654",
     "exception": false,
     "start_time": "2024-06-09T11:34:25.652257",
     "status": "completed"
    },
    "tags": []
   },
   "outputs": [],
   "source": [
    "# 自作のモジュールを読み込み\n",
    "# 自作のプロット用モジュールを読み込む\n",
    "import sys\n",
    "sys.path.append(\"../input/modeling-and-evaluation/\")\n",
    "import down_sampling as my_downsampling"
   ]
  },
  {
   "cell_type": "code",
   "execution_count": 3,
   "id": "987bbf23",
   "metadata": {
    "execution": {
     "iopub.execute_input": "2024-06-09T11:34:25.690627Z",
     "iopub.status.busy": "2024-06-09T11:34:25.690200Z",
     "iopub.status.idle": "2024-06-09T11:34:25.696187Z",
     "shell.execute_reply": "2024-06-09T11:34:25.695035Z"
    },
    "papermill": {
     "duration": 0.015056,
     "end_time": "2024-06-09T11:34:25.698619",
     "exception": false,
     "start_time": "2024-06-09T11:34:25.683563",
     "status": "completed"
    },
    "tags": []
   },
   "outputs": [],
   "source": [
    "# 各種定数の定義\n",
    "# 乱数シード\n",
    "RANDOM_SEED = 42\n",
    "# target となる特徴量\n",
    "TARGET_COULMN_NAME = \"Exited\"\n",
    "# 削除する特徴量のリスト\n",
    "DROP_COLUMNS = [\"id\", \"CustomerId\", \"Surname\"]\n",
    "# one-hot encoding する特徴量のリスト\n",
    "ONE_HOT_ENCODING_COLUMNS = [\"Geography\", \"Gender\"]"
   ]
  },
  {
   "cell_type": "code",
   "execution_count": 4,
   "id": "838735ef",
   "metadata": {
    "execution": {
     "iopub.execute_input": "2024-06-09T11:34:25.711390Z",
     "iopub.status.busy": "2024-06-09T11:34:25.710986Z",
     "iopub.status.idle": "2024-06-09T11:34:26.226416Z",
     "shell.execute_reply": "2024-06-09T11:34:26.224980Z"
    },
    "papermill": {
     "duration": 0.525324,
     "end_time": "2024-06-09T11:34:26.229517",
     "exception": false,
     "start_time": "2024-06-09T11:34:25.704193",
     "status": "completed"
    },
    "tags": []
   },
   "outputs": [],
   "source": [
    "# 学習データの読み込み\n",
    "train_df =  pd.read_csv(\"../input/tdse-inclass-competition-0/train.csv\")"
   ]
  },
  {
   "cell_type": "code",
   "execution_count": 5,
   "id": "b1cc6d20",
   "metadata": {
    "execution": {
     "iopub.execute_input": "2024-06-09T11:34:26.243380Z",
     "iopub.status.busy": "2024-06-09T11:34:26.242958Z",
     "iopub.status.idle": "2024-06-09T11:34:26.316272Z",
     "shell.execute_reply": "2024-06-09T11:34:26.314847Z"
    },
    "papermill": {
     "duration": 0.084175,
     "end_time": "2024-06-09T11:34:26.319349",
     "exception": false,
     "start_time": "2024-06-09T11:34:26.235174",
     "status": "completed"
    },
    "tags": []
   },
   "outputs": [
    {
     "name": "stdout",
     "output_type": "stream",
     "text": [
      "Exited\n",
      "0    130113\n",
      "1     34921\n",
      "Name: count, dtype: int64\n"
     ]
    }
   ],
   "source": [
    "# down sampling\n",
    "train_df = my_downsampling.downsampling(\n",
    "    train_df,\n",
    "    TARGET_COULMN_NAME,\n",
    "    majority_query=\"Exited == 0\",\n",
    "    random_seed=RANDOM_SEED,\n",
    ")"
   ]
  },
  {
   "cell_type": "code",
   "execution_count": 6,
   "id": "97e41efb",
   "metadata": {
    "execution": {
     "iopub.execute_input": "2024-06-09T11:34:26.333123Z",
     "iopub.status.busy": "2024-06-09T11:34:26.332705Z",
     "iopub.status.idle": "2024-06-09T11:34:26.725983Z",
     "shell.execute_reply": "2024-06-09T11:34:26.724699Z"
    },
    "papermill": {
     "duration": 0.40329,
     "end_time": "2024-06-09T11:34:26.728671",
     "exception": false,
     "start_time": "2024-06-09T11:34:26.325381",
     "status": "completed"
    },
    "tags": []
   },
   "outputs": [],
   "source": [
    "# 特徴量。Surname, id, CustomerIDは削除\n",
    "X_train_df = train_df.drop(\n",
    "    [TARGET_COULMN_NAME] + DROP_COLUMNS,\n",
    "    axis=1,\n",
    ") \n",
    "# one-hot encoding\n",
    "X_train_df = pd.get_dummies(\n",
    "    X_train_df,\n",
    "    columns=ONE_HOT_ENCODING_COLUMNS,\n",
    ")\n",
    "# 目的変数\n",
    "y_train_df = train_df[TARGET_COULMN_NAME]\n",
    "\n",
    "# テストデータの読み込み\n",
    "test_df =  pd.read_csv(\"../input/tdse-inclass-competition-0/test.csv\")\n",
    "# 学習データに合わせて特徴量を加工\n",
    "X_test_df = test_df.drop(\n",
    "    DROP_COLUMNS,\n",
    "    axis=1,\n",
    ")\n",
    "# one-hot encoding\n",
    "X_test_df = pd.get_dummies(\n",
    "    X_test_df,\n",
    "    columns=ONE_HOT_ENCODING_COLUMNS,\n",
    ")"
   ]
  },
  {
   "cell_type": "code",
   "execution_count": 7,
   "id": "3612b402",
   "metadata": {
    "execution": {
     "iopub.execute_input": "2024-06-09T11:34:26.744000Z",
     "iopub.status.busy": "2024-06-09T11:34:26.742579Z",
     "iopub.status.idle": "2024-06-09T11:34:26.751637Z",
     "shell.execute_reply": "2024-06-09T11:34:26.750271Z"
    },
    "papermill": {
     "duration": 0.019943,
     "end_time": "2024-06-09T11:34:26.754598",
     "exception": false,
     "start_time": "2024-06-09T11:34:26.734655",
     "status": "completed"
    },
    "tags": []
   },
   "outputs": [],
   "source": [
    "# LightGBM用のデータセット作成\n",
    "train_data = lgb.Dataset(X_train_df, label=y_train_df)"
   ]
  },
  {
   "cell_type": "code",
   "execution_count": 8,
   "id": "3615808c",
   "metadata": {
    "execution": {
     "iopub.execute_input": "2024-06-09T11:34:26.769511Z",
     "iopub.status.busy": "2024-06-09T11:34:26.768578Z",
     "iopub.status.idle": "2024-06-09T11:34:28.497133Z",
     "shell.execute_reply": "2024-06-09T11:34:28.495990Z"
    },
    "papermill": {
     "duration": 1.739794,
     "end_time": "2024-06-09T11:34:28.499965",
     "exception": false,
     "start_time": "2024-06-09T11:34:26.760171",
     "status": "completed"
    },
    "tags": []
   },
   "outputs": [
    {
     "name": "stdout",
     "output_type": "stream",
     "text": [
      "[LightGBM] [Warning] seed is set=42, random_state=42 will be ignored. Current value: seed=42\n",
      "[LightGBM] [Warning] seed is set=42, random_state=42 will be ignored. Current value: seed=42\n"
     ]
    }
   ],
   "source": [
    "# モデルのパラメータ設定\n",
    "params = {\n",
    "    \"objective\": \"binary\", # 2値分類\n",
    "    \"metric\": \"auc\", # 評価指標は AUC under ROC curve\n",
    "    \"boosting_type\": \"gbdt\", # 勾配ブースティング\n",
    "    \"learning_rate\": 0.05, # 学習率\n",
    "    \"num_leaves\": 31, # ノード数\n",
    "    \"feature_fraction\": 0.9, # 各ツリーを作成する際の特徴量の使用割合\n",
    "    \"bagging_fraction\": 0.8, # 各ツリーを作成する際のデータの使用割合\n",
    "    \"bagging_freq\": 5, # バギング (データサンプリング) を行う頻度。5 なら 5回に1回バギングを行う\n",
    "    \"verbose\": 0, # 学習中のログ出力の詳細度。0 なら何も出力しない\n",
    "    \"seed\": RANDOM_SEED, # モデル全体の乱数シード\n",
    "    \"random_state\": RANDOM_SEED, # モデル全体の乱数シード\n",
    "    \"bagging_seed\": RANDOM_SEED, # バギングの乱数シード\n",
    "    \"feature_fraction_seed\": RANDOM_SEED, # 特徴量の使用割合の乱数シード\n",
    "}\n",
    "\n",
    "# モデルのトレーニング\n",
    "model = lgb.train(\n",
    "    params,\n",
    "    train_data,\n",
    ")"
   ]
  },
  {
   "cell_type": "code",
   "execution_count": 9,
   "id": "11ddeb38",
   "metadata": {
    "execution": {
     "iopub.execute_input": "2024-06-09T11:34:28.515377Z",
     "iopub.status.busy": "2024-06-09T11:34:28.514953Z",
     "iopub.status.idle": "2024-06-09T11:34:28.774377Z",
     "shell.execute_reply": "2024-06-09T11:34:28.772964Z"
    },
    "papermill": {
     "duration": 0.270896,
     "end_time": "2024-06-09T11:34:28.777307",
     "exception": false,
     "start_time": "2024-06-09T11:34:28.506411",
     "status": "completed"
    },
    "tags": []
   },
   "outputs": [],
   "source": [
    "# テストデータに対する予測\n",
    "y_pred_np = model.predict(X_test_df)"
   ]
  },
  {
   "cell_type": "code",
   "execution_count": 10,
   "id": "593d0bc9",
   "metadata": {
    "execution": {
     "iopub.execute_input": "2024-06-09T11:34:28.790322Z",
     "iopub.status.busy": "2024-06-09T11:34:28.789924Z",
     "iopub.status.idle": "2024-06-09T11:34:28.799283Z",
     "shell.execute_reply": "2024-06-09T11:34:28.798065Z"
    },
    "papermill": {
     "duration": 0.019119,
     "end_time": "2024-06-09T11:34:28.802185",
     "exception": false,
     "start_time": "2024-06-09T11:34:28.783066",
     "status": "completed"
    },
    "tags": []
   },
   "outputs": [
    {
     "data": {
      "text/plain": [
       "array([0.07631751, 0.93260914, 0.09364989, ..., 0.07903164, 0.40518747,\n",
       "       0.47077364])"
      ]
     },
     "execution_count": 10,
     "metadata": {},
     "output_type": "execute_result"
    }
   ],
   "source": [
    "y_pred_np"
   ]
  },
  {
   "cell_type": "code",
   "execution_count": 11,
   "id": "c3c1ca3d",
   "metadata": {
    "execution": {
     "iopub.execute_input": "2024-06-09T11:34:28.817368Z",
     "iopub.status.busy": "2024-06-09T11:34:28.816938Z",
     "iopub.status.idle": "2024-06-09T11:34:28.824056Z",
     "shell.execute_reply": "2024-06-09T11:34:28.822876Z"
    },
    "papermill": {
     "duration": 0.017368,
     "end_time": "2024-06-09T11:34:28.826872",
     "exception": false,
     "start_time": "2024-06-09T11:34:28.809504",
     "status": "completed"
    },
    "tags": []
   },
   "outputs": [],
   "source": [
    "# 提出用ファイルの作成\n",
    "submission_df = pd.DataFrame({\n",
    "    \"id\": test_df[\"id\"],\n",
    "    \"Exited\": y_pred_np,\n",
    "})"
   ]
  },
  {
   "cell_type": "code",
   "execution_count": 12,
   "id": "a0e7d155",
   "metadata": {
    "execution": {
     "iopub.execute_input": "2024-06-09T11:34:28.840845Z",
     "iopub.status.busy": "2024-06-09T11:34:28.840421Z",
     "iopub.status.idle": "2024-06-09T11:34:28.858022Z",
     "shell.execute_reply": "2024-06-09T11:34:28.856719Z"
    },
    "papermill": {
     "duration": 0.027913,
     "end_time": "2024-06-09T11:34:28.860770",
     "exception": false,
     "start_time": "2024-06-09T11:34:28.832857",
     "status": "completed"
    },
    "tags": []
   },
   "outputs": [
    {
     "data": {
      "text/html": [
       "<div>\n",
       "<style scoped>\n",
       "    .dataframe tbody tr th:only-of-type {\n",
       "        vertical-align: middle;\n",
       "    }\n",
       "\n",
       "    .dataframe tbody tr th {\n",
       "        vertical-align: top;\n",
       "    }\n",
       "\n",
       "    .dataframe thead th {\n",
       "        text-align: right;\n",
       "    }\n",
       "</style>\n",
       "<table border=\"1\" class=\"dataframe\">\n",
       "  <thead>\n",
       "    <tr style=\"text-align: right;\">\n",
       "      <th></th>\n",
       "      <th>id</th>\n",
       "      <th>Exited</th>\n",
       "    </tr>\n",
       "  </thead>\n",
       "  <tbody>\n",
       "    <tr>\n",
       "      <th>0</th>\n",
       "      <td>165034</td>\n",
       "      <td>0.076318</td>\n",
       "    </tr>\n",
       "    <tr>\n",
       "      <th>1</th>\n",
       "      <td>165035</td>\n",
       "      <td>0.932609</td>\n",
       "    </tr>\n",
       "    <tr>\n",
       "      <th>2</th>\n",
       "      <td>165036</td>\n",
       "      <td>0.093650</td>\n",
       "    </tr>\n",
       "    <tr>\n",
       "      <th>3</th>\n",
       "      <td>165037</td>\n",
       "      <td>0.568738</td>\n",
       "    </tr>\n",
       "    <tr>\n",
       "      <th>4</th>\n",
       "      <td>165038</td>\n",
       "      <td>0.674822</td>\n",
       "    </tr>\n",
       "  </tbody>\n",
       "</table>\n",
       "</div>"
      ],
      "text/plain": [
       "       id    Exited\n",
       "0  165034  0.076318\n",
       "1  165035  0.932609\n",
       "2  165036  0.093650\n",
       "3  165037  0.568738\n",
       "4  165038  0.674822"
      ]
     },
     "execution_count": 12,
     "metadata": {},
     "output_type": "execute_result"
    }
   ],
   "source": [
    "submission_df.head()"
   ]
  },
  {
   "cell_type": "code",
   "execution_count": 13,
   "id": "06e8363a",
   "metadata": {
    "execution": {
     "iopub.execute_input": "2024-06-09T11:34:28.876158Z",
     "iopub.status.busy": "2024-06-09T11:34:28.875696Z",
     "iopub.status.idle": "2024-06-09T11:34:29.265115Z",
     "shell.execute_reply": "2024-06-09T11:34:29.263634Z"
    },
    "papermill": {
     "duration": 0.401716,
     "end_time": "2024-06-09T11:34:29.268583",
     "exception": false,
     "start_time": "2024-06-09T11:34:28.866867",
     "status": "completed"
    },
    "tags": []
   },
   "outputs": [],
   "source": [
    "submission_df.to_csv(\"submission.csv\", index=False)"
   ]
  }
 ],
 "metadata": {
  "kaggle": {
   "accelerator": "none",
   "dataSources": [
    {
     "databundleVersionId": 8428413,
     "sourceId": 77360,
     "sourceType": "competition"
    },
    {
     "databundleVersionId": 8796797,
     "datasetId": 5178796,
     "sourceId": 8646836,
     "sourceType": "datasetVersion"
    }
   ],
   "dockerImageVersionId": 30732,
   "isGpuEnabled": false,
   "isInternetEnabled": true,
   "language": "python",
   "sourceType": "notebook"
  },
  "kernelspec": {
   "display_name": "Python 3",
   "language": "python",
   "name": "python3"
  },
  "language_info": {
   "codemirror_mode": {
    "name": "ipython",
    "version": 3
   },
   "file_extension": ".py",
   "mimetype": "text/x-python",
   "name": "python",
   "nbconvert_exporter": "python",
   "pygments_lexer": "ipython3",
   "version": "3.10.13"
  },
  "papermill": {
   "default_parameters": {},
   "duration": 11.536071,
   "end_time": "2024-06-09T11:34:29.999621",
   "environment_variables": {},
   "exception": null,
   "input_path": "__notebook__.ipynb",
   "output_path": "__notebook__.ipynb",
   "parameters": {},
   "start_time": "2024-06-09T11:34:18.463550",
   "version": "2.5.0"
  }
 },
 "nbformat": 4,
 "nbformat_minor": 5
}
