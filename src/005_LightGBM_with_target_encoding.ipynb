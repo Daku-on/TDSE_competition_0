{
 "cells": [
  {
   "cell_type": "code",
   "execution_count": 15,
   "id": "aeef352f",
   "metadata": {
    "_cell_guid": "b1076dfc-b9ad-4769-8c92-a6c4dae69d19",
    "_uuid": "8f2839f25d086af736a60e9eeb907d3b93b6e0e5",
    "execution": {
     "iopub.execute_input": "2024-06-09T12:18:56.419983Z",
     "iopub.status.busy": "2024-06-09T12:18:56.419571Z",
     "iopub.status.idle": "2024-06-09T12:19:00.206109Z",
     "shell.execute_reply": "2024-06-09T12:19:00.205054Z"
    },
    "papermill": {
     "duration": 3.797176,
     "end_time": "2024-06-09T12:19:00.209060",
     "exception": false,
     "start_time": "2024-06-09T12:18:56.411884",
     "status": "completed"
    },
    "tags": []
   },
   "outputs": [],
   "source": [
    "import numpy as np # 今回は明示的には使わない\n",
    "import pandas as pd # data processing, CSV file I/O (e.g. pd.read_csv)\n",
    "import lightgbm as lgb # LightGBM でモデルを作成する\n",
    "from sklearn.metrics import accuracy_score, roc_auc_score #精度評価に使用\n",
    "import pickle # モデルの保存・読み込みに使用"
   ]
  },
  {
   "cell_type": "code",
   "execution_count": 16,
   "id": "af56211e",
   "metadata": {
    "execution": {
     "iopub.execute_input": "2024-06-09T12:19:00.222422Z",
     "iopub.status.busy": "2024-06-09T12:19:00.221844Z",
     "iopub.status.idle": "2024-06-09T12:19:00.533172Z",
     "shell.execute_reply": "2024-06-09T12:19:00.531771Z"
    },
    "papermill": {
     "duration": 0.321317,
     "end_time": "2024-06-09T12:19:00.536331",
     "exception": false,
     "start_time": "2024-06-09T12:19:00.215014",
     "status": "completed"
    },
    "tags": []
   },
   "outputs": [],
   "source": [
    "# 自作のモジュールを読み込み\n",
    "import sys\n",
    "sys.path.append(\"../input/modeling-and-evaluation/\")\n",
    "import optuna_hypara as my_optuna"
   ]
  },
  {
   "cell_type": "code",
   "execution_count": 17,
   "id": "538e883b",
   "metadata": {
    "execution": {
     "iopub.execute_input": "2024-06-09T12:19:00.549227Z",
     "iopub.status.busy": "2024-06-09T12:19:00.548798Z",
     "iopub.status.idle": "2024-06-09T12:19:00.555834Z",
     "shell.execute_reply": "2024-06-09T12:19:00.554105Z"
    },
    "papermill": {
     "duration": 0.016679,
     "end_time": "2024-06-09T12:19:00.558595",
     "exception": false,
     "start_time": "2024-06-09T12:19:00.541916",
     "status": "completed"
    },
    "tags": []
   },
   "outputs": [],
   "source": [
    "# 各種定数の定義\n",
    "# 乱数シード\n",
    "RANDOM_SEED = 42\n",
    "# target となる特徴量\n",
    "TARGET_COULMN_NAME = \"Exited\"\n",
    "# 削除する特徴量のリスト\n",
    "DROP_COLUMNS = [\"id\", \"CustomerId\", \"Surname\"]\n",
    "# one-hot encoding する特徴量のリスト\n",
    "ONE_HOT_ENCODING_COLUMNS = [\"Geography\", \"Gender\"]\n",
    "# ベストモデルのパス\n",
    "BEST_MODEL_PATH = \"../working/best_lgbm_model.pkl\""
   ]
  },
  {
   "cell_type": "code",
   "execution_count": 18,
   "id": "332ea3a0",
   "metadata": {
    "execution": {
     "iopub.execute_input": "2024-06-09T12:19:00.571719Z",
     "iopub.status.busy": "2024-06-09T12:19:00.571275Z",
     "iopub.status.idle": "2024-06-09T12:19:01.064425Z",
     "shell.execute_reply": "2024-06-09T12:19:01.063395Z"
    },
    "papermill": {
     "duration": 0.503063,
     "end_time": "2024-06-09T12:19:01.067181",
     "exception": false,
     "start_time": "2024-06-09T12:19:00.564118",
     "status": "completed"
    },
    "tags": []
   },
   "outputs": [],
   "source": [
    "# 学習データの読み込み\n",
    "train_df =  pd.read_csv(\"../input/tdse-inclass-competition-0/train.csv\")"
   ]
  },
  {
   "cell_type": "markdown",
   "id": "9a290797",
   "metadata": {},
   "source": [
    "## 前処理を行う"
   ]
  },
  {
   "cell_type": "markdown",
   "id": "acaeedae",
   "metadata": {},
   "source": [
    "### target encodingを行う"
   ]
  },
  {
   "cell_type": "code",
   "execution_count": 36,
   "id": "6219f2cd",
   "metadata": {},
   "outputs": [],
   "source": [
    "from sklearn import base\n",
    "from sklearn.model_selection import KFold\n",
    "\n",
    "class KFoldTargetEncoderTrain(base.BaseEstimator,\n",
    "                               base.TransformerMixin):\n",
    "    \"\"\"How to use.\n",
    "    targetc = KFoldTargetEncoderTrain('Feature','Target',n_fold=5)\n",
    "    new_train = targetc.fit_transform(train)\n",
    "    \"\"\"\n",
    "    def __init__(\n",
    "        self,\n",
    "        colnames,\n",
    "        targetName,\n",
    "        n_fold=5,\n",
    "        verbosity=True,\n",
    "        discardOriginal_col=False\n",
    "    ):\n",
    "        self.colnames = colnames\n",
    "        self.targetName = targetName\n",
    "        self.n_fold = n_fold\n",
    "        self.verbosity = verbosity\n",
    "        self.discardOriginal_col = discardOriginal_col\n",
    "\n",
    "    def fit(self, X, y=None):\n",
    "        return self\n",
    "\n",
    "    def transform(self,X):        \n",
    "        assert(type(self.targetName) == str)\n",
    "        assert(type(self.colnames) == str)\n",
    "        assert(self.colnames in X.columns)\n",
    "        assert(self.targetName in X.columns)       \n",
    "\n",
    "        mean_of_target = X[self.targetName].mean()\n",
    "        kf = KFold(\n",
    "            n_splits = self.n_fold,\n",
    "            # shuffle = False,\n",
    "            # random_state=2019, # random_state is not working for shuffle=False\n",
    "            )        \n",
    "        col_mean_name = self.colnames + '_' + 'Kfold_Target_Enc'\n",
    "        X[col_mean_name] = np.nan       \n",
    "\n",
    "        for tr_ind, val_ind in kf.split(X):\n",
    "            X_tr, X_val = X.iloc[tr_ind], X.iloc[val_ind]\n",
    "            X.loc[X.index[val_ind], col_mean_name] = X_val[self.colnames].map(X_tr.groupby(self.colnames)[self.targetName].mean())\n",
    "            # X[col_mean_name].fillna(mean_of_target, inplace = True)  # nanになってしまったところは平均値で埋める --(1)\n",
    "\n",
    "        if self.verbosity:            \n",
    "            encoded_feature = X[col_mean_name].values\n",
    "            print('Correlation between the new feature, {} and, {} is {}.'.format(col_mean_name,self.targetName, \n",
    "                                                                                  np.corrcoef(X[self.targetName].values,encoded_feature)[0][1]))\n",
    "        if self.discardOriginal_col:\n",
    "            X = X.drop(self.targetName, axis=1)\n",
    "        return X\n",
    "\n",
    "\n",
    "class TargetEncoderTest(base.BaseEstimator, base.TransformerMixin):\n",
    "    \"\"\"How to use.\n",
    "    test_targetc = TargetEncoderTest(new_train,\n",
    "                                      'Feature',\n",
    "                                      'Feature_Kfold_Target_Enc')\n",
    "    new_test = test_targetc.fit_transform(test)\n",
    "    \"\"\"\n",
    "\n",
    "    def __init__(self,train,colNames,encodedName):\n",
    "\n",
    "        self.train = train\n",
    "        self.colNames = colNames\n",
    "        self.encodedName = encodedName\n",
    "\n",
    "    def fit(self, X, y=None):\n",
    "        return self\n",
    "\n",
    "    def transform(self,X):       \n",
    "        mean =  self.train[[self.colNames, self.encodedName]].groupby(self.colNames).mean().reset_index() \n",
    "\n",
    "        dd = {}\n",
    "        for index, row in mean.iterrows():\n",
    "            dd[row[self.colNames]] = row[self.encodedName]\n",
    "            X[self.encodedName] = X[self.colNames]\n",
    "        X = X.replace({self.encodedName: dd})\n",
    "        return X"
   ]
  },
  {
   "cell_type": "code",
   "execution_count": 34,
   "id": "cb88f235",
   "metadata": {},
   "outputs": [],
   "source": [
    "# 後でモジュールにしたいので、必要なモジュールとともに関数化しておく\n",
    "# 明らかに出力がおかしいので使わんほうがよさそう...?\n",
    "import numpy as np\n",
    "import pandas as pd\n",
    "from sklearn.model_selection import StratifiedKFold\n",
    "\n",
    "def holdout_ts_wo_smoothing(\n",
    "    train_df: pd.DataFrame,\n",
    "    categorical_col: str, # list[str]にもできるらしいがちょっと面倒なので今回は1つのみ\n",
    "    target_col: str,\n",
    "    n_splits: int = 5,\n",
    "    random_seed: int = 42,\n",
    ") -> pd.DataFrame:\n",
    "    \"\"\"\n",
    "    holdout法を用いたtarget encoding\n",
    "    cf. https://blog.amedama.jp/entry/target-mean-encoding-types\n",
    "    \n",
    "    Args:\n",
    "        train_df (pd.DataFrame): 学習データ\n",
    "        random_seed (int): 乱数シード\n",
    "\n",
    "    Returns:\n",
    "        pd.DataFrame: target encoding されたデータ\n",
    "    \"\"\"\n",
    "    # 生成した特徴量をいれるpd.Seriesを用意\n",
    "    generated_feature = pd.Series(\n",
    "        np.empty(train_df.shape[0]),\n",
    "        name=f\"{categorical_col}_target_encoded\",\n",
    "        index=train_df.index,\n",
    "    )\n",
    "\n",
    "    # sumとcountを計算\n",
    "    agg_df = train_df.groupby(categorical_col).agg({target_col: [\"sum\", \"count\"]})\n",
    "\n",
    "    # holdsオブジェクトを用意する\n",
    "    folds = StratifiedKFold(\n",
    "        n_splits=n_splits,\n",
    "        shuffle=True, random_state=random_seed,\n",
    "    )\n",
    "\n",
    "    # K-Foldでtarget encodingを行う\n",
    "    for _, holdout_idx in folds.split(train_df, train_df[target_col]):\n",
    "        # holdout法で分割\n",
    "        holdout_df = train_df.iloc[holdout_idx]\n",
    "\n",
    "        # holdoutしたデータのsumとcountを取得\n",
    "        holdout_agg_df = holdout_df.groupby(categorical_col).agg({target_col: [\"sum\", \"count\"]})\n",
    "\n",
    "        # 全体のsumとcountからholdoutしたデータのsumとcountを引く\n",
    "        train_agg_df = agg_df - holdout_agg_df\n",
    "\n",
    "        # holdoutしたデータの平均を計算\n",
    "        # 分母に1を足しているのは、分母が0になるのを防ぐため\n",
    "        holdout_mean = holdout_df.apply(\n",
    "            lambda row:\n",
    "            train_agg_df.loc[row[categorical_col]][(target_col, \"sum\")] / (1 + train_agg_df.loc[row[categorical_col]][(target_col, \"count\")]),\n",
    "            axis=1,\n",
    "        )\n",
    "\n",
    "        # 計算値を格納してreturn用のpd.Seriesに追加\n",
    "        generated_feature[holdout_idx] = holdout_mean\n",
    "\n",
    "        return generated_feature\n"
   ]
  },
  {
   "cell_type": "code",
   "execution_count": 42,
   "id": "e4441f06",
   "metadata": {},
   "outputs": [
    {
     "name": "stdout",
     "output_type": "stream",
     "text": [
      "Correlation between the new feature, CustomerId_Kfold_Target_Enc and, Exited is nan.\n"
     ]
    },
    {
     "data": {
      "text/plain": [
       "10758"
      ]
     },
     "execution_count": 42,
     "metadata": {},
     "output_type": "execute_result"
    }
   ],
   "source": [
    "targetc = KFoldTargetEncoderTrain(\n",
    "    \"CustomerId\",\n",
    "    \"Exited\",\n",
    "    n_fold=5,\n",
    ")\n",
    "new_train_df = targetc.fit_transform(train_df)\n",
    "new_train_df[\"CustomerId_Kfold_Target_Enc\"].isnull().sum()"
   ]
  },
  {
   "cell_type": "markdown",
   "id": "a053c7e2",
   "metadata": {},
   "source": [
    "### 不要なカラムを削除し、one-hot encodingを行う"
   ]
  },
  {
   "cell_type": "code",
   "execution_count": 5,
   "id": "ee632511",
   "metadata": {
    "execution": {
     "iopub.execute_input": "2024-06-09T12:19:01.079763Z",
     "iopub.status.busy": "2024-06-09T12:19:01.079270Z",
     "iopub.status.idle": "2024-06-09T12:19:01.162184Z",
     "shell.execute_reply": "2024-06-09T12:19:01.160696Z"
    },
    "papermill": {
     "duration": 0.092391,
     "end_time": "2024-06-09T12:19:01.165028",
     "exception": false,
     "start_time": "2024-06-09T12:19:01.072637",
     "status": "completed"
    },
    "tags": []
   },
   "outputs": [],
   "source": [
    "# 特徴量。Surname, id, CustomerIDは削除\n",
    "X_train_df = new_train_df.drop(\n",
    "    [TARGET_COULMN_NAME] + DROP_COLUMNS,\n",
    "    axis=1,\n",
    ") \n",
    "# one-hot encoding\n",
    "X_train_df = pd.get_dummies(\n",
    "    X_train_df,\n",
    "    columns=ONE_HOT_ENCODING_COLUMNS,\n",
    ")\n",
    "# 目的変数\n",
    "y_train_df = new_train_df[TARGET_COULMN_NAME]"
   ]
  },
  {
   "cell_type": "code",
   "execution_count": 6,
   "id": "f49785b6",
   "metadata": {
    "execution": {
     "iopub.execute_input": "2024-06-09T12:19:01.177754Z",
     "iopub.status.busy": "2024-06-09T12:19:01.177193Z",
     "iopub.status.idle": "2024-06-09T12:19:01.514056Z",
     "shell.execute_reply": "2024-06-09T12:19:01.512590Z"
    },
    "papermill": {
     "duration": 0.346641,
     "end_time": "2024-06-09T12:19:01.517077",
     "exception": false,
     "start_time": "2024-06-09T12:19:01.170436",
     "status": "completed"
    },
    "tags": []
   },
   "outputs": [],
   "source": [
    "# テストデータの読み込み\n",
    "test_df =  pd.read_csv(\"../input/tdse-inclass-competition-0/test.csv\")\n",
    "# 学習データに合わせて特徴量を加工\n",
    "X_test_df = test_df.drop(\n",
    "    DROP_COLUMNS,\n",
    "    axis=1,\n",
    ")\n",
    "# one-hot encoding\n",
    "X_test_df = pd.get_dummies(\n",
    "    X_test_df,\n",
    "    columns=ONE_HOT_ENCODING_COLUMNS,\n",
    ")"
   ]
  },
  {
   "cell_type": "markdown",
   "id": "aab495f9",
   "metadata": {},
   "source": [
    "## optunaを用いて最適なモデルを探索する\n",
    "ベストモデルは `model_path` にpklで吐き出される。"
   ]
  },
  {
   "cell_type": "code",
   "execution_count": 7,
   "id": "502e8f4c",
   "metadata": {
    "execution": {
     "iopub.execute_input": "2024-06-09T12:19:01.530649Z",
     "iopub.status.busy": "2024-06-09T12:19:01.530137Z",
     "iopub.status.idle": "2024-06-09T12:19:42.926137Z",
     "shell.execute_reply": "2024-06-09T12:19:42.924779Z"
    },
    "papermill": {
     "duration": 41.405895,
     "end_time": "2024-06-09T12:19:42.928962",
     "exception": false,
     "start_time": "2024-06-09T12:19:01.523067",
     "status": "completed"
    },
    "tags": []
   },
   "outputs": [
    {
     "name": "stderr",
     "output_type": "stream",
     "text": [
      "[I 2024-06-09 12:19:01,557] A new study created in memory with name: no-name-a87bbb15-73a4-4d7c-9d38-0acdf98c57b1\n",
      "[I 2024-06-09 12:19:06,222] Trial 0 finished with value: 0.8906585766695885 and parameters: {'num_leaves': 72, 'feature_fraction': 0.4965459520047268, 'bagging_fraction': 0.9197489785011838, 'bagging_freq': 7, 'min_child_samples': 70}. Best is trial 0 with value: 0.8906585766695885.\n",
      "[I 2024-06-09 12:19:10,442] Trial 1 finished with value: 0.8901515141480574 and parameters: {'num_leaves': 107, 'feature_fraction': 0.6047615543497963, 'bagging_fraction': 0.9419549661942973, 'bagging_freq': 7, 'min_child_samples': 73}. Best is trial 0 with value: 0.8906585766695885.\n",
      "[I 2024-06-09 12:19:15,026] Trial 2 finished with value: 0.8899683876178406 and parameters: {'num_leaves': 103, 'feature_fraction': 0.4404530930176988, 'bagging_fraction': 0.415308789645739, 'bagging_freq': 6, 'min_child_samples': 49}. Best is trial 0 with value: 0.8906585766695885.\n",
      "[I 2024-06-09 12:19:17,259] Trial 3 finished with value: 0.8904366045324602 and parameters: {'num_leaves': 33, 'feature_fraction': 0.8592754237945025, 'bagging_fraction': 0.4562746455763252, 'bagging_freq': 6, 'min_child_samples': 82}. Best is trial 0 with value: 0.8906585766695885.\n",
      "[I 2024-06-09 12:19:19,205] Trial 4 finished with value: 0.8906108426844812 and parameters: {'num_leaves': 24, 'feature_fraction': 0.7166651247902055, 'bagging_fraction': 0.40377967552483773, 'bagging_freq': 2, 'min_child_samples': 39}. Best is trial 0 with value: 0.8906585766695885.\n",
      "[I 2024-06-09 12:19:22,904] Trial 5 finished with value: 0.889563222722282 and parameters: {'num_leaves': 84, 'feature_fraction': 0.4817190465985218, 'bagging_fraction': 0.5762992822228078, 'bagging_freq': 6, 'min_child_samples': 6}. Best is trial 0 with value: 0.8906585766695885.\n",
      "[I 2024-06-09 12:19:25,781] Trial 6 finished with value: 0.8906995470983597 and parameters: {'num_leaves': 44, 'feature_fraction': 0.7988139459862174, 'bagging_fraction': 0.8647678140544163, 'bagging_freq': 2, 'min_child_samples': 71}. Best is trial 6 with value: 0.8906995470983597.\n",
      "[I 2024-06-09 12:19:30,924] Trial 7 finished with value: 0.8897944502522908 and parameters: {'num_leaves': 149, 'feature_fraction': 0.4619688299421943, 'bagging_fraction': 0.7495675189274063, 'bagging_freq': 1, 'min_child_samples': 94}. Best is trial 6 with value: 0.8906995470983597.\n",
      "[I 2024-06-09 12:19:36,393] Trial 8 finished with value: 0.888817575819991 and parameters: {'num_leaves': 131, 'feature_fraction': 0.6475462626119642, 'bagging_fraction': 0.4938350375802492, 'bagging_freq': 3, 'min_child_samples': 73}. Best is trial 6 with value: 0.8906995470983597.\n",
      "[I 2024-06-09 12:19:40,640] Trial 9 finished with value: 0.8900195213179238 and parameters: {'num_leaves': 119, 'feature_fraction': 0.608517295426071, 'bagging_fraction': 0.9287786656453497, 'bagging_freq': 3, 'min_child_samples': 72}. Best is trial 6 with value: 0.8906995470983597.\n"
     ]
    },
    {
     "name": "stdout",
     "output_type": "stream",
     "text": [
      "[LightGBM] [Info] Auto-choosing col-wise multi-threading, the overhead of testing was 0.015214 seconds.\n",
      "You can set `force_col_wise=true` to remove the overhead.\n",
      "[LightGBM] [Info] Total Bins 864\n",
      "[LightGBM] [Info] Number of data points in the train set: 132027, number of used features: 13\n",
      "[LightGBM] [Info] Start training from score 0.211820\n",
      "Best trial:\n",
      "  Value: 0.8906995470983597\n",
      "  Params: \n",
      "    num_leaves: 44\n",
      "    feature_fraction: 0.7988139459862174\n",
      "    bagging_fraction: 0.8647678140544163\n",
      "    bagging_freq: 2\n",
      "    min_child_samples: 71\n"
     ]
    },
    {
     "data": {
      "text/plain": [
       "<optuna.study.study.Study at 0x7f026dfa32b0>"
      ]
     },
     "execution_count": 7,
     "metadata": {},
     "output_type": "execute_result"
    }
   ],
   "source": [
    "my_optuna.optimize_lgbm_hyperparameters(\n",
    "    X_train_df,\n",
    "    y_train_df,\n",
    "    n_trials=100,\n",
    "    seed=RANDOM_SEED,\n",
    "    model_path=BEST_MODEL_PATH,\n",
    ")"
   ]
  },
  {
   "cell_type": "markdown",
   "id": "828f8b30",
   "metadata": {},
   "source": [
    "## モデルを読み込んで予測する"
   ]
  },
  {
   "cell_type": "code",
   "execution_count": 8,
   "id": "9da321fc",
   "metadata": {
    "execution": {
     "iopub.execute_input": "2024-06-09T12:19:42.944333Z",
     "iopub.status.busy": "2024-06-09T12:19:42.943922Z",
     "iopub.status.idle": "2024-06-09T12:19:42.953085Z",
     "shell.execute_reply": "2024-06-09T12:19:42.951839Z"
    },
    "papermill": {
     "duration": 0.019982,
     "end_time": "2024-06-09T12:19:42.955766",
     "exception": false,
     "start_time": "2024-06-09T12:19:42.935784",
     "status": "completed"
    },
    "tags": []
   },
   "outputs": [],
   "source": [
    "# モデルの読み込み\n",
    "with open(BEST_MODEL_PATH, 'rb') as f:\n",
    "    model = pickle.load(f)"
   ]
  },
  {
   "cell_type": "code",
   "execution_count": 9,
   "id": "7ef34c45",
   "metadata": {
    "execution": {
     "iopub.execute_input": "2024-06-09T12:19:42.971675Z",
     "iopub.status.busy": "2024-06-09T12:19:42.971245Z",
     "iopub.status.idle": "2024-06-09T12:19:43.226741Z",
     "shell.execute_reply": "2024-06-09T12:19:43.225189Z"
    },
    "papermill": {
     "duration": 0.266812,
     "end_time": "2024-06-09T12:19:43.229805",
     "exception": false,
     "start_time": "2024-06-09T12:19:42.962993",
     "status": "completed"
    },
    "tags": []
   },
   "outputs": [],
   "source": [
    "# テストデータに対する予測\n",
    "y_pred_np = model.predict(X_test_df)"
   ]
  },
  {
   "cell_type": "code",
   "execution_count": 10,
   "id": "2d2ac571",
   "metadata": {
    "execution": {
     "iopub.execute_input": "2024-06-09T12:19:43.245075Z",
     "iopub.status.busy": "2024-06-09T12:19:43.244686Z",
     "iopub.status.idle": "2024-06-09T12:19:43.252375Z",
     "shell.execute_reply": "2024-06-09T12:19:43.251220Z"
    },
    "papermill": {
     "duration": 0.018673,
     "end_time": "2024-06-09T12:19:43.255303",
     "exception": false,
     "start_time": "2024-06-09T12:19:43.236630",
     "status": "completed"
    },
    "tags": []
   },
   "outputs": [
    {
     "data": {
      "text/plain": [
       "array([0.02614879, 0.83100465, 0.03136564, ..., 0.0132961 , 0.17601305,\n",
       "       0.18078425])"
      ]
     },
     "execution_count": 10,
     "metadata": {},
     "output_type": "execute_result"
    }
   ],
   "source": [
    "y_pred_np"
   ]
  },
  {
   "cell_type": "code",
   "execution_count": 11,
   "id": "8d7a746e",
   "metadata": {
    "execution": {
     "iopub.execute_input": "2024-06-09T12:19:43.270963Z",
     "iopub.status.busy": "2024-06-09T12:19:43.270574Z",
     "iopub.status.idle": "2024-06-09T12:19:43.279100Z",
     "shell.execute_reply": "2024-06-09T12:19:43.277959Z"
    },
    "papermill": {
     "duration": 0.019679,
     "end_time": "2024-06-09T12:19:43.281933",
     "exception": false,
     "start_time": "2024-06-09T12:19:43.262254",
     "status": "completed"
    },
    "tags": []
   },
   "outputs": [],
   "source": [
    "# 提出用ファイルの作成\n",
    "submission_df = pd.DataFrame({\n",
    "    \"id\": test_df[\"id\"],\n",
    "    \"Exited\": y_pred_np,\n",
    "})"
   ]
  },
  {
   "cell_type": "code",
   "execution_count": 12,
   "id": "5596b13b",
   "metadata": {
    "execution": {
     "iopub.execute_input": "2024-06-09T12:19:43.297727Z",
     "iopub.status.busy": "2024-06-09T12:19:43.297185Z",
     "iopub.status.idle": "2024-06-09T12:19:43.313156Z",
     "shell.execute_reply": "2024-06-09T12:19:43.311783Z"
    },
    "papermill": {
     "duration": 0.026962,
     "end_time": "2024-06-09T12:19:43.315957",
     "exception": false,
     "start_time": "2024-06-09T12:19:43.288995",
     "status": "completed"
    },
    "tags": []
   },
   "outputs": [
    {
     "data": {
      "text/html": [
       "<div>\n",
       "<style scoped>\n",
       "    .dataframe tbody tr th:only-of-type {\n",
       "        vertical-align: middle;\n",
       "    }\n",
       "\n",
       "    .dataframe tbody tr th {\n",
       "        vertical-align: top;\n",
       "    }\n",
       "\n",
       "    .dataframe thead th {\n",
       "        text-align: right;\n",
       "    }\n",
       "</style>\n",
       "<table border=\"1\" class=\"dataframe\">\n",
       "  <thead>\n",
       "    <tr style=\"text-align: right;\">\n",
       "      <th></th>\n",
       "      <th>id</th>\n",
       "      <th>Exited</th>\n",
       "    </tr>\n",
       "  </thead>\n",
       "  <tbody>\n",
       "    <tr>\n",
       "      <th>0</th>\n",
       "      <td>165034</td>\n",
       "      <td>0.026149</td>\n",
       "    </tr>\n",
       "    <tr>\n",
       "      <th>1</th>\n",
       "      <td>165035</td>\n",
       "      <td>0.831005</td>\n",
       "    </tr>\n",
       "    <tr>\n",
       "      <th>2</th>\n",
       "      <td>165036</td>\n",
       "      <td>0.031366</td>\n",
       "    </tr>\n",
       "    <tr>\n",
       "      <th>3</th>\n",
       "      <td>165037</td>\n",
       "      <td>0.204602</td>\n",
       "    </tr>\n",
       "    <tr>\n",
       "      <th>4</th>\n",
       "      <td>165038</td>\n",
       "      <td>0.338391</td>\n",
       "    </tr>\n",
       "  </tbody>\n",
       "</table>\n",
       "</div>"
      ],
      "text/plain": [
       "       id    Exited\n",
       "0  165034  0.026149\n",
       "1  165035  0.831005\n",
       "2  165036  0.031366\n",
       "3  165037  0.204602\n",
       "4  165038  0.338391"
      ]
     },
     "execution_count": 12,
     "metadata": {},
     "output_type": "execute_result"
    }
   ],
   "source": [
    "submission_df.head()"
   ]
  },
  {
   "cell_type": "code",
   "execution_count": 13,
   "id": "76633fe6",
   "metadata": {
    "execution": {
     "iopub.execute_input": "2024-06-09T12:19:43.332267Z",
     "iopub.status.busy": "2024-06-09T12:19:43.331879Z",
     "iopub.status.idle": "2024-06-09T12:19:43.714081Z",
     "shell.execute_reply": "2024-06-09T12:19:43.712833Z"
    },
    "papermill": {
     "duration": 0.393915,
     "end_time": "2024-06-09T12:19:43.717116",
     "exception": false,
     "start_time": "2024-06-09T12:19:43.323201",
     "status": "completed"
    },
    "tags": []
   },
   "outputs": [],
   "source": [
    "submission_df.to_csv(\"submission.csv\", index=False)"
   ]
  }
 ],
 "metadata": {
  "kaggle": {
   "accelerator": "none",
   "dataSources": [
    {
     "databundleVersionId": 8428413,
     "sourceId": 77360,
     "sourceType": "competition"
    },
    {
     "datasetId": 5178796,
     "sourceId": 8647126,
     "sourceType": "datasetVersion"
    }
   ],
   "dockerImageVersionId": 30732,
   "isGpuEnabled": false,
   "isInternetEnabled": true,
   "language": "python",
   "sourceType": "notebook"
  },
  "kernelspec": {
   "display_name": "Python 3",
   "language": "python",
   "name": "python3"
  },
  "language_info": {
   "codemirror_mode": {
    "name": "ipython",
    "version": 3
   },
   "file_extension": ".py",
   "mimetype": "text/x-python",
   "name": "python",
   "nbconvert_exporter": "python",
   "pygments_lexer": "ipython3",
   "version": "3.10.13"
  },
  "papermill": {
   "default_parameters": {},
   "duration": 51.354031,
   "end_time": "2024-06-09T12:19:44.547429",
   "environment_variables": {},
   "exception": null,
   "input_path": "__notebook__.ipynb",
   "output_path": "__notebook__.ipynb",
   "parameters": {},
   "start_time": "2024-06-09T12:18:53.193398",
   "version": "2.5.0"
  }
 },
 "nbformat": 4,
 "nbformat_minor": 5
}
