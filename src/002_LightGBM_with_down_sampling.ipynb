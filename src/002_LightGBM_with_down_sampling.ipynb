{
 "cells": [
  {
   "cell_type": "code",
   "execution_count": 1,
   "id": "1e270f86",
   "metadata": {
    "_cell_guid": "b1076dfc-b9ad-4769-8c92-a6c4dae69d19",
    "_uuid": "8f2839f25d086af736a60e9eeb907d3b93b6e0e5",
    "execution": {
     "iopub.execute_input": "2024-06-09T11:11:49.215291Z",
     "iopub.status.busy": "2024-06-09T11:11:49.214890Z",
     "iopub.status.idle": "2024-06-09T11:11:52.635798Z",
     "shell.execute_reply": "2024-06-09T11:11:52.634814Z"
    },
    "papermill": {
     "duration": 3.430466,
     "end_time": "2024-06-09T11:11:52.638729",
     "exception": false,
     "start_time": "2024-06-09T11:11:49.208263",
     "status": "completed"
    },
    "tags": []
   },
   "outputs": [],
   "source": [
    "import numpy as np # 今回は明示的には使わない\n",
    "import pandas as pd # data processing, CSV file I/O (e.g. pd.read_csv)\n",
    "import lightgbm as lgb # LightGBM でモデルを作成する\n",
    "from sklearn.metrics import accuracy_score, roc_auc_score #精度評価に使用"
   ]
  },
  {
   "cell_type": "code",
   "execution_count": 3,
   "id": "1964736e",
   "metadata": {
    "execution": {
     "iopub.execute_input": "2024-06-09T11:11:52.650658Z",
     "iopub.status.busy": "2024-06-09T11:11:52.649439Z",
     "iopub.status.idle": "2024-06-09T11:11:52.664191Z",
     "shell.execute_reply": "2024-06-09T11:11:52.663119Z"
    },
    "papermill": {
     "duration": 0.023378,
     "end_time": "2024-06-09T11:11:52.667033",
     "exception": false,
     "start_time": "2024-06-09T11:11:52.643655",
     "status": "completed"
    },
    "tags": []
   },
   "outputs": [],
   "source": [
    "# 自作のモジュールを読み込み\n",
    "# 自作のプロット用モジュールを読み込む\n",
    "import sys\n",
    "sys.path.append(\"../input/modeling-and-evaluation/\")\n",
    "import down_sampling_wrt_dist as my_downsampling"
   ]
  },
  {
   "cell_type": "code",
   "execution_count": 3,
   "id": "fc24fb58",
   "metadata": {
    "execution": {
     "iopub.execute_input": "2024-06-09T11:11:52.678321Z",
     "iopub.status.busy": "2024-06-09T11:11:52.677370Z",
     "iopub.status.idle": "2024-06-09T11:11:52.683463Z",
     "shell.execute_reply": "2024-06-09T11:11:52.682320Z"
    },
    "papermill": {
     "duration": 0.014343,
     "end_time": "2024-06-09T11:11:52.685998",
     "exception": false,
     "start_time": "2024-06-09T11:11:52.671655",
     "status": "completed"
    },
    "tags": []
   },
   "outputs": [],
   "source": [
    "# 各種定数の定義\n",
    "# 乱数シード\n",
    "RANDOM_SEED = 42\n",
    "# target となる特徴量\n",
    "TARGET_COULMN_NAME = \"Exited\"\n",
    "# 削除する特徴量のリスト\n",
    "DROP_COLUMNS = [\"id\", \"CustomerId\", \"Surname\"]\n",
    "# one-hot encoding する特徴量のリスト\n",
    "ONE_HOT_ENCODING_COLUMNS = [\"Geography\", \"Gender\"]"
   ]
  },
  {
   "cell_type": "code",
   "execution_count": 4,
   "id": "bf861b2a",
   "metadata": {
    "execution": {
     "iopub.execute_input": "2024-06-09T11:11:52.697396Z",
     "iopub.status.busy": "2024-06-09T11:11:52.696376Z",
     "iopub.status.idle": "2024-06-09T11:11:53.610869Z",
     "shell.execute_reply": "2024-06-09T11:11:53.609929Z"
    },
    "papermill": {
     "duration": 0.923162,
     "end_time": "2024-06-09T11:11:53.613687",
     "exception": false,
     "start_time": "2024-06-09T11:11:52.690525",
     "status": "completed"
    },
    "tags": []
   },
   "outputs": [],
   "source": [
    "# 学習データの読み込み\n",
    "train_df =  pd.read_csv(\"../input/tdse-inclass-competition-0/train.csv\")\n",
    "# 特徴量。Surname, id, CustomerIDは削除\n",
    "X_train_df = train_df.drop(\n",
    "    [TARGET_COULMN_NAME] + DROP_COLUMNS,\n",
    "    axis=1,\n",
    ") \n",
    "# one-hot encoding\n",
    "X_train_df = pd.get_dummies(\n",
    "    X_train_df,\n",
    "    columns=ONE_HOT_ENCODING_COLUMNS,\n",
    ")\n",
    "# 目的変数\n",
    "y_train_df = train_df[TARGET_COULMN_NAME]\n",
    "\n",
    "# テストデータの読み込み\n",
    "test_df =  pd.read_csv(\"../input/tdse-inclass-competition-0/test.csv\")\n",
    "# 学習データに合わせて特徴量を加工\n",
    "X_test_df = test_df.drop(\n",
    "    DROP_COLUMNS,\n",
    "    axis=1,\n",
    ")\n",
    "# one-hot encoding\n",
    "X_test_df = pd.get_dummies(\n",
    "    X_test_df,\n",
    "    columns=ONE_HOT_ENCODING_COLUMNS,\n",
    ")\n",
    "\n",
    "# LightGBM用のデータセット作成\n",
    "train_data = lgb.Dataset(X_train_df, label=y_train_df)"
   ]
  },
  {
   "cell_type": "code",
   "execution_count": 5,
   "id": "cd17000a",
   "metadata": {
    "execution": {
     "iopub.execute_input": "2024-06-09T11:11:53.624637Z",
     "iopub.status.busy": "2024-06-09T11:11:53.624207Z",
     "iopub.status.idle": "2024-06-09T11:11:56.217315Z",
     "shell.execute_reply": "2024-06-09T11:11:56.216357Z"
    },
    "papermill": {
     "duration": 2.601787,
     "end_time": "2024-06-09T11:11:56.220124",
     "exception": false,
     "start_time": "2024-06-09T11:11:53.618337",
     "status": "completed"
    },
    "tags": []
   },
   "outputs": [
    {
     "name": "stdout",
     "output_type": "stream",
     "text": [
      "[LightGBM] [Warning] seed is set=42, random_state=42 will be ignored. Current value: seed=42\n",
      "[LightGBM] [Warning] seed is set=42, random_state=42 will be ignored. Current value: seed=42\n"
     ]
    }
   ],
   "source": [
    "# モデルのパラメータ設定\n",
    "params = {\n",
    "    \"objective\": \"binary\", # 2値分類\n",
    "    \"metric\": \"auc\", # 評価指標は AUC under ROC curve\n",
    "    \"boosting_type\": \"gbdt\", # 勾配ブースティング\n",
    "    \"learning_rate\": 0.05, # 学習率\n",
    "    \"num_leaves\": 31, # ノード数\n",
    "    \"feature_fraction\": 0.9, # 各ツリーを作成する際の特徴量の使用割合\n",
    "    \"bagging_fraction\": 0.8, # 各ツリーを作成する際のデータの使用割合\n",
    "    \"bagging_freq\": 5, # バギング (データサンプリング) を行う頻度。5 なら 5回に1回バギングを行う\n",
    "    \"verbose\": 0, # 学習中のログ出力の詳細度。0 なら何も出力しない\n",
    "    \"seed\": RANDOM_SEED, # モデル全体の乱数シード\n",
    "    \"random_state\": RANDOM_SEED, # モデル全体の乱数シード\n",
    "    \"bagging_seed\": RANDOM_SEED, # バギングの乱数シード\n",
    "    \"feature_fraction_seed\": RANDOM_SEED, # 特徴量の使用割合の乱数シード\n",
    "}\n",
    "\n",
    "# モデルのトレーニング\n",
    "model = lgb.train(\n",
    "    params,\n",
    "    train_data,\n",
    ")"
   ]
  },
  {
   "cell_type": "code",
   "execution_count": 6,
   "id": "bae26142",
   "metadata": {
    "execution": {
     "iopub.execute_input": "2024-06-09T11:11:56.231320Z",
     "iopub.status.busy": "2024-06-09T11:11:56.230921Z",
     "iopub.status.idle": "2024-06-09T11:11:56.488350Z",
     "shell.execute_reply": "2024-06-09T11:11:56.487111Z"
    },
    "papermill": {
     "duration": 0.26705,
     "end_time": "2024-06-09T11:11:56.491912",
     "exception": false,
     "start_time": "2024-06-09T11:11:56.224862",
     "status": "completed"
    },
    "tags": []
   },
   "outputs": [],
   "source": [
    "# テストデータに対する予測\n",
    "y_pred_np = model.predict(X_test_df)"
   ]
  },
  {
   "cell_type": "code",
   "execution_count": 7,
   "id": "661d53c9",
   "metadata": {
    "execution": {
     "iopub.execute_input": "2024-06-09T11:11:56.512107Z",
     "iopub.status.busy": "2024-06-09T11:11:56.511141Z",
     "iopub.status.idle": "2024-06-09T11:11:56.522117Z",
     "shell.execute_reply": "2024-06-09T11:11:56.520876Z"
    },
    "papermill": {
     "duration": 0.027215,
     "end_time": "2024-06-09T11:11:56.524731",
     "exception": false,
     "start_time": "2024-06-09T11:11:56.497516",
     "status": "completed"
    },
    "tags": []
   },
   "outputs": [
    {
     "data": {
      "text/plain": [
       "array([0.02178167, 0.82723524, 0.03169923, ..., 0.02148697, 0.14932025,\n",
       "       0.19633735])"
      ]
     },
     "execution_count": 7,
     "metadata": {},
     "output_type": "execute_result"
    }
   ],
   "source": [
    "y_pred_np"
   ]
  },
  {
   "cell_type": "code",
   "execution_count": 8,
   "id": "25ba7d1c",
   "metadata": {
    "execution": {
     "iopub.execute_input": "2024-06-09T11:11:56.537080Z",
     "iopub.status.busy": "2024-06-09T11:11:56.536532Z",
     "iopub.status.idle": "2024-06-09T11:11:56.543851Z",
     "shell.execute_reply": "2024-06-09T11:11:56.542759Z"
    },
    "papermill": {
     "duration": 0.01651,
     "end_time": "2024-06-09T11:11:56.546225",
     "exception": false,
     "start_time": "2024-06-09T11:11:56.529715",
     "status": "completed"
    },
    "tags": []
   },
   "outputs": [],
   "source": [
    "# 提出用ファイルの作成\n",
    "submission_df = pd.DataFrame({\n",
    "    \"id\": test_df[\"id\"],\n",
    "    \"Exited\": y_pred_np,\n",
    "})"
   ]
  },
  {
   "cell_type": "code",
   "execution_count": 9,
   "id": "f0daa241",
   "metadata": {
    "execution": {
     "iopub.execute_input": "2024-06-09T11:11:56.557539Z",
     "iopub.status.busy": "2024-06-09T11:11:56.557124Z",
     "iopub.status.idle": "2024-06-09T11:11:56.573982Z",
     "shell.execute_reply": "2024-06-09T11:11:56.572944Z"
    },
    "papermill": {
     "duration": 0.02537,
     "end_time": "2024-06-09T11:11:56.576473",
     "exception": false,
     "start_time": "2024-06-09T11:11:56.551103",
     "status": "completed"
    },
    "tags": []
   },
   "outputs": [
    {
     "data": {
      "text/html": [
       "<div>\n",
       "<style scoped>\n",
       "    .dataframe tbody tr th:only-of-type {\n",
       "        vertical-align: middle;\n",
       "    }\n",
       "\n",
       "    .dataframe tbody tr th {\n",
       "        vertical-align: top;\n",
       "    }\n",
       "\n",
       "    .dataframe thead th {\n",
       "        text-align: right;\n",
       "    }\n",
       "</style>\n",
       "<table border=\"1\" class=\"dataframe\">\n",
       "  <thead>\n",
       "    <tr style=\"text-align: right;\">\n",
       "      <th></th>\n",
       "      <th>id</th>\n",
       "      <th>Exited</th>\n",
       "    </tr>\n",
       "  </thead>\n",
       "  <tbody>\n",
       "    <tr>\n",
       "      <th>0</th>\n",
       "      <td>165034</td>\n",
       "      <td>0.021782</td>\n",
       "    </tr>\n",
       "    <tr>\n",
       "      <th>1</th>\n",
       "      <td>165035</td>\n",
       "      <td>0.827235</td>\n",
       "    </tr>\n",
       "    <tr>\n",
       "      <th>2</th>\n",
       "      <td>165036</td>\n",
       "      <td>0.031699</td>\n",
       "    </tr>\n",
       "    <tr>\n",
       "      <th>3</th>\n",
       "      <td>165037</td>\n",
       "      <td>0.237529</td>\n",
       "    </tr>\n",
       "    <tr>\n",
       "      <th>4</th>\n",
       "      <td>165038</td>\n",
       "      <td>0.337693</td>\n",
       "    </tr>\n",
       "  </tbody>\n",
       "</table>\n",
       "</div>"
      ],
      "text/plain": [
       "       id    Exited\n",
       "0  165034  0.021782\n",
       "1  165035  0.827235\n",
       "2  165036  0.031699\n",
       "3  165037  0.237529\n",
       "4  165038  0.337693"
      ]
     },
     "execution_count": 9,
     "metadata": {},
     "output_type": "execute_result"
    }
   ],
   "source": [
    "submission_df.head()"
   ]
  },
  {
   "cell_type": "code",
   "execution_count": 10,
   "id": "ce50f65c",
   "metadata": {
    "execution": {
     "iopub.execute_input": "2024-06-09T11:11:56.588793Z",
     "iopub.status.busy": "2024-06-09T11:11:56.588379Z",
     "iopub.status.idle": "2024-06-09T11:11:56.965829Z",
     "shell.execute_reply": "2024-06-09T11:11:56.964830Z"
    },
    "papermill": {
     "duration": 0.387192,
     "end_time": "2024-06-09T11:11:56.968791",
     "exception": false,
     "start_time": "2024-06-09T11:11:56.581599",
     "status": "completed"
    },
    "tags": []
   },
   "outputs": [],
   "source": [
    "submission_df.to_csv(\"submission.csv\", index=False)"
   ]
  }
 ],
 "metadata": {
  "kaggle": {
   "accelerator": "none",
   "dataSources": [
    {
     "databundleVersionId": 8428413,
     "sourceId": 77360,
     "sourceType": "competition"
    },
    {
     "datasetId": 5178796,
     "sourceId": 8646577,
     "sourceType": "datasetVersion"
    }
   ],
   "dockerImageVersionId": 30732,
   "isGpuEnabled": false,
   "isInternetEnabled": true,
   "language": "python",
   "sourceType": "notebook"
  },
  "kernelspec": {
   "display_name": "Python 3",
   "language": "python",
   "name": "python3"
  },
  "language_info": {
   "codemirror_mode": {
    "name": "ipython",
    "version": 3
   },
   "file_extension": ".py",
   "mimetype": "text/x-python",
   "name": "python",
   "nbconvert_exporter": "python",
   "pygments_lexer": "ipython3",
   "version": "3.10.2"
  },
  "papermill": {
   "default_parameters": {},
   "duration": 11.489494,
   "end_time": "2024-06-09T11:11:57.696432",
   "environment_variables": {},
   "exception": null,
   "input_path": "__notebook__.ipynb",
   "output_path": "__notebook__.ipynb",
   "parameters": {},
   "start_time": "2024-06-09T11:11:46.206938",
   "version": "2.5.0"
  }
 },
 "nbformat": 4,
 "nbformat_minor": 5
}
