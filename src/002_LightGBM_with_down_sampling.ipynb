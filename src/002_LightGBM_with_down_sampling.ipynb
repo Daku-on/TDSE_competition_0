{
 "cells": [
  {
   "cell_type": "code",
   "execution_count": 1,
   "id": "1e270f86",
   "metadata": {
    "_cell_guid": "b1076dfc-b9ad-4769-8c92-a6c4dae69d19",
    "_uuid": "8f2839f25d086af736a60e9eeb907d3b93b6e0e5",
    "execution": {
     "iopub.execute_input": "2024-06-09T11:11:49.215291Z",
     "iopub.status.busy": "2024-06-09T11:11:49.214890Z",
     "iopub.status.idle": "2024-06-09T11:11:52.635798Z",
     "shell.execute_reply": "2024-06-09T11:11:52.634814Z"
    },
    "papermill": {
     "duration": 3.430466,
     "end_time": "2024-06-09T11:11:52.638729",
     "exception": false,
     "start_time": "2024-06-09T11:11:49.208263",
     "status": "completed"
    },
    "tags": []
   },
   "outputs": [],
   "source": [
    "import numpy as np # 今回は明示的には使わない\n",
    "import pandas as pd # data processing, CSV file I/O (e.g. pd.read_csv)\n",
    "import lightgbm as lgb # LightGBM でモデルを作成する\n",
    "from sklearn.metrics import accuracy_score, roc_auc_score #精度評価に使用"
   ]
  },
  {
   "cell_type": "code",
   "execution_count": 2,
   "id": "1964736e",
   "metadata": {
    "execution": {
     "iopub.execute_input": "2024-06-09T11:11:52.650658Z",
     "iopub.status.busy": "2024-06-09T11:11:52.649439Z",
     "iopub.status.idle": "2024-06-09T11:11:52.664191Z",
     "shell.execute_reply": "2024-06-09T11:11:52.663119Z"
    },
    "papermill": {
     "duration": 0.023378,
     "end_time": "2024-06-09T11:11:52.667033",
     "exception": false,
     "start_time": "2024-06-09T11:11:52.643655",
     "status": "completed"
    },
    "tags": []
   },
   "outputs": [],
   "source": [
    "# 自作のモジュールを読み込み\n",
    "# 自作のプロット用モジュールを読み込む\n",
    "import sys\n",
    "sys.path.append(\"../input/modeling-and-evaluation/\")\n",
    "import down_sampling as my_downsampling"
   ]
  },
  {
   "cell_type": "code",
   "execution_count": 3,
   "id": "fc24fb58",
   "metadata": {
    "execution": {
     "iopub.execute_input": "2024-06-09T11:11:52.678321Z",
     "iopub.status.busy": "2024-06-09T11:11:52.677370Z",
     "iopub.status.idle": "2024-06-09T11:11:52.683463Z",
     "shell.execute_reply": "2024-06-09T11:11:52.682320Z"
    },
    "papermill": {
     "duration": 0.014343,
     "end_time": "2024-06-09T11:11:52.685998",
     "exception": false,
     "start_time": "2024-06-09T11:11:52.671655",
     "status": "completed"
    },
    "tags": []
   },
   "outputs": [],
   "source": [
    "# 各種定数の定義\n",
    "# 乱数シード\n",
    "RANDOM_SEED = 42\n",
    "# target となる特徴量\n",
    "TARGET_COULMN_NAME = \"Exited\"\n",
    "# 削除する特徴量のリスト\n",
    "DROP_COLUMNS = [\"id\", \"CustomerId\", \"Surname\"]\n",
    "# one-hot encoding する特徴量のリスト\n",
    "ONE_HOT_ENCODING_COLUMNS = [\"Geography\", \"Gender\"]"
   ]
  },
  {
   "cell_type": "code",
   "execution_count": 4,
   "id": "bf861b2a",
   "metadata": {
    "execution": {
     "iopub.execute_input": "2024-06-09T11:11:52.697396Z",
     "iopub.status.busy": "2024-06-09T11:11:52.696376Z",
     "iopub.status.idle": "2024-06-09T11:11:53.610869Z",
     "shell.execute_reply": "2024-06-09T11:11:53.609929Z"
    },
    "papermill": {
     "duration": 0.923162,
     "end_time": "2024-06-09T11:11:53.613687",
     "exception": false,
     "start_time": "2024-06-09T11:11:52.690525",
     "status": "completed"
    },
    "tags": []
   },
   "outputs": [],
   "source": [
    "# 学習データの読み込み\n",
    "train_df =  pd.read_csv(\"../input/tdse-inclass-competition-0/train.csv\")"
   ]
  },
  {
   "cell_type": "code",
   "execution_count": 5,
   "id": "c75b8299",
   "metadata": {},
   "outputs": [
    {
     "name": "stdout",
     "output_type": "stream",
     "text": [
      "Exited\n",
      "0    130113\n",
      "1     34921\n",
      "Name: count, dtype: int64\n"
     ]
    }
   ],
   "source": [
    "# down sampling\n",
    "train_df = my_downsampling.downsampling(\n",
    "    train_df,\n",
    "    TARGET_COULMN_NAME,\n",
    "    majority_query=\"Exited == 0\",\n",
    "    random_seed=RANDOM_SEED,\n",
    ")"
   ]
  },
  {
   "cell_type": "code",
   "execution_count": 6,
   "id": "40877f88",
   "metadata": {},
   "outputs": [],
   "source": [
    "# 特徴量。Surname, id, CustomerIDは削除\n",
    "X_train_df = train_df.drop(\n",
    "    [TARGET_COULMN_NAME] + DROP_COLUMNS,\n",
    "    axis=1,\n",
    ") \n",
    "# one-hot encoding\n",
    "X_train_df = pd.get_dummies(\n",
    "    X_train_df,\n",
    "    columns=ONE_HOT_ENCODING_COLUMNS,\n",
    ")\n",
    "# 目的変数\n",
    "y_train_df = train_df[TARGET_COULMN_NAME]\n",
    "\n",
    "# テストデータの読み込み\n",
    "test_df =  pd.read_csv(\"../input/tdse-inclass-competition-0/test.csv\")\n",
    "# 学習データに合わせて特徴量を加工\n",
    "X_test_df = test_df.drop(\n",
    "    DROP_COLUMNS,\n",
    "    axis=1,\n",
    ")\n",
    "# one-hot encoding\n",
    "X_test_df = pd.get_dummies(\n",
    "    X_test_df,\n",
    "    columns=ONE_HOT_ENCODING_COLUMNS,\n",
    ")"
   ]
  },
  {
   "cell_type": "code",
   "execution_count": 11,
   "id": "dc1052db",
   "metadata": {},
   "outputs": [],
   "source": [
    "# LightGBM用のデータセット作成\n",
    "train_data = lgb.Dataset(X_train_df, label=y_train_df)"
   ]
  },
  {
   "cell_type": "code",
   "execution_count": 12,
   "id": "cd17000a",
   "metadata": {
    "execution": {
     "iopub.execute_input": "2024-06-09T11:11:53.624637Z",
     "iopub.status.busy": "2024-06-09T11:11:53.624207Z",
     "iopub.status.idle": "2024-06-09T11:11:56.217315Z",
     "shell.execute_reply": "2024-06-09T11:11:56.216357Z"
    },
    "papermill": {
     "duration": 2.601787,
     "end_time": "2024-06-09T11:11:56.220124",
     "exception": false,
     "start_time": "2024-06-09T11:11:53.618337",
     "status": "completed"
    },
    "tags": []
   },
   "outputs": [
    {
     "ename": "ValueError",
     "evalue": "Input data must be 2 dimensional and non empty.",
     "output_type": "error",
     "traceback": [
      "\u001b[0;31m---------------------------------------------------------------------------\u001b[0m",
      "\u001b[0;31mValueError\u001b[0m                                Traceback (most recent call last)",
      "Cell \u001b[0;32mIn[12], line 19\u001b[0m\n\u001b[1;32m      2\u001b[0m params \u001b[38;5;241m=\u001b[39m {\n\u001b[1;32m      3\u001b[0m     \u001b[38;5;124m\"\u001b[39m\u001b[38;5;124mobjective\u001b[39m\u001b[38;5;124m\"\u001b[39m: \u001b[38;5;124m\"\u001b[39m\u001b[38;5;124mbinary\u001b[39m\u001b[38;5;124m\"\u001b[39m, \u001b[38;5;66;03m# 2値分類\u001b[39;00m\n\u001b[1;32m      4\u001b[0m     \u001b[38;5;124m\"\u001b[39m\u001b[38;5;124mmetric\u001b[39m\u001b[38;5;124m\"\u001b[39m: \u001b[38;5;124m\"\u001b[39m\u001b[38;5;124mauc\u001b[39m\u001b[38;5;124m\"\u001b[39m, \u001b[38;5;66;03m# 評価指標は AUC under ROC curve\u001b[39;00m\n\u001b[0;32m   (...)\u001b[0m\n\u001b[1;32m     15\u001b[0m     \u001b[38;5;124m\"\u001b[39m\u001b[38;5;124mfeature_fraction_seed\u001b[39m\u001b[38;5;124m\"\u001b[39m: RANDOM_SEED, \u001b[38;5;66;03m# 特徴量の使用割合の乱数シード\u001b[39;00m\n\u001b[1;32m     16\u001b[0m }\n\u001b[1;32m     18\u001b[0m \u001b[38;5;66;03m# モデルのトレーニング\u001b[39;00m\n\u001b[0;32m---> 19\u001b[0m model \u001b[38;5;241m=\u001b[39m \u001b[43mlgb\u001b[49m\u001b[38;5;241;43m.\u001b[39;49m\u001b[43mtrain\u001b[49m\u001b[43m(\u001b[49m\n\u001b[1;32m     20\u001b[0m \u001b[43m    \u001b[49m\u001b[43mparams\u001b[49m\u001b[43m,\u001b[49m\n\u001b[1;32m     21\u001b[0m \u001b[43m    \u001b[49m\u001b[43mtrain_data\u001b[49m\u001b[43m,\u001b[49m\n\u001b[1;32m     22\u001b[0m \u001b[43m)\u001b[49m\n",
      "File \u001b[0;32m~/Desktop/GitHub/TDSE_competition_0/.venv/lib/python3.10/site-packages/lightgbm/engine.py:255\u001b[0m, in \u001b[0;36mtrain\u001b[0;34m(params, train_set, num_boost_round, valid_sets, valid_names, feval, init_model, feature_name, categorical_feature, keep_training_booster, callbacks)\u001b[0m\n\u001b[1;32m    253\u001b[0m \u001b[38;5;66;03m# construct booster\u001b[39;00m\n\u001b[1;32m    254\u001b[0m \u001b[38;5;28;01mtry\u001b[39;00m:\n\u001b[0;32m--> 255\u001b[0m     booster \u001b[38;5;241m=\u001b[39m \u001b[43mBooster\u001b[49m\u001b[43m(\u001b[49m\u001b[43mparams\u001b[49m\u001b[38;5;241;43m=\u001b[39;49m\u001b[43mparams\u001b[49m\u001b[43m,\u001b[49m\u001b[43m \u001b[49m\u001b[43mtrain_set\u001b[49m\u001b[38;5;241;43m=\u001b[39;49m\u001b[43mtrain_set\u001b[49m\u001b[43m)\u001b[49m\n\u001b[1;32m    256\u001b[0m     \u001b[38;5;28;01mif\u001b[39;00m is_valid_contain_train:\n\u001b[1;32m    257\u001b[0m         booster\u001b[38;5;241m.\u001b[39mset_train_data_name(train_data_name)\n",
      "File \u001b[0;32m~/Desktop/GitHub/TDSE_competition_0/.venv/lib/python3.10/site-packages/lightgbm/basic.py:3433\u001b[0m, in \u001b[0;36mBooster.__init__\u001b[0;34m(self, params, train_set, model_file, model_str)\u001b[0m\n\u001b[1;32m   3426\u001b[0m     \u001b[38;5;28mself\u001b[39m\u001b[38;5;241m.\u001b[39mset_network(\n\u001b[1;32m   3427\u001b[0m         machines\u001b[38;5;241m=\u001b[39mmachines,\n\u001b[1;32m   3428\u001b[0m         local_listen_port\u001b[38;5;241m=\u001b[39mparams[\u001b[38;5;124m\"\u001b[39m\u001b[38;5;124mlocal_listen_port\u001b[39m\u001b[38;5;124m\"\u001b[39m],\n\u001b[1;32m   3429\u001b[0m         listen_time_out\u001b[38;5;241m=\u001b[39mparams\u001b[38;5;241m.\u001b[39mget(\u001b[38;5;124m\"\u001b[39m\u001b[38;5;124mtime_out\u001b[39m\u001b[38;5;124m\"\u001b[39m, \u001b[38;5;241m120\u001b[39m),\n\u001b[1;32m   3430\u001b[0m         num_machines\u001b[38;5;241m=\u001b[39mparams[\u001b[38;5;124m\"\u001b[39m\u001b[38;5;124mnum_machines\u001b[39m\u001b[38;5;124m\"\u001b[39m]\n\u001b[1;32m   3431\u001b[0m     )\n\u001b[1;32m   3432\u001b[0m \u001b[38;5;66;03m# construct booster object\u001b[39;00m\n\u001b[0;32m-> 3433\u001b[0m \u001b[43mtrain_set\u001b[49m\u001b[38;5;241;43m.\u001b[39;49m\u001b[43mconstruct\u001b[49m\u001b[43m(\u001b[49m\u001b[43m)\u001b[49m\n\u001b[1;32m   3434\u001b[0m \u001b[38;5;66;03m# copy the parameters from train_set\u001b[39;00m\n\u001b[1;32m   3435\u001b[0m params\u001b[38;5;241m.\u001b[39mupdate(train_set\u001b[38;5;241m.\u001b[39mget_params())\n",
      "File \u001b[0;32m~/Desktop/GitHub/TDSE_competition_0/.venv/lib/python3.10/site-packages/lightgbm/basic.py:2462\u001b[0m, in \u001b[0;36mDataset.construct\u001b[0;34m(self)\u001b[0m\n\u001b[1;32m   2455\u001b[0m             \u001b[38;5;28mself\u001b[39m\u001b[38;5;241m.\u001b[39m_set_init_score_by_predictor(\n\u001b[1;32m   2456\u001b[0m                 predictor\u001b[38;5;241m=\u001b[39m\u001b[38;5;28mself\u001b[39m\u001b[38;5;241m.\u001b[39m_predictor,\n\u001b[1;32m   2457\u001b[0m                 data\u001b[38;5;241m=\u001b[39m\u001b[38;5;28mself\u001b[39m\u001b[38;5;241m.\u001b[39mdata,\n\u001b[1;32m   2458\u001b[0m                 used_indices\u001b[38;5;241m=\u001b[39mused_indices\n\u001b[1;32m   2459\u001b[0m             )\n\u001b[1;32m   2460\u001b[0m \u001b[38;5;28;01melse\u001b[39;00m:\n\u001b[1;32m   2461\u001b[0m     \u001b[38;5;66;03m# create train\u001b[39;00m\n\u001b[0;32m-> 2462\u001b[0m     \u001b[38;5;28;43mself\u001b[39;49m\u001b[38;5;241;43m.\u001b[39;49m\u001b[43m_lazy_init\u001b[49m\u001b[43m(\u001b[49m\u001b[43mdata\u001b[49m\u001b[38;5;241;43m=\u001b[39;49m\u001b[38;5;28;43mself\u001b[39;49m\u001b[38;5;241;43m.\u001b[39;49m\u001b[43mdata\u001b[49m\u001b[43m,\u001b[49m\u001b[43m \u001b[49m\u001b[43mlabel\u001b[49m\u001b[38;5;241;43m=\u001b[39;49m\u001b[38;5;28;43mself\u001b[39;49m\u001b[38;5;241;43m.\u001b[39;49m\u001b[43mlabel\u001b[49m\u001b[43m,\u001b[49m\u001b[43m \u001b[49m\u001b[43mreference\u001b[49m\u001b[38;5;241;43m=\u001b[39;49m\u001b[38;5;28;43;01mNone\u001b[39;49;00m\u001b[43m,\u001b[49m\n\u001b[1;32m   2463\u001b[0m \u001b[43m                    \u001b[49m\u001b[43mweight\u001b[49m\u001b[38;5;241;43m=\u001b[39;49m\u001b[38;5;28;43mself\u001b[39;49m\u001b[38;5;241;43m.\u001b[39;49m\u001b[43mweight\u001b[49m\u001b[43m,\u001b[49m\u001b[43m \u001b[49m\u001b[43mgroup\u001b[49m\u001b[38;5;241;43m=\u001b[39;49m\u001b[38;5;28;43mself\u001b[39;49m\u001b[38;5;241;43m.\u001b[39;49m\u001b[43mgroup\u001b[49m\u001b[43m,\u001b[49m\n\u001b[1;32m   2464\u001b[0m \u001b[43m                    \u001b[49m\u001b[43minit_score\u001b[49m\u001b[38;5;241;43m=\u001b[39;49m\u001b[38;5;28;43mself\u001b[39;49m\u001b[38;5;241;43m.\u001b[39;49m\u001b[43minit_score\u001b[49m\u001b[43m,\u001b[49m\u001b[43m \u001b[49m\u001b[43mpredictor\u001b[49m\u001b[38;5;241;43m=\u001b[39;49m\u001b[38;5;28;43mself\u001b[39;49m\u001b[38;5;241;43m.\u001b[39;49m\u001b[43m_predictor\u001b[49m\u001b[43m,\u001b[49m\n\u001b[1;32m   2465\u001b[0m \u001b[43m                    \u001b[49m\u001b[43mfeature_name\u001b[49m\u001b[38;5;241;43m=\u001b[39;49m\u001b[38;5;28;43mself\u001b[39;49m\u001b[38;5;241;43m.\u001b[39;49m\u001b[43mfeature_name\u001b[49m\u001b[43m,\u001b[49m\u001b[43m \u001b[49m\u001b[43mcategorical_feature\u001b[49m\u001b[38;5;241;43m=\u001b[39;49m\u001b[38;5;28;43mself\u001b[39;49m\u001b[38;5;241;43m.\u001b[39;49m\u001b[43mcategorical_feature\u001b[49m\u001b[43m,\u001b[49m\n\u001b[1;32m   2466\u001b[0m \u001b[43m                    \u001b[49m\u001b[43mparams\u001b[49m\u001b[38;5;241;43m=\u001b[39;49m\u001b[38;5;28;43mself\u001b[39;49m\u001b[38;5;241;43m.\u001b[39;49m\u001b[43mparams\u001b[49m\u001b[43m,\u001b[49m\u001b[43m \u001b[49m\u001b[43mposition\u001b[49m\u001b[38;5;241;43m=\u001b[39;49m\u001b[38;5;28;43mself\u001b[39;49m\u001b[38;5;241;43m.\u001b[39;49m\u001b[43mposition\u001b[49m\u001b[43m)\u001b[49m\n\u001b[1;32m   2467\u001b[0m \u001b[38;5;28;01mif\u001b[39;00m \u001b[38;5;28mself\u001b[39m\u001b[38;5;241m.\u001b[39mfree_raw_data:\n\u001b[1;32m   2468\u001b[0m     \u001b[38;5;28mself\u001b[39m\u001b[38;5;241m.\u001b[39mdata \u001b[38;5;241m=\u001b[39m \u001b[38;5;28;01mNone\u001b[39;00m\n",
      "File \u001b[0;32m~/Desktop/GitHub/TDSE_competition_0/.venv/lib/python3.10/site-packages/lightgbm/basic.py:2022\u001b[0m, in \u001b[0;36mDataset._lazy_init\u001b[0;34m(self, data, label, reference, weight, group, init_score, predictor, feature_name, categorical_feature, params, position)\u001b[0m\n\u001b[1;32m   2020\u001b[0m     categorical_feature \u001b[38;5;241m=\u001b[39m reference\u001b[38;5;241m.\u001b[39mcategorical_feature\n\u001b[1;32m   2021\u001b[0m \u001b[38;5;28;01mif\u001b[39;00m \u001b[38;5;28misinstance\u001b[39m(data, pd_DataFrame):\n\u001b[0;32m-> 2022\u001b[0m     data, feature_name, categorical_feature, \u001b[38;5;28mself\u001b[39m\u001b[38;5;241m.\u001b[39mpandas_categorical \u001b[38;5;241m=\u001b[39m \u001b[43m_data_from_pandas\u001b[49m\u001b[43m(\u001b[49m\n\u001b[1;32m   2023\u001b[0m \u001b[43m        \u001b[49m\u001b[43mdata\u001b[49m\u001b[38;5;241;43m=\u001b[39;49m\u001b[43mdata\u001b[49m\u001b[43m,\u001b[49m\n\u001b[1;32m   2024\u001b[0m \u001b[43m        \u001b[49m\u001b[43mfeature_name\u001b[49m\u001b[38;5;241;43m=\u001b[39;49m\u001b[43mfeature_name\u001b[49m\u001b[43m,\u001b[49m\n\u001b[1;32m   2025\u001b[0m \u001b[43m        \u001b[49m\u001b[43mcategorical_feature\u001b[49m\u001b[38;5;241;43m=\u001b[39;49m\u001b[43mcategorical_feature\u001b[49m\u001b[43m,\u001b[49m\n\u001b[1;32m   2026\u001b[0m \u001b[43m        \u001b[49m\u001b[43mpandas_categorical\u001b[49m\u001b[38;5;241;43m=\u001b[39;49m\u001b[38;5;28;43mself\u001b[39;49m\u001b[38;5;241;43m.\u001b[39;49m\u001b[43mpandas_categorical\u001b[49m\n\u001b[1;32m   2027\u001b[0m \u001b[43m    \u001b[49m\u001b[43m)\u001b[49m\n\u001b[1;32m   2029\u001b[0m \u001b[38;5;66;03m# process for args\u001b[39;00m\n\u001b[1;32m   2030\u001b[0m params \u001b[38;5;241m=\u001b[39m {} \u001b[38;5;28;01mif\u001b[39;00m params \u001b[38;5;129;01mis\u001b[39;00m \u001b[38;5;28;01mNone\u001b[39;00m \u001b[38;5;28;01melse\u001b[39;00m params\n",
      "File \u001b[0;32m~/Desktop/GitHub/TDSE_competition_0/.venv/lib/python3.10/site-packages/lightgbm/basic.py:791\u001b[0m, in \u001b[0;36m_data_from_pandas\u001b[0;34m(data, feature_name, categorical_feature, pandas_categorical)\u001b[0m\n\u001b[1;32m    784\u001b[0m \u001b[38;5;28;01mdef\u001b[39;00m \u001b[38;5;21m_data_from_pandas\u001b[39m(\n\u001b[1;32m    785\u001b[0m     data: pd_DataFrame,\n\u001b[1;32m    786\u001b[0m     feature_name: _LGBM_FeatureNameConfiguration,\n\u001b[1;32m    787\u001b[0m     categorical_feature: _LGBM_CategoricalFeatureConfiguration,\n\u001b[1;32m    788\u001b[0m     pandas_categorical: Optional[List[List]]\n\u001b[1;32m    789\u001b[0m ) \u001b[38;5;241m-\u001b[39m\u001b[38;5;241m>\u001b[39m Tuple[np\u001b[38;5;241m.\u001b[39mndarray, List[\u001b[38;5;28mstr\u001b[39m], Union[List[\u001b[38;5;28mstr\u001b[39m], List[\u001b[38;5;28mint\u001b[39m]], List[List]]:\n\u001b[1;32m    790\u001b[0m     \u001b[38;5;28;01mif\u001b[39;00m \u001b[38;5;28mlen\u001b[39m(data\u001b[38;5;241m.\u001b[39mshape) \u001b[38;5;241m!=\u001b[39m \u001b[38;5;241m2\u001b[39m \u001b[38;5;129;01mor\u001b[39;00m data\u001b[38;5;241m.\u001b[39mshape[\u001b[38;5;241m0\u001b[39m] \u001b[38;5;241m<\u001b[39m \u001b[38;5;241m1\u001b[39m:\n\u001b[0;32m--> 791\u001b[0m         \u001b[38;5;28;01mraise\u001b[39;00m \u001b[38;5;167;01mValueError\u001b[39;00m(\u001b[38;5;124m'\u001b[39m\u001b[38;5;124mInput data must be 2 dimensional and non empty.\u001b[39m\u001b[38;5;124m'\u001b[39m)\n\u001b[1;32m    793\u001b[0m     \u001b[38;5;66;03m# take shallow copy in case we modify categorical columns\u001b[39;00m\n\u001b[1;32m    794\u001b[0m     \u001b[38;5;66;03m# whole column modifications don't change the original df\u001b[39;00m\n\u001b[1;32m    795\u001b[0m     data \u001b[38;5;241m=\u001b[39m data\u001b[38;5;241m.\u001b[39mcopy(deep\u001b[38;5;241m=\u001b[39m\u001b[38;5;28;01mFalse\u001b[39;00m)\n",
      "\u001b[0;31mValueError\u001b[0m: Input data must be 2 dimensional and non empty."
     ]
    }
   ],
   "source": [
    "# モデルのパラメータ設定\n",
    "params = {\n",
    "    \"objective\": \"binary\", # 2値分類\n",
    "    \"metric\": \"auc\", # 評価指標は AUC under ROC curve\n",
    "    \"boosting_type\": \"gbdt\", # 勾配ブースティング\n",
    "    \"learning_rate\": 0.05, # 学習率\n",
    "    \"num_leaves\": 31, # ノード数\n",
    "    \"feature_fraction\": 0.9, # 各ツリーを作成する際の特徴量の使用割合\n",
    "    \"bagging_fraction\": 0.8, # 各ツリーを作成する際のデータの使用割合\n",
    "    \"bagging_freq\": 5, # バギング (データサンプリング) を行う頻度。5 なら 5回に1回バギングを行う\n",
    "    \"verbose\": 0, # 学習中のログ出力の詳細度。0 なら何も出力しない\n",
    "    \"seed\": RANDOM_SEED, # モデル全体の乱数シード\n",
    "    \"random_state\": RANDOM_SEED, # モデル全体の乱数シード\n",
    "    \"bagging_seed\": RANDOM_SEED, # バギングの乱数シード\n",
    "    \"feature_fraction_seed\": RANDOM_SEED, # 特徴量の使用割合の乱数シード\n",
    "}\n",
    "\n",
    "# モデルのトレーニング\n",
    "model = lgb.train(\n",
    "    params,\n",
    "    train_data,\n",
    ")"
   ]
  },
  {
   "cell_type": "code",
   "execution_count": 6,
   "id": "bae26142",
   "metadata": {
    "execution": {
     "iopub.execute_input": "2024-06-09T11:11:56.231320Z",
     "iopub.status.busy": "2024-06-09T11:11:56.230921Z",
     "iopub.status.idle": "2024-06-09T11:11:56.488350Z",
     "shell.execute_reply": "2024-06-09T11:11:56.487111Z"
    },
    "papermill": {
     "duration": 0.26705,
     "end_time": "2024-06-09T11:11:56.491912",
     "exception": false,
     "start_time": "2024-06-09T11:11:56.224862",
     "status": "completed"
    },
    "tags": []
   },
   "outputs": [],
   "source": [
    "# テストデータに対する予測\n",
    "y_pred_np = model.predict(X_test_df)"
   ]
  },
  {
   "cell_type": "code",
   "execution_count": 7,
   "id": "661d53c9",
   "metadata": {
    "execution": {
     "iopub.execute_input": "2024-06-09T11:11:56.512107Z",
     "iopub.status.busy": "2024-06-09T11:11:56.511141Z",
     "iopub.status.idle": "2024-06-09T11:11:56.522117Z",
     "shell.execute_reply": "2024-06-09T11:11:56.520876Z"
    },
    "papermill": {
     "duration": 0.027215,
     "end_time": "2024-06-09T11:11:56.524731",
     "exception": false,
     "start_time": "2024-06-09T11:11:56.497516",
     "status": "completed"
    },
    "tags": []
   },
   "outputs": [
    {
     "data": {
      "text/plain": [
       "array([0.02178167, 0.82723524, 0.03169923, ..., 0.02148697, 0.14932025,\n",
       "       0.19633735])"
      ]
     },
     "execution_count": 7,
     "metadata": {},
     "output_type": "execute_result"
    }
   ],
   "source": [
    "y_pred_np"
   ]
  },
  {
   "cell_type": "code",
   "execution_count": 8,
   "id": "25ba7d1c",
   "metadata": {
    "execution": {
     "iopub.execute_input": "2024-06-09T11:11:56.537080Z",
     "iopub.status.busy": "2024-06-09T11:11:56.536532Z",
     "iopub.status.idle": "2024-06-09T11:11:56.543851Z",
     "shell.execute_reply": "2024-06-09T11:11:56.542759Z"
    },
    "papermill": {
     "duration": 0.01651,
     "end_time": "2024-06-09T11:11:56.546225",
     "exception": false,
     "start_time": "2024-06-09T11:11:56.529715",
     "status": "completed"
    },
    "tags": []
   },
   "outputs": [],
   "source": [
    "# 提出用ファイルの作成\n",
    "submission_df = pd.DataFrame({\n",
    "    \"id\": test_df[\"id\"],\n",
    "    \"Exited\": y_pred_np,\n",
    "})"
   ]
  },
  {
   "cell_type": "code",
   "execution_count": 9,
   "id": "f0daa241",
   "metadata": {
    "execution": {
     "iopub.execute_input": "2024-06-09T11:11:56.557539Z",
     "iopub.status.busy": "2024-06-09T11:11:56.557124Z",
     "iopub.status.idle": "2024-06-09T11:11:56.573982Z",
     "shell.execute_reply": "2024-06-09T11:11:56.572944Z"
    },
    "papermill": {
     "duration": 0.02537,
     "end_time": "2024-06-09T11:11:56.576473",
     "exception": false,
     "start_time": "2024-06-09T11:11:56.551103",
     "status": "completed"
    },
    "tags": []
   },
   "outputs": [
    {
     "data": {
      "text/html": [
       "<div>\n",
       "<style scoped>\n",
       "    .dataframe tbody tr th:only-of-type {\n",
       "        vertical-align: middle;\n",
       "    }\n",
       "\n",
       "    .dataframe tbody tr th {\n",
       "        vertical-align: top;\n",
       "    }\n",
       "\n",
       "    .dataframe thead th {\n",
       "        text-align: right;\n",
       "    }\n",
       "</style>\n",
       "<table border=\"1\" class=\"dataframe\">\n",
       "  <thead>\n",
       "    <tr style=\"text-align: right;\">\n",
       "      <th></th>\n",
       "      <th>id</th>\n",
       "      <th>Exited</th>\n",
       "    </tr>\n",
       "  </thead>\n",
       "  <tbody>\n",
       "    <tr>\n",
       "      <th>0</th>\n",
       "      <td>165034</td>\n",
       "      <td>0.021782</td>\n",
       "    </tr>\n",
       "    <tr>\n",
       "      <th>1</th>\n",
       "      <td>165035</td>\n",
       "      <td>0.827235</td>\n",
       "    </tr>\n",
       "    <tr>\n",
       "      <th>2</th>\n",
       "      <td>165036</td>\n",
       "      <td>0.031699</td>\n",
       "    </tr>\n",
       "    <tr>\n",
       "      <th>3</th>\n",
       "      <td>165037</td>\n",
       "      <td>0.237529</td>\n",
       "    </tr>\n",
       "    <tr>\n",
       "      <th>4</th>\n",
       "      <td>165038</td>\n",
       "      <td>0.337693</td>\n",
       "    </tr>\n",
       "  </tbody>\n",
       "</table>\n",
       "</div>"
      ],
      "text/plain": [
       "       id    Exited\n",
       "0  165034  0.021782\n",
       "1  165035  0.827235\n",
       "2  165036  0.031699\n",
       "3  165037  0.237529\n",
       "4  165038  0.337693"
      ]
     },
     "execution_count": 9,
     "metadata": {},
     "output_type": "execute_result"
    }
   ],
   "source": [
    "submission_df.head()"
   ]
  },
  {
   "cell_type": "code",
   "execution_count": 10,
   "id": "ce50f65c",
   "metadata": {
    "execution": {
     "iopub.execute_input": "2024-06-09T11:11:56.588793Z",
     "iopub.status.busy": "2024-06-09T11:11:56.588379Z",
     "iopub.status.idle": "2024-06-09T11:11:56.965829Z",
     "shell.execute_reply": "2024-06-09T11:11:56.964830Z"
    },
    "papermill": {
     "duration": 0.387192,
     "end_time": "2024-06-09T11:11:56.968791",
     "exception": false,
     "start_time": "2024-06-09T11:11:56.581599",
     "status": "completed"
    },
    "tags": []
   },
   "outputs": [],
   "source": [
    "submission_df.to_csv(\"submission.csv\", index=False)"
   ]
  }
 ],
 "metadata": {
  "kaggle": {
   "accelerator": "none",
   "dataSources": [
    {
     "databundleVersionId": 8428413,
     "sourceId": 77360,
     "sourceType": "competition"
    },
    {
     "datasetId": 5178796,
     "sourceId": 8646577,
     "sourceType": "datasetVersion"
    }
   ],
   "dockerImageVersionId": 30732,
   "isGpuEnabled": false,
   "isInternetEnabled": true,
   "language": "python",
   "sourceType": "notebook"
  },
  "kernelspec": {
   "display_name": "Python 3",
   "language": "python",
   "name": "python3"
  },
  "language_info": {
   "codemirror_mode": {
    "name": "ipython",
    "version": 3
   },
   "file_extension": ".py",
   "mimetype": "text/x-python",
   "name": "python",
   "nbconvert_exporter": "python",
   "pygments_lexer": "ipython3",
   "version": "3.10.2"
  },
  "papermill": {
   "default_parameters": {},
   "duration": 11.489494,
   "end_time": "2024-06-09T11:11:57.696432",
   "environment_variables": {},
   "exception": null,
   "input_path": "__notebook__.ipynb",
   "output_path": "__notebook__.ipynb",
   "parameters": {},
   "start_time": "2024-06-09T11:11:46.206938",
   "version": "2.5.0"
  }
 },
 "nbformat": 4,
 "nbformat_minor": 5
}
