{
 "cells": [
  {
   "cell_type": "code",
   "execution_count": 2,
   "id": "aeef352f",
   "metadata": {
    "_cell_guid": "b1076dfc-b9ad-4769-8c92-a6c4dae69d19",
    "_uuid": "8f2839f25d086af736a60e9eeb907d3b93b6e0e5",
    "execution": {
     "iopub.execute_input": "2024-06-09T12:18:56.419983Z",
     "iopub.status.busy": "2024-06-09T12:18:56.419571Z",
     "iopub.status.idle": "2024-06-09T12:19:00.206109Z",
     "shell.execute_reply": "2024-06-09T12:19:00.205054Z"
    },
    "papermill": {
     "duration": 3.797176,
     "end_time": "2024-06-09T12:19:00.209060",
     "exception": false,
     "start_time": "2024-06-09T12:18:56.411884",
     "status": "completed"
    },
    "tags": []
   },
   "outputs": [],
   "source": [
    "import numpy as np\n",
    "import pandas as pd\n",
    "from autogluon.tabular import TabularDataset, TabularPredictor\n",
    "from autogluon.core.metrics import make_scorer\n",
    "from sklearn.metrics import roc_auc_score #精度評価に使用"
   ]
  },
  {
   "cell_type": "code",
   "execution_count": 3,
   "id": "538e883b",
   "metadata": {
    "execution": {
     "iopub.execute_input": "2024-06-09T12:19:00.549227Z",
     "iopub.status.busy": "2024-06-09T12:19:00.548798Z",
     "iopub.status.idle": "2024-06-09T12:19:00.555834Z",
     "shell.execute_reply": "2024-06-09T12:19:00.554105Z"
    },
    "papermill": {
     "duration": 0.016679,
     "end_time": "2024-06-09T12:19:00.558595",
     "exception": false,
     "start_time": "2024-06-09T12:19:00.541916",
     "status": "completed"
    },
    "tags": []
   },
   "outputs": [],
   "source": [
    "# 各種定数の定義\n",
    "# 乱数シード\n",
    "RANDOM_SEED = 42\n",
    "# target となる特徴量\n",
    "TARGET_COULMN_NAME = \"Exited\"\n",
    "# 削除する特徴量のリスト\n",
    "DROP_COLUMNS = [\"id\", \"CustomerId\", \"Surname\"]\n",
    "# one-hot encoding する特徴量のリスト\n",
    "ONE_HOT_ENCODING_COLUMNS = [\"Geography\", \"Gender\"]\n",
    "# ベストモデルのパス\n",
    "BEST_MODEL_PATH = \"../working/best_lgbm_model.pkl\""
   ]
  },
  {
   "cell_type": "code",
   "execution_count": 4,
   "id": "53fb4345",
   "metadata": {},
   "outputs": [],
   "source": [
    "# 評価関数の定義\n",
    "ag_roc_auc_scorer = make_scorer(\n",
    "    name=\"roc_auc_score\",\n",
    "    score_func=roc_auc_score,\n",
    "    optimum=1,\n",
    "    greater_is_better=True,\n",
    "    needs_threshold=True,\n",
    ")"
   ]
  },
  {
   "cell_type": "code",
   "execution_count": 5,
   "id": "332ea3a0",
   "metadata": {
    "execution": {
     "iopub.execute_input": "2024-06-09T12:19:00.571719Z",
     "iopub.status.busy": "2024-06-09T12:19:00.571275Z",
     "iopub.status.idle": "2024-06-09T12:19:01.064425Z",
     "shell.execute_reply": "2024-06-09T12:19:01.063395Z"
    },
    "papermill": {
     "duration": 0.503063,
     "end_time": "2024-06-09T12:19:01.067181",
     "exception": false,
     "start_time": "2024-06-09T12:19:00.564118",
     "status": "completed"
    },
    "tags": []
   },
   "outputs": [],
   "source": [
    "# 学習データの読み込み\n",
    "train_df =  pd.read_csv(\"../input/tdse-inclass-competition-0/train.csv\")"
   ]
  },
  {
   "cell_type": "code",
   "execution_count": 6,
   "id": "ee632511",
   "metadata": {
    "execution": {
     "iopub.execute_input": "2024-06-09T12:19:01.079763Z",
     "iopub.status.busy": "2024-06-09T12:19:01.079270Z",
     "iopub.status.idle": "2024-06-09T12:19:01.162184Z",
     "shell.execute_reply": "2024-06-09T12:19:01.160696Z"
    },
    "papermill": {
     "duration": 0.092391,
     "end_time": "2024-06-09T12:19:01.165028",
     "exception": false,
     "start_time": "2024-06-09T12:19:01.072637",
     "status": "completed"
    },
    "tags": []
   },
   "outputs": [],
   "source": [
    "# 特徴量。Surname, id, CustomerIDは削除\n",
    "X_train_df = train_df.drop(\n",
    "    DROP_COLUMNS,\n",
    "    axis=1,\n",
    ") \n",
    "# one-hot encoding\n",
    "X_train_df = pd.get_dummies(\n",
    "    X_train_df,\n",
    "    columns=ONE_HOT_ENCODING_COLUMNS,\n",
    ")"
   ]
  },
  {
   "cell_type": "code",
   "execution_count": 7,
   "id": "f49785b6",
   "metadata": {
    "execution": {
     "iopub.execute_input": "2024-06-09T12:19:01.177754Z",
     "iopub.status.busy": "2024-06-09T12:19:01.177193Z",
     "iopub.status.idle": "2024-06-09T12:19:01.514056Z",
     "shell.execute_reply": "2024-06-09T12:19:01.512590Z"
    },
    "papermill": {
     "duration": 0.346641,
     "end_time": "2024-06-09T12:19:01.517077",
     "exception": false,
     "start_time": "2024-06-09T12:19:01.170436",
     "status": "completed"
    },
    "tags": []
   },
   "outputs": [],
   "source": [
    "# テストデータの読み込み\n",
    "test_df =  pd.read_csv(\"../input/tdse-inclass-competition-0/test.csv\")\n",
    "# 学習データに合わせて特徴量を加工\n",
    "X_test_df = test_df.drop(\n",
    "    DROP_COLUMNS,\n",
    "    axis=1,\n",
    ")\n",
    "# one-hot encoding\n",
    "X_test_df = pd.get_dummies(\n",
    "    X_test_df,\n",
    "    columns=ONE_HOT_ENCODING_COLUMNS,\n",
    ")"
   ]
  },
  {
   "cell_type": "code",
   "execution_count": 8,
   "id": "dd123de0",
   "metadata": {},
   "outputs": [
    {
     "name": "stderr",
     "output_type": "stream",
     "text": [
      "Warning: path already exists! This predictor may overwrite an existing predictor! path=\"../working\"\n",
      "Verbosity: 2 (Standard Logging)\n",
      "=================== System Info ===================\n",
      "AutoGluon Version:  1.1.1\n",
      "Python Version:     3.10.2\n",
      "Operating System:   Darwin\n",
      "Platform Machine:   arm64\n",
      "Platform Version:   Darwin Kernel Version 23.5.0: Wed May  1 20:16:51 PDT 2024; root:xnu-10063.121.3~5/RELEASE_ARM64_T8103\n",
      "CPU Count:          8\n",
      "Memory Avail:       3.23 GB / 16.00 GB (20.2%)\n",
      "Disk Space Avail:   59.50 GB / 926.35 GB (6.4%)\n",
      "===================================================\n",
      "No presets specified! To achieve strong results with AutoGluon, it is recommended to use the available presets.\n",
      "\tRecommended Presets (For more details refer to https://auto.gluon.ai/stable/tutorials/tabular/tabular-essentials.html#presets):\n",
      "\tpresets='best_quality'   : Maximize accuracy. Default time_limit=3600.\n",
      "\tpresets='high_quality'   : Strong accuracy with fast inference speed. Default time_limit=3600.\n",
      "\tpresets='good_quality'   : Good accuracy with very fast inference speed. Default time_limit=3600.\n",
      "\tpresets='medium_quality' : Fast training time, ideal for initial prototyping.\n",
      "Warning: Training may take a very long time because `time_limit` was not specified and `train_data` is large (165034 samples, 12.71 MB).\n",
      "\tConsider setting `time_limit` to ensure training finishes within an expected duration or experiment with a small portion of `train_data` to identify an ideal `presets` and `hyperparameters` configuration.\n",
      "Beginning AutoGluon training ...\n",
      "AutoGluon will save models to \"../working\"\n",
      "Train Data Rows:    165034\n",
      "Train Data Columns: 13\n",
      "Label Column:       Exited\n",
      "AutoGluon infers your prediction problem is: 'binary' (because only two unique label-values observed).\n",
      "\t2 unique label values:  [0, 1]\n",
      "\tIf 'binary' is not the correct problem_type, please manually specify the problem_type parameter during Predictor init (You may specify problem_type as one of: ['binary', 'multiclass', 'regression', 'quantile'])\n",
      "Problem Type:       binary\n",
      "Preprocessing data ...\n",
      "Selected class <--> label mapping:  class 1 = 1, class 0 = 0\n",
      "Using Feature Generators to preprocess the data ...\n",
      "Fitting AutoMLPipelineFeatureGenerator...\n",
      "\tAvailable Memory:                    3305.67 MB\n",
      "\tTrain Data (Original)  Memory Usage: 10.86 MB (0.3% of available memory)\n",
      "\tInferring data type of each feature based on column values. Set feature_metadata_in to manually specify special dtypes of the features.\n",
      "\tStage 1 Generators:\n",
      "\t\tFitting AsTypeFeatureGenerator...\n",
      "\t\t\tNote: Converting 7 features to boolean dtype as they only contain 2 unique values.\n",
      "\tStage 2 Generators:\n",
      "\t\tFitting FillNaFeatureGenerator...\n",
      "\tStage 3 Generators:\n",
      "\t\tFitting IdentityFeatureGenerator...\n",
      "\tStage 4 Generators:\n",
      "\t\tFitting DropUniqueFeatureGenerator...\n",
      "\tStage 5 Generators:\n",
      "\t\tFitting DropDuplicatesFeatureGenerator...\n",
      "\tTypes of features in original data (raw dtype, special dtypes):\n",
      "\t\t('bool', [])  : 5 | ['Geography_France', 'Geography_Germany', 'Geography_Spain', 'Gender_Female', 'Gender_Male']\n",
      "\t\t('float', []) : 5 | ['Age', 'Balance', 'HasCrCard', 'IsActiveMember', 'EstimatedSalary']\n",
      "\t\t('int', [])   : 3 | ['CreditScore', 'Tenure', 'NumOfProducts']\n",
      "\tTypes of features in processed data (raw dtype, special dtypes):\n",
      "\t\t('float', [])     : 3 | ['Age', 'Balance', 'EstimatedSalary']\n",
      "\t\t('int', [])       : 3 | ['CreditScore', 'Tenure', 'NumOfProducts']\n",
      "\t\t('int', ['bool']) : 7 | ['HasCrCard', 'IsActiveMember', 'Geography_France', 'Geography_Germany', 'Geography_Spain', ...]\n",
      "\t0.2s = Fit runtime\n",
      "\t13 features in original data used to generate 13 features in processed data.\n",
      "\tTrain Data (Processed) Memory Usage: 8.66 MB (0.3% of available memory)\n",
      "Data preprocessing and feature engineering runtime = 0.21s ...\n",
      "AutoGluon will gauge predictive performance using evaluation metric: 'roc_auc_score'\n",
      "\tThis metric expects predicted probabilities rather than predicted class labels, so you'll need to use predict_proba() instead of predict()\n",
      "\tTo change this, specify the eval_metric parameter of Predictor()\n",
      "Automatically generating train/validation split with holdout_frac=0.015148393664335834, Train Rows: 162534, Val Rows: 2500\n",
      "User-specified model hyperparameters to be fit:\n",
      "{\n",
      "\t'NN_TORCH': {},\n",
      "\t'GBM': [{'extra_trees': True, 'ag_args': {'name_suffix': 'XT'}}, {}, 'GBMLarge'],\n",
      "\t'CAT': {},\n",
      "\t'XGB': {},\n",
      "\t'FASTAI': {},\n",
      "\t'RF': [{'criterion': 'gini', 'ag_args': {'name_suffix': 'Gini', 'problem_types': ['binary', 'multiclass']}}, {'criterion': 'entropy', 'ag_args': {'name_suffix': 'Entr', 'problem_types': ['binary', 'multiclass']}}, {'criterion': 'squared_error', 'ag_args': {'name_suffix': 'MSE', 'problem_types': ['regression', 'quantile']}}],\n",
      "\t'XT': [{'criterion': 'gini', 'ag_args': {'name_suffix': 'Gini', 'problem_types': ['binary', 'multiclass']}}, {'criterion': 'entropy', 'ag_args': {'name_suffix': 'Entr', 'problem_types': ['binary', 'multiclass']}}, {'criterion': 'squared_error', 'ag_args': {'name_suffix': 'MSE', 'problem_types': ['regression', 'quantile']}}],\n",
      "\t'KNN': [{'weights': 'uniform', 'ag_args': {'name_suffix': 'Unif'}}, {'weights': 'distance', 'ag_args': {'name_suffix': 'Dist'}}],\n",
      "}\n",
      "Fitting 13 L1 models ...\n",
      "Fitting model: KNeighborsUnif ...\n",
      "\t0.5795\t = Validation score   (roc_auc_score)\n",
      "\t0.93s\t = Training   runtime\n",
      "\t0.03s\t = Validation runtime\n",
      "Fitting model: KNeighborsDist ...\n",
      "\t0.5783\t = Validation score   (roc_auc_score)\n",
      "\t0.07s\t = Training   runtime\n",
      "\t0.02s\t = Validation runtime\n",
      "Fitting model: LightGBMXT ...\n"
     ]
    },
    {
     "ename": "",
     "evalue": "",
     "output_type": "error",
     "traceback": [
      "\u001b[1;31m現在のセルまたは前のセルでコードを実行中に、カーネル (Kernel) がクラッシュしました。\n",
      "\u001b[1;31mエラーの原因を特定するには、セル内のコードを確認してください。\n",
      "\u001b[1;31m詳細については<a href='https://aka.ms/vscodeJupyterKernelCrash'>こちら</a>をクリックします。\n",
      "\u001b[1;31m詳細については、Jupyter <a href='command:jupyter.viewOutput'>ログ</a> を参照してください。"
     ]
    }
   ],
   "source": [
    "predictor = TabularPredictor(\n",
    "    label=TARGET_COULMN_NAME,\n",
    "    eval_metric=ag_roc_auc_scorer,\n",
    "    path=\"../working\",\n",
    "    ).fit(X_train_df)"
   ]
  },
  {
   "cell_type": "code",
   "execution_count": null,
   "id": "87e06ff0",
   "metadata": {},
   "outputs": [],
   "source": [
    "y_pred = predictor.predict(X_test_df)"
   ]
  },
  {
   "cell_type": "code",
   "execution_count": null,
   "id": "ad01418d",
   "metadata": {},
   "outputs": [],
   "source": [
    "submission_df = X_test_df[\"id\"].to_frame()\n",
    "submission_df[\"Exited\"] = y_pred"
   ]
  },
  {
   "cell_type": "code",
   "execution_count": 12,
   "id": "5596b13b",
   "metadata": {
    "execution": {
     "iopub.execute_input": "2024-06-09T12:19:43.297727Z",
     "iopub.status.busy": "2024-06-09T12:19:43.297185Z",
     "iopub.status.idle": "2024-06-09T12:19:43.313156Z",
     "shell.execute_reply": "2024-06-09T12:19:43.311783Z"
    },
    "papermill": {
     "duration": 0.026962,
     "end_time": "2024-06-09T12:19:43.315957",
     "exception": false,
     "start_time": "2024-06-09T12:19:43.288995",
     "status": "completed"
    },
    "tags": []
   },
   "outputs": [
    {
     "data": {
      "text/html": [
       "<div>\n",
       "<style scoped>\n",
       "    .dataframe tbody tr th:only-of-type {\n",
       "        vertical-align: middle;\n",
       "    }\n",
       "\n",
       "    .dataframe tbody tr th {\n",
       "        vertical-align: top;\n",
       "    }\n",
       "\n",
       "    .dataframe thead th {\n",
       "        text-align: right;\n",
       "    }\n",
       "</style>\n",
       "<table border=\"1\" class=\"dataframe\">\n",
       "  <thead>\n",
       "    <tr style=\"text-align: right;\">\n",
       "      <th></th>\n",
       "      <th>id</th>\n",
       "      <th>Exited</th>\n",
       "    </tr>\n",
       "  </thead>\n",
       "  <tbody>\n",
       "    <tr>\n",
       "      <th>0</th>\n",
       "      <td>165034</td>\n",
       "      <td>0.026149</td>\n",
       "    </tr>\n",
       "    <tr>\n",
       "      <th>1</th>\n",
       "      <td>165035</td>\n",
       "      <td>0.831005</td>\n",
       "    </tr>\n",
       "    <tr>\n",
       "      <th>2</th>\n",
       "      <td>165036</td>\n",
       "      <td>0.031366</td>\n",
       "    </tr>\n",
       "    <tr>\n",
       "      <th>3</th>\n",
       "      <td>165037</td>\n",
       "      <td>0.204602</td>\n",
       "    </tr>\n",
       "    <tr>\n",
       "      <th>4</th>\n",
       "      <td>165038</td>\n",
       "      <td>0.338391</td>\n",
       "    </tr>\n",
       "  </tbody>\n",
       "</table>\n",
       "</div>"
      ],
      "text/plain": [
       "       id    Exited\n",
       "0  165034  0.026149\n",
       "1  165035  0.831005\n",
       "2  165036  0.031366\n",
       "3  165037  0.204602\n",
       "4  165038  0.338391"
      ]
     },
     "execution_count": 12,
     "metadata": {},
     "output_type": "execute_result"
    }
   ],
   "source": [
    "submission_df.head()"
   ]
  },
  {
   "cell_type": "code",
   "execution_count": 13,
   "id": "76633fe6",
   "metadata": {
    "execution": {
     "iopub.execute_input": "2024-06-09T12:19:43.332267Z",
     "iopub.status.busy": "2024-06-09T12:19:43.331879Z",
     "iopub.status.idle": "2024-06-09T12:19:43.714081Z",
     "shell.execute_reply": "2024-06-09T12:19:43.712833Z"
    },
    "papermill": {
     "duration": 0.393915,
     "end_time": "2024-06-09T12:19:43.717116",
     "exception": false,
     "start_time": "2024-06-09T12:19:43.323201",
     "status": "completed"
    },
    "tags": []
   },
   "outputs": [],
   "source": [
    "submission_df.to_csv(\"submission.csv\", index=False)"
   ]
  }
 ],
 "metadata": {
  "kaggle": {
   "accelerator": "none",
   "dataSources": [
    {
     "databundleVersionId": 8428413,
     "sourceId": 77360,
     "sourceType": "competition"
    },
    {
     "datasetId": 5178796,
     "sourceId": 8647126,
     "sourceType": "datasetVersion"
    }
   ],
   "dockerImageVersionId": 30732,
   "isGpuEnabled": false,
   "isInternetEnabled": true,
   "language": "python",
   "sourceType": "notebook"
  },
  "kernelspec": {
   "display_name": "Python 3",
   "language": "python",
   "name": "python3"
  },
  "language_info": {
   "codemirror_mode": {
    "name": "ipython",
    "version": 3
   },
   "file_extension": ".py",
   "mimetype": "text/x-python",
   "name": "python",
   "nbconvert_exporter": "python",
   "pygments_lexer": "ipython3",
   "version": "3.10.2"
  },
  "papermill": {
   "default_parameters": {},
   "duration": 51.354031,
   "end_time": "2024-06-09T12:19:44.547429",
   "environment_variables": {},
   "exception": null,
   "input_path": "__notebook__.ipynb",
   "output_path": "__notebook__.ipynb",
   "parameters": {},
   "start_time": "2024-06-09T12:18:53.193398",
   "version": "2.5.0"
  }
 },
 "nbformat": 4,
 "nbformat_minor": 5
}
