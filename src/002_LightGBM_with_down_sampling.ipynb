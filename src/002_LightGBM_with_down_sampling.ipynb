{
 "cells": [
  {
   "cell_type": "code",
   "execution_count": 1,
   "id": "6faa4cce",
   "metadata": {
    "_cell_guid": "b1076dfc-b9ad-4769-8c92-a6c4dae69d19",
    "_uuid": "8f2839f25d086af736a60e9eeb907d3b93b6e0e5",
    "execution": {
     "iopub.execute_input": "2024-06-09T10:54:33.779175Z",
     "iopub.status.busy": "2024-06-09T10:54:33.778637Z",
     "iopub.status.idle": "2024-06-09T10:54:37.698599Z",
     "shell.execute_reply": "2024-06-09T10:54:37.696950Z"
    },
    "papermill": {
     "duration": 3.930861,
     "end_time": "2024-06-09T10:54:37.701733",
     "exception": false,
     "start_time": "2024-06-09T10:54:33.770872",
     "status": "completed"
    },
    "tags": []
   },
   "outputs": [],
   "source": [
    "import numpy as np # 今回は明示的には使わない\n",
    "import pandas as pd # data processing, CSV file I/O (e.g. pd.read_csv)\n",
    "import lightgbm as lgb # LightGBM でモデルを作成する\n",
    "from sklearn.metrics import accuracy_score, roc_auc_score #精度評価に使用"
   ]
  },
  {
   "cell_type": "code",
   "execution_count": 2,
   "id": "e66601e2",
   "metadata": {
    "execution": {
     "iopub.execute_input": "2024-06-09T10:54:37.714833Z",
     "iopub.status.busy": "2024-06-09T10:54:37.714054Z",
     "iopub.status.idle": "2024-06-09T10:54:37.728673Z",
     "shell.execute_reply": "2024-06-09T10:54:37.727352Z"
    },
    "papermill": {
     "duration": 0.024484,
     "end_time": "2024-06-09T10:54:37.731646",
     "exception": false,
     "start_time": "2024-06-09T10:54:37.707162",
     "status": "completed"
    },
    "tags": []
   },
   "outputs": [],
   "source": [
    "# 自作のモジュールを読み込み\n",
    "# 自作のプロット用モジュールを読み込む\n",
    "import sys\n",
    "sys.path.append(\"../input/modeling-and-evaluation\")\n",
    "import down_sampling_wrt_dist as my_downsampling"
   ]
  },
  {
   "cell_type": "code",
   "execution_count": 3,
   "id": "09fd3883",
   "metadata": {
    "execution": {
     "iopub.execute_input": "2024-06-09T10:54:37.742911Z",
     "iopub.status.busy": "2024-06-09T10:54:37.742407Z",
     "iopub.status.idle": "2024-06-09T10:54:37.750195Z",
     "shell.execute_reply": "2024-06-09T10:54:37.748321Z"
    },
    "papermill": {
     "duration": 0.016706,
     "end_time": "2024-06-09T10:54:37.752973",
     "exception": false,
     "start_time": "2024-06-09T10:54:37.736267",
     "status": "completed"
    },
    "tags": []
   },
   "outputs": [],
   "source": [
    "# 各種定数の定義\n",
    "# 乱数シード\n",
    "RANDOM_SEED = 42\n",
    "# target となる特徴量\n",
    "TARGET_COULMN_NAME = \"Exited\"\n",
    "# 削除する特徴量のリスト\n",
    "DROP_COLUMNS = [\"id\", \"CustomerId\", \"Surname\"]\n",
    "# one-hot encoding する特徴量のリスト\n",
    "ONE_HOT_ENCODING_COLUMNS = [\"Geography\", \"Gender\"]"
   ]
  },
  {
   "cell_type": "code",
   "execution_count": 4,
   "id": "31899ff8",
   "metadata": {
    "execution": {
     "iopub.execute_input": "2024-06-09T10:54:37.764145Z",
     "iopub.status.busy": "2024-06-09T10:54:37.763595Z",
     "iopub.status.idle": "2024-06-09T10:54:38.735193Z",
     "shell.execute_reply": "2024-06-09T10:54:38.733831Z"
    },
    "papermill": {
     "duration": 0.98102,
     "end_time": "2024-06-09T10:54:38.738487",
     "exception": false,
     "start_time": "2024-06-09T10:54:37.757467",
     "status": "completed"
    },
    "tags": []
   },
   "outputs": [],
   "source": [
    "# 学習データの読み込み\n",
    "train_df =  pd.read_csv(\"../input/tdse-inclass-competition-0/train.csv\")\n",
    "# 特徴量。Surname, id, CustomerIDは削除\n",
    "X_train_df = train_df.drop(\n",
    "    [TARGET_COULMN_NAME] + DROP_COLUMNS,\n",
    "    axis=1,\n",
    ") \n",
    "# one-hot encoding\n",
    "X_train_df = pd.get_dummies(\n",
    "    X_train_df,\n",
    "    columns=ONE_HOT_ENCODING_COLUMNS,\n",
    ")\n",
    "# 目的変数\n",
    "y_train_df = train_df[TARGET_COULMN_NAME]\n",
    "\n",
    "# テストデータの読み込み\n",
    "test_df =  pd.read_csv(\"../input/tdse-inclass-competition-0/test.csv\")\n",
    "# 学習データに合わせて特徴量を加工\n",
    "X_test_df = test_df.drop(\n",
    "    DROP_COLUMNS,\n",
    "    axis=1,\n",
    ")\n",
    "# one-hot encoding\n",
    "X_test_df = pd.get_dummies(\n",
    "    X_test_df,\n",
    "    columns=ONE_HOT_ENCODING_COLUMNS,\n",
    ")\n",
    "\n",
    "# LightGBM用のデータセット作成\n",
    "train_data = lgb.Dataset(X_train_df, label=y_train_df)"
   ]
  },
  {
   "cell_type": "code",
   "execution_count": 5,
   "id": "4672d7b5",
   "metadata": {
    "execution": {
     "iopub.execute_input": "2024-06-09T10:54:38.755461Z",
     "iopub.status.busy": "2024-06-09T10:54:38.754740Z",
     "iopub.status.idle": "2024-06-09T10:54:41.850387Z",
     "shell.execute_reply": "2024-06-09T10:54:41.848797Z"
    },
    "papermill": {
     "duration": 3.107495,
     "end_time": "2024-06-09T10:54:41.853540",
     "exception": false,
     "start_time": "2024-06-09T10:54:38.746045",
     "status": "completed"
    },
    "tags": []
   },
   "outputs": [],
   "source": [
    "# モデルのパラメータ設定\n",
    "params = {\n",
    "    'objective': 'binary', # 2値分類\n",
    "    'metric': 'auc', # 評価指標は AUC under ROC curve\n",
    "    'boosting_type': 'gbdt', # 勾配ブースティング\n",
    "    'learning_rate': 0.05, # 学習率\n",
    "    'num_leaves': 31, # ノード数\n",
    "    'feature_fraction': 0.9, # 各ツリーを作成する際の特徴量の使用割合\n",
    "    'bagging_fraction': 0.8, # 各ツリーを作成する際のデータの使用割合\n",
    "    'bagging_freq': 5, # バギング (データサンプリング) を行う頻度。5 なら 5回に1回バギングを行う\n",
    "    'verbose': 0 # 学習中のログ出力の詳細度。0 なら何も出力しない\n",
    "}\n",
    "\n",
    "# モデルのトレーニング\n",
    "model = lgb.train(\n",
    "    params,\n",
    "    train_data,\n",
    ")"
   ]
  },
  {
   "cell_type": "code",
   "execution_count": 6,
   "id": "fbdff3d0",
   "metadata": {
    "execution": {
     "iopub.execute_input": "2024-06-09T10:54:41.865881Z",
     "iopub.status.busy": "2024-06-09T10:54:41.864522Z",
     "iopub.status.idle": "2024-06-09T10:54:42.115174Z",
     "shell.execute_reply": "2024-06-09T10:54:42.113691Z"
    },
    "papermill": {
     "duration": 0.259977,
     "end_time": "2024-06-09T10:54:42.118266",
     "exception": false,
     "start_time": "2024-06-09T10:54:41.858289",
     "status": "completed"
    },
    "tags": []
   },
   "outputs": [],
   "source": [
    "# テストデータに対する予測\n",
    "y_pred_np = model.predict(X_test_df)"
   ]
  },
  {
   "cell_type": "code",
   "execution_count": 7,
   "id": "139c1aac",
   "metadata": {
    "execution": {
     "iopub.execute_input": "2024-06-09T10:54:42.130287Z",
     "iopub.status.busy": "2024-06-09T10:54:42.129733Z",
     "iopub.status.idle": "2024-06-09T10:54:42.141982Z",
     "shell.execute_reply": "2024-06-09T10:54:42.140625Z"
    },
    "papermill": {
     "duration": 0.021255,
     "end_time": "2024-06-09T10:54:42.144592",
     "exception": false,
     "start_time": "2024-06-09T10:54:42.123337",
     "status": "completed"
    },
    "tags": []
   },
   "outputs": [
    {
     "data": {
      "text/plain": [
       "array([0.02310768, 0.81771536, 0.03368528, ..., 0.01975601, 0.14910902,\n",
       "       0.18713131])"
      ]
     },
     "execution_count": 7,
     "metadata": {},
     "output_type": "execute_result"
    }
   ],
   "source": [
    "y_pred_np"
   ]
  },
  {
   "cell_type": "code",
   "execution_count": 8,
   "id": "9056c9ea",
   "metadata": {
    "execution": {
     "iopub.execute_input": "2024-06-09T10:54:42.156517Z",
     "iopub.status.busy": "2024-06-09T10:54:42.155978Z",
     "iopub.status.idle": "2024-06-09T10:54:42.164785Z",
     "shell.execute_reply": "2024-06-09T10:54:42.163440Z"
    },
    "papermill": {
     "duration": 0.018412,
     "end_time": "2024-06-09T10:54:42.167853",
     "exception": false,
     "start_time": "2024-06-09T10:54:42.149441",
     "status": "completed"
    },
    "tags": []
   },
   "outputs": [],
   "source": [
    "# 提出用ファイルの作成\n",
    "submission_df = pd.DataFrame({\n",
    "    \"id\": test_df[\"id\"],\n",
    "    \"Exited\": y_pred_np,\n",
    "})"
   ]
  },
  {
   "cell_type": "code",
   "execution_count": 9,
   "id": "f7411639",
   "metadata": {
    "execution": {
     "iopub.execute_input": "2024-06-09T10:54:42.179781Z",
     "iopub.status.busy": "2024-06-09T10:54:42.179270Z",
     "iopub.status.idle": "2024-06-09T10:54:42.200073Z",
     "shell.execute_reply": "2024-06-09T10:54:42.198692Z"
    },
    "papermill": {
     "duration": 0.030865,
     "end_time": "2024-06-09T10:54:42.203657",
     "exception": false,
     "start_time": "2024-06-09T10:54:42.172792",
     "status": "completed"
    },
    "tags": []
   },
   "outputs": [
    {
     "data": {
      "text/html": [
       "<div>\n",
       "<style scoped>\n",
       "    .dataframe tbody tr th:only-of-type {\n",
       "        vertical-align: middle;\n",
       "    }\n",
       "\n",
       "    .dataframe tbody tr th {\n",
       "        vertical-align: top;\n",
       "    }\n",
       "\n",
       "    .dataframe thead th {\n",
       "        text-align: right;\n",
       "    }\n",
       "</style>\n",
       "<table border=\"1\" class=\"dataframe\">\n",
       "  <thead>\n",
       "    <tr style=\"text-align: right;\">\n",
       "      <th></th>\n",
       "      <th>id</th>\n",
       "      <th>Exited</th>\n",
       "    </tr>\n",
       "  </thead>\n",
       "  <tbody>\n",
       "    <tr>\n",
       "      <th>0</th>\n",
       "      <td>165034</td>\n",
       "      <td>0.023108</td>\n",
       "    </tr>\n",
       "    <tr>\n",
       "      <th>1</th>\n",
       "      <td>165035</td>\n",
       "      <td>0.817715</td>\n",
       "    </tr>\n",
       "    <tr>\n",
       "      <th>2</th>\n",
       "      <td>165036</td>\n",
       "      <td>0.033685</td>\n",
       "    </tr>\n",
       "    <tr>\n",
       "      <th>3</th>\n",
       "      <td>165037</td>\n",
       "      <td>0.232758</td>\n",
       "    </tr>\n",
       "    <tr>\n",
       "      <th>4</th>\n",
       "      <td>165038</td>\n",
       "      <td>0.357747</td>\n",
       "    </tr>\n",
       "  </tbody>\n",
       "</table>\n",
       "</div>"
      ],
      "text/plain": [
       "       id    Exited\n",
       "0  165034  0.023108\n",
       "1  165035  0.817715\n",
       "2  165036  0.033685\n",
       "3  165037  0.232758\n",
       "4  165038  0.357747"
      ]
     },
     "execution_count": 9,
     "metadata": {},
     "output_type": "execute_result"
    }
   ],
   "source": [
    "submission_df.head()"
   ]
  },
  {
   "cell_type": "code",
   "execution_count": 10,
   "id": "c97bae41",
   "metadata": {
    "execution": {
     "iopub.execute_input": "2024-06-09T10:54:42.216889Z",
     "iopub.status.busy": "2024-06-09T10:54:42.216424Z",
     "iopub.status.idle": "2024-06-09T10:54:42.600114Z",
     "shell.execute_reply": "2024-06-09T10:54:42.598826Z"
    },
    "papermill": {
     "duration": 0.394023,
     "end_time": "2024-06-09T10:54:42.603380",
     "exception": false,
     "start_time": "2024-06-09T10:54:42.209357",
     "status": "completed"
    },
    "tags": []
   },
   "outputs": [],
   "source": [
    "submission_df.to_csv(\"submission.csv\", index=False)"
   ]
  }
 ],
 "metadata": {
  "kaggle": {
   "accelerator": "none",
   "dataSources": [
    {
     "databundleVersionId": 8428413,
     "sourceId": 77360,
     "sourceType": "competition"
    },
    {
     "datasetId": 5178796,
     "sourceId": 8646577,
     "sourceType": "datasetVersion"
    }
   ],
   "dockerImageVersionId": 30732,
   "isGpuEnabled": false,
   "isInternetEnabled": true,
   "language": "python",
   "sourceType": "notebook"
  },
  "kernelspec": {
   "display_name": "Python 3",
   "language": "python",
   "name": "python3"
  },
  "language_info": {
   "codemirror_mode": {
    "name": "ipython",
    "version": 3
   },
   "file_extension": ".py",
   "mimetype": "text/x-python",
   "name": "python",
   "nbconvert_exporter": "python",
   "pygments_lexer": "ipython3",
   "version": "3.10.13"
  },
  "papermill": {
   "default_parameters": {},
   "duration": 12.94155,
   "end_time": "2024-06-09T10:54:43.333891",
   "environment_variables": {},
   "exception": null,
   "input_path": "__notebook__.ipynb",
   "output_path": "__notebook__.ipynb",
   "parameters": {},
   "start_time": "2024-06-09T10:54:30.392341",
   "version": "2.5.0"
  }
 },
 "nbformat": 4,
 "nbformat_minor": 5
}
