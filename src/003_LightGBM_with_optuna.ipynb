{
 "cells": [
  {
   "cell_type": "code",
   "execution_count": 9,
   "id": "1e270f86",
   "metadata": {
    "_cell_guid": "b1076dfc-b9ad-4769-8c92-a6c4dae69d19",
    "_uuid": "8f2839f25d086af736a60e9eeb907d3b93b6e0e5",
    "execution": {
     "iopub.execute_input": "2024-06-09T11:11:49.215291Z",
     "iopub.status.busy": "2024-06-09T11:11:49.214890Z",
     "iopub.status.idle": "2024-06-09T11:11:52.635798Z",
     "shell.execute_reply": "2024-06-09T11:11:52.634814Z"
    },
    "papermill": {
     "duration": 3.430466,
     "end_time": "2024-06-09T11:11:52.638729",
     "exception": false,
     "start_time": "2024-06-09T11:11:49.208263",
     "status": "completed"
    },
    "tags": []
   },
   "outputs": [],
   "source": [
    "import numpy as np # 今回は明示的には使わない\n",
    "import pandas as pd # data processing, CSV file I/O (e.g. pd.read_csv)\n",
    "import lightgbm as lgb # LightGBM でモデルを作成する\n",
    "from sklearn.metrics import accuracy_score, roc_auc_score #精度評価に使用\n",
    "import pickle # モデルの保存・読み込みに使用"
   ]
  },
  {
   "cell_type": "code",
   "execution_count": 2,
   "id": "1964736e",
   "metadata": {
    "execution": {
     "iopub.execute_input": "2024-06-09T11:11:52.650658Z",
     "iopub.status.busy": "2024-06-09T11:11:52.649439Z",
     "iopub.status.idle": "2024-06-09T11:11:52.664191Z",
     "shell.execute_reply": "2024-06-09T11:11:52.663119Z"
    },
    "papermill": {
     "duration": 0.023378,
     "end_time": "2024-06-09T11:11:52.667033",
     "exception": false,
     "start_time": "2024-06-09T11:11:52.643655",
     "status": "completed"
    },
    "tags": []
   },
   "outputs": [
    {
     "name": "stderr",
     "output_type": "stream",
     "text": [
      "/Users/takako/Desktop/GitHub/TDSE_competition_0/.venv/lib/python3.10/site-packages/tqdm/auto.py:21: TqdmWarning: IProgress not found. Please update jupyter and ipywidgets. See https://ipywidgets.readthedocs.io/en/stable/user_install.html\n",
      "  from .autonotebook import tqdm as notebook_tqdm\n"
     ]
    }
   ],
   "source": [
    "# 自作のモジュールを読み込み\n",
    "# 自作のプロット用モジュールを読み込む\n",
    "import sys\n",
    "sys.path.append(\"../input/modeling-and-evaluation/\")\n",
    "import optuna_hypara as my_optuna"
   ]
  },
  {
   "cell_type": "code",
   "execution_count": 3,
   "id": "fc24fb58",
   "metadata": {
    "execution": {
     "iopub.execute_input": "2024-06-09T11:11:52.678321Z",
     "iopub.status.busy": "2024-06-09T11:11:52.677370Z",
     "iopub.status.idle": "2024-06-09T11:11:52.683463Z",
     "shell.execute_reply": "2024-06-09T11:11:52.682320Z"
    },
    "papermill": {
     "duration": 0.014343,
     "end_time": "2024-06-09T11:11:52.685998",
     "exception": false,
     "start_time": "2024-06-09T11:11:52.671655",
     "status": "completed"
    },
    "tags": []
   },
   "outputs": [],
   "source": [
    "# 各種定数の定義\n",
    "# 乱数シード\n",
    "RANDOM_SEED = 42\n",
    "# target となる特徴量\n",
    "TARGET_COULMN_NAME = \"Exited\"\n",
    "# 削除する特徴量のリスト\n",
    "DROP_COLUMNS = [\"id\", \"CustomerId\", \"Surname\"]\n",
    "# one-hot encoding する特徴量のリスト\n",
    "ONE_HOT_ENCODING_COLUMNS = [\"Geography\", \"Gender\"]\n",
    "# ベストモデルのパス\n",
    "BEST_MODEL_PATH = \"../working/best_lgbm_model.pkl\""
   ]
  },
  {
   "cell_type": "code",
   "execution_count": 4,
   "id": "bf861b2a",
   "metadata": {
    "execution": {
     "iopub.execute_input": "2024-06-09T11:11:52.697396Z",
     "iopub.status.busy": "2024-06-09T11:11:52.696376Z",
     "iopub.status.idle": "2024-06-09T11:11:53.610869Z",
     "shell.execute_reply": "2024-06-09T11:11:53.609929Z"
    },
    "papermill": {
     "duration": 0.923162,
     "end_time": "2024-06-09T11:11:53.613687",
     "exception": false,
     "start_time": "2024-06-09T11:11:52.690525",
     "status": "completed"
    },
    "tags": []
   },
   "outputs": [],
   "source": [
    "# 学習データの読み込み\n",
    "train_df =  pd.read_csv(\"../input/tdse-inclass-competition-0/train.csv\")"
   ]
  },
  {
   "cell_type": "code",
   "execution_count": 5,
   "id": "f314f446",
   "metadata": {},
   "outputs": [],
   "source": [
    "# 特徴量。Surname, id, CustomerIDは削除\n",
    "X_train_df = train_df.drop(\n",
    "    [TARGET_COULMN_NAME] + DROP_COLUMNS,\n",
    "    axis=1,\n",
    ") \n",
    "# one-hot encoding\n",
    "X_train_df = pd.get_dummies(\n",
    "    X_train_df,\n",
    "    columns=ONE_HOT_ENCODING_COLUMNS,\n",
    ")\n",
    "# 目的変数\n",
    "y_train_df = train_df[TARGET_COULMN_NAME]"
   ]
  },
  {
   "cell_type": "code",
   "execution_count": 6,
   "id": "40877f88",
   "metadata": {},
   "outputs": [],
   "source": [
    "# テストデータの読み込み\n",
    "test_df =  pd.read_csv(\"../input/tdse-inclass-competition-0/test.csv\")\n",
    "# 学習データに合わせて特徴量を加工\n",
    "X_test_df = test_df.drop(\n",
    "    DROP_COLUMNS,\n",
    "    axis=1,\n",
    ")\n",
    "# one-hot encoding\n",
    "X_test_df = pd.get_dummies(\n",
    "    X_test_df,\n",
    "    columns=ONE_HOT_ENCODING_COLUMNS,\n",
    ")"
   ]
  },
  {
   "cell_type": "code",
   "execution_count": 7,
   "id": "5974b6ac",
   "metadata": {},
   "outputs": [
    {
     "name": "stderr",
     "output_type": "stream",
     "text": [
      "[I 2024-06-09 21:09:56,913] A new study created in memory with name: no-name-195fb133-e472-4758-8318-f6797ca7eef2\n",
      "[I 2024-06-09 21:09:58,727] Trial 0 finished with value: 0.8876085383841619 and parameters: {'num_leaves': 105, 'feature_fraction': 0.9168507998324879, 'bagging_fraction': 0.45873628974870784, 'bagging_freq': 5, 'min_child_samples': 57}. Best is trial 0 with value: 0.8876085383841619.\n",
      "[I 2024-06-09 21:10:00,683] Trial 1 finished with value: 0.889679381490296 and parameters: {'num_leaves': 122, 'feature_fraction': 0.8738179719841908, 'bagging_fraction': 0.86149938514544, 'bagging_freq': 5, 'min_child_samples': 70}. Best is trial 1 with value: 0.889679381490296.\n",
      "[I 2024-06-09 21:10:02,203] Trial 2 finished with value: 0.8906822918891522 and parameters: {'num_leaves': 80, 'feature_fraction': 0.5053463818770678, 'bagging_fraction': 0.8549444799322454, 'bagging_freq': 5, 'min_child_samples': 24}. Best is trial 2 with value: 0.8906822918891522.\n",
      "[I 2024-06-09 21:10:03,833] Trial 3 finished with value: 0.8883962346832077 and parameters: {'num_leaves': 94, 'feature_fraction': 0.8669832277215355, 'bagging_fraction': 0.48993963693316406, 'bagging_freq': 7, 'min_child_samples': 50}. Best is trial 2 with value: 0.8906822918891522.\n",
      "[I 2024-06-09 21:10:05,540] Trial 4 finished with value: 0.8898119317412292 and parameters: {'num_leaves': 104, 'feature_fraction': 0.930271876613333, 'bagging_fraction': 0.8891639495189144, 'bagging_freq': 6, 'min_child_samples': 9}. Best is trial 2 with value: 0.8906822918891522.\n",
      "[I 2024-06-09 21:10:07,519] Trial 5 finished with value: 0.8897351732414174 and parameters: {'num_leaves': 114, 'feature_fraction': 0.46029689983763294, 'bagging_fraction': 0.6600726013360407, 'bagging_freq': 7, 'min_child_samples': 18}. Best is trial 2 with value: 0.8906822918891522.\n",
      "[I 2024-06-09 21:10:08,687] Trial 6 finished with value: 0.8910029219887936 and parameters: {'num_leaves': 47, 'feature_fraction': 0.5732580277742092, 'bagging_fraction': 0.9243958355946519, 'bagging_freq': 5, 'min_child_samples': 31}. Best is trial 6 with value: 0.8910029219887936.\n",
      "[I 2024-06-09 21:10:09,729] Trial 7 finished with value: 0.8904468036773877 and parameters: {'num_leaves': 55, 'feature_fraction': 0.9837059422779499, 'bagging_fraction': 0.6613324129952194, 'bagging_freq': 1, 'min_child_samples': 42}. Best is trial 6 with value: 0.8910029219887936.\n",
      "[I 2024-06-09 21:10:11,506] Trial 8 finished with value: 0.889993057627487 and parameters: {'num_leaves': 112, 'feature_fraction': 0.8669426341455941, 'bagging_fraction': 0.8857005509436121, 'bagging_freq': 7, 'min_child_samples': 22}. Best is trial 6 with value: 0.8910029219887936.\n",
      "[I 2024-06-09 21:10:12,972] Trial 9 finished with value: 0.8908672479737754 and parameters: {'num_leaves': 67, 'feature_fraction': 0.44912686786296235, 'bagging_fraction': 0.9100682856182749, 'bagging_freq': 6, 'min_child_samples': 45}. Best is trial 6 with value: 0.8910029219887936.\n"
     ]
    },
    {
     "name": "stdout",
     "output_type": "stream",
     "text": [
      "[LightGBM] [Info] Auto-choosing row-wise multi-threading, the overhead of testing was 0.001135 seconds.\n",
      "You can set `force_row_wise=true` to remove the overhead.\n",
      "And if memory is not enough, you can set `force_col_wise=true`.\n",
      "[LightGBM] [Info] Total Bins 864\n",
      "[LightGBM] [Info] Number of data points in the train set: 132027, number of used features: 13\n",
      "[LightGBM] [Info] Start training from score 0.211820\n",
      "Best trial:\n",
      "  Value: 0.8910029219887936\n",
      "  Params: \n",
      "    num_leaves: 47\n",
      "    feature_fraction: 0.5732580277742092\n",
      "    bagging_fraction: 0.9243958355946519\n",
      "    bagging_freq: 5\n",
      "    min_child_samples: 31\n"
     ]
    },
    {
     "data": {
      "text/plain": [
       "<optuna.study.study.Study at 0x15e483250>"
      ]
     },
     "execution_count": 7,
     "metadata": {},
     "output_type": "execute_result"
    }
   ],
   "source": [
    "my_optuna.optimize_lgbm_hyperparameters(\n",
    "    X_train_df,\n",
    "    y_train_df,\n",
    "    n_trials=10,\n",
    "    seed=RANDOM_SEED,\n",
    "    model_path=BEST_MODEL_PATH,\n",
    ")"
   ]
  },
  {
   "cell_type": "code",
   "execution_count": 10,
   "id": "31cfd737",
   "metadata": {},
   "outputs": [],
   "source": [
    "# モデルの読み込み\n",
    "with open(BEST_MODEL_PATH, 'rb') as f:\n",
    "    model = pickle.load(f)"
   ]
  },
  {
   "cell_type": "code",
   "execution_count": 11,
   "id": "bae26142",
   "metadata": {
    "execution": {
     "iopub.execute_input": "2024-06-09T11:11:56.231320Z",
     "iopub.status.busy": "2024-06-09T11:11:56.230921Z",
     "iopub.status.idle": "2024-06-09T11:11:56.488350Z",
     "shell.execute_reply": "2024-06-09T11:11:56.487111Z"
    },
    "papermill": {
     "duration": 0.26705,
     "end_time": "2024-06-09T11:11:56.491912",
     "exception": false,
     "start_time": "2024-06-09T11:11:56.224862",
     "status": "completed"
    },
    "tags": []
   },
   "outputs": [],
   "source": [
    "# テストデータに対する予測\n",
    "y_pred_np = model.predict(X_test_df)"
   ]
  },
  {
   "cell_type": "code",
   "execution_count": 12,
   "id": "661d53c9",
   "metadata": {
    "execution": {
     "iopub.execute_input": "2024-06-09T11:11:56.512107Z",
     "iopub.status.busy": "2024-06-09T11:11:56.511141Z",
     "iopub.status.idle": "2024-06-09T11:11:56.522117Z",
     "shell.execute_reply": "2024-06-09T11:11:56.520876Z"
    },
    "papermill": {
     "duration": 0.027215,
     "end_time": "2024-06-09T11:11:56.524731",
     "exception": false,
     "start_time": "2024-06-09T11:11:56.497516",
     "status": "completed"
    },
    "tags": []
   },
   "outputs": [
    {
     "data": {
      "text/plain": [
       "array([0.0280737 , 0.82196997, 0.03929901, ..., 0.00851255, 0.18852961,\n",
       "       0.2208965 ])"
      ]
     },
     "execution_count": 12,
     "metadata": {},
     "output_type": "execute_result"
    }
   ],
   "source": [
    "y_pred_np"
   ]
  },
  {
   "cell_type": "code",
   "execution_count": 13,
   "id": "25ba7d1c",
   "metadata": {
    "execution": {
     "iopub.execute_input": "2024-06-09T11:11:56.537080Z",
     "iopub.status.busy": "2024-06-09T11:11:56.536532Z",
     "iopub.status.idle": "2024-06-09T11:11:56.543851Z",
     "shell.execute_reply": "2024-06-09T11:11:56.542759Z"
    },
    "papermill": {
     "duration": 0.01651,
     "end_time": "2024-06-09T11:11:56.546225",
     "exception": false,
     "start_time": "2024-06-09T11:11:56.529715",
     "status": "completed"
    },
    "tags": []
   },
   "outputs": [],
   "source": [
    "# 提出用ファイルの作成\n",
    "submission_df = pd.DataFrame({\n",
    "    \"id\": test_df[\"id\"],\n",
    "    \"Exited\": y_pred_np,\n",
    "})"
   ]
  },
  {
   "cell_type": "code",
   "execution_count": 14,
   "id": "f0daa241",
   "metadata": {
    "execution": {
     "iopub.execute_input": "2024-06-09T11:11:56.557539Z",
     "iopub.status.busy": "2024-06-09T11:11:56.557124Z",
     "iopub.status.idle": "2024-06-09T11:11:56.573982Z",
     "shell.execute_reply": "2024-06-09T11:11:56.572944Z"
    },
    "papermill": {
     "duration": 0.02537,
     "end_time": "2024-06-09T11:11:56.576473",
     "exception": false,
     "start_time": "2024-06-09T11:11:56.551103",
     "status": "completed"
    },
    "tags": []
   },
   "outputs": [
    {
     "data": {
      "text/html": [
       "<div>\n",
       "<style scoped>\n",
       "    .dataframe tbody tr th:only-of-type {\n",
       "        vertical-align: middle;\n",
       "    }\n",
       "\n",
       "    .dataframe tbody tr th {\n",
       "        vertical-align: top;\n",
       "    }\n",
       "\n",
       "    .dataframe thead th {\n",
       "        text-align: right;\n",
       "    }\n",
       "</style>\n",
       "<table border=\"1\" class=\"dataframe\">\n",
       "  <thead>\n",
       "    <tr style=\"text-align: right;\">\n",
       "      <th></th>\n",
       "      <th>id</th>\n",
       "      <th>Exited</th>\n",
       "    </tr>\n",
       "  </thead>\n",
       "  <tbody>\n",
       "    <tr>\n",
       "      <th>0</th>\n",
       "      <td>165034</td>\n",
       "      <td>0.028074</td>\n",
       "    </tr>\n",
       "    <tr>\n",
       "      <th>1</th>\n",
       "      <td>165035</td>\n",
       "      <td>0.821970</td>\n",
       "    </tr>\n",
       "    <tr>\n",
       "      <th>2</th>\n",
       "      <td>165036</td>\n",
       "      <td>0.039299</td>\n",
       "    </tr>\n",
       "    <tr>\n",
       "      <th>3</th>\n",
       "      <td>165037</td>\n",
       "      <td>0.238457</td>\n",
       "    </tr>\n",
       "    <tr>\n",
       "      <th>4</th>\n",
       "      <td>165038</td>\n",
       "      <td>0.355002</td>\n",
       "    </tr>\n",
       "  </tbody>\n",
       "</table>\n",
       "</div>"
      ],
      "text/plain": [
       "       id    Exited\n",
       "0  165034  0.028074\n",
       "1  165035  0.821970\n",
       "2  165036  0.039299\n",
       "3  165037  0.238457\n",
       "4  165038  0.355002"
      ]
     },
     "execution_count": 14,
     "metadata": {},
     "output_type": "execute_result"
    }
   ],
   "source": [
    "submission_df.head()"
   ]
  },
  {
   "cell_type": "code",
   "execution_count": null,
   "id": "ce50f65c",
   "metadata": {
    "execution": {
     "iopub.execute_input": "2024-06-09T11:11:56.588793Z",
     "iopub.status.busy": "2024-06-09T11:11:56.588379Z",
     "iopub.status.idle": "2024-06-09T11:11:56.965829Z",
     "shell.execute_reply": "2024-06-09T11:11:56.964830Z"
    },
    "papermill": {
     "duration": 0.387192,
     "end_time": "2024-06-09T11:11:56.968791",
     "exception": false,
     "start_time": "2024-06-09T11:11:56.581599",
     "status": "completed"
    },
    "tags": []
   },
   "outputs": [],
   "source": [
    "submission_df.to_csv(\"submission.csv\", index=False)"
   ]
  }
 ],
 "metadata": {
  "kaggle": {
   "accelerator": "none",
   "dataSources": [
    {
     "databundleVersionId": 8428413,
     "sourceId": 77360,
     "sourceType": "competition"
    },
    {
     "datasetId": 5178796,
     "sourceId": 8646577,
     "sourceType": "datasetVersion"
    }
   ],
   "dockerImageVersionId": 30732,
   "isGpuEnabled": false,
   "isInternetEnabled": true,
   "language": "python",
   "sourceType": "notebook"
  },
  "kernelspec": {
   "display_name": "Python 3",
   "language": "python",
   "name": "python3"
  },
  "language_info": {
   "codemirror_mode": {
    "name": "ipython",
    "version": 3
   },
   "file_extension": ".py",
   "mimetype": "text/x-python",
   "name": "python",
   "nbconvert_exporter": "python",
   "pygments_lexer": "ipython3",
   "version": "3.10.2"
  },
  "papermill": {
   "default_parameters": {},
   "duration": 11.489494,
   "end_time": "2024-06-09T11:11:57.696432",
   "environment_variables": {},
   "exception": null,
   "input_path": "__notebook__.ipynb",
   "output_path": "__notebook__.ipynb",
   "parameters": {},
   "start_time": "2024-06-09T11:11:46.206938",
   "version": "2.5.0"
  }
 },
 "nbformat": 4,
 "nbformat_minor": 5
}
