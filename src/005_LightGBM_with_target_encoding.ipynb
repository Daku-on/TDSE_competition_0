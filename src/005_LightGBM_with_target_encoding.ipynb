{
 "cells": [
  {
   "cell_type": "code",
   "execution_count": 1,
   "id": "480a887c",
   "metadata": {
    "_cell_guid": "b1076dfc-b9ad-4769-8c92-a6c4dae69d19",
    "_uuid": "8f2839f25d086af736a60e9eeb907d3b93b6e0e5",
    "execution": {
     "iopub.execute_input": "2024-06-11T11:52:00.851855Z",
     "iopub.status.busy": "2024-06-11T11:52:00.851385Z",
     "iopub.status.idle": "2024-06-11T11:52:04.631881Z",
     "shell.execute_reply": "2024-06-11T11:52:04.630649Z"
    },
    "papermill": {
     "duration": 3.794676,
     "end_time": "2024-06-11T11:52:04.634836",
     "exception": false,
     "start_time": "2024-06-11T11:52:00.840160",
     "status": "completed"
    },
    "tags": []
   },
   "outputs": [],
   "source": [
    "import numpy as np # 今回は明示的には使わない\n",
    "import pandas as pd # data processing, CSV file I/O (e.g. pd.read_csv)\n",
    "import lightgbm as lgb # LightGBM でモデルを作成する\n",
    "from sklearn.metrics import accuracy_score, roc_auc_score #精度評価に使用\n",
    "import pickle # モデルの保存・読み込みに使用"
   ]
  },
  {
   "cell_type": "code",
   "execution_count": 2,
   "id": "f00da2c1",
   "metadata": {
    "execution": {
     "iopub.execute_input": "2024-06-11T11:52:04.656018Z",
     "iopub.status.busy": "2024-06-11T11:52:04.655383Z",
     "iopub.status.idle": "2024-06-11T11:52:04.965673Z",
     "shell.execute_reply": "2024-06-11T11:52:04.964387Z"
    },
    "papermill": {
     "duration": 0.324978,
     "end_time": "2024-06-11T11:52:04.968909",
     "exception": false,
     "start_time": "2024-06-11T11:52:04.643931",
     "status": "completed"
    },
    "tags": []
   },
   "outputs": [],
   "source": [
    "# 自作のモジュールを読み込み\n",
    "import sys\n",
    "sys.path.append(\"../input/modeling-and-evaluation/\")\n",
    "import optuna_hypara as my_optuna"
   ]
  },
  {
   "cell_type": "code",
   "execution_count": 3,
   "id": "9c58f1d5",
   "metadata": {
    "execution": {
     "iopub.execute_input": "2024-06-11T11:52:04.989443Z",
     "iopub.status.busy": "2024-06-11T11:52:04.989013Z",
     "iopub.status.idle": "2024-06-11T11:52:04.995376Z",
     "shell.execute_reply": "2024-06-11T11:52:04.994044Z"
    },
    "papermill": {
     "duration": 0.019895,
     "end_time": "2024-06-11T11:52:04.998075",
     "exception": false,
     "start_time": "2024-06-11T11:52:04.978180",
     "status": "completed"
    },
    "tags": []
   },
   "outputs": [],
   "source": [
    "# 各種定数の定義\n",
    "# 乱数シード\n",
    "RANDOM_SEED = 42\n",
    "# target となる特徴量\n",
    "TARGET_COULMN_NAME = \"Exited\"\n",
    "# 削除する特徴量のリスト\n",
    "DROP_COLUMNS = [\"id\", \"CustomerId\", \"Surname\"]\n",
    "# one-hot encoding する特徴量のリスト\n",
    "ONE_HOT_ENCODING_COLUMNS = [\"Geography\", \"Gender\"]\n",
    "# ベストモデルのパス\n",
    "BEST_MODEL_PATH = \"../working/best_lgbm_model.pkl\""
   ]
  },
  {
   "cell_type": "code",
   "execution_count": 4,
   "id": "409f919b",
   "metadata": {
    "execution": {
     "iopub.execute_input": "2024-06-11T11:52:05.018348Z",
     "iopub.status.busy": "2024-06-11T11:52:05.017921Z",
     "iopub.status.idle": "2024-06-11T11:52:05.566572Z",
     "shell.execute_reply": "2024-06-11T11:52:05.565077Z"
    },
    "papermill": {
     "duration": 0.562204,
     "end_time": "2024-06-11T11:52:05.569515",
     "exception": false,
     "start_time": "2024-06-11T11:52:05.007311",
     "status": "completed"
    },
    "tags": []
   },
   "outputs": [],
   "source": [
    "# 学習データの読み込み\n",
    "train_df =  pd.read_csv(\"../input/tdse-inclass-competition-0/train.csv\")"
   ]
  },
  {
   "cell_type": "markdown",
   "id": "9007010d",
   "metadata": {
    "papermill": {
     "duration": 0.00888,
     "end_time": "2024-06-11T11:52:05.588073",
     "exception": false,
     "start_time": "2024-06-11T11:52:05.579193",
     "status": "completed"
    },
    "tags": []
   },
   "source": [
    "## 前処理を行う"
   ]
  },
  {
   "cell_type": "markdown",
   "id": "9a95c8b6",
   "metadata": {
    "papermill": {
     "duration": 0.008586,
     "end_time": "2024-06-11T11:52:05.605399",
     "exception": false,
     "start_time": "2024-06-11T11:52:05.596813",
     "status": "completed"
    },
    "tags": []
   },
   "source": [
    "### target encodingを行う"
   ]
  },
  {
   "cell_type": "code",
   "execution_count": 5,
   "id": "2cefc7f4",
   "metadata": {
    "execution": {
     "iopub.execute_input": "2024-06-11T11:52:05.625542Z",
     "iopub.status.busy": "2024-06-11T11:52:05.625145Z",
     "iopub.status.idle": "2024-06-11T11:52:05.644721Z",
     "shell.execute_reply": "2024-06-11T11:52:05.643325Z"
    },
    "papermill": {
     "duration": 0.032971,
     "end_time": "2024-06-11T11:52:05.647476",
     "exception": false,
     "start_time": "2024-06-11T11:52:05.614505",
     "status": "completed"
    },
    "tags": []
   },
   "outputs": [],
   "source": [
    "from sklearn import base\n",
    "from sklearn.model_selection import KFold\n",
    "\n",
    "class KFoldTargetEncoderTrain(base.BaseEstimator,\n",
    "                               base.TransformerMixin):\n",
    "    \"\"\"How to use.\n",
    "    targetc = KFoldTargetEncoderTrain('Feature','Target',n_fold=5)\n",
    "    new_train = targetc.fit_transform(train)\n",
    "    \"\"\"\n",
    "    def __init__(\n",
    "        self,\n",
    "        colnames,\n",
    "        targetName,\n",
    "        n_fold=5,\n",
    "        verbosity=True,\n",
    "        discardOriginal_col=False\n",
    "    ):\n",
    "        self.colnames = colnames\n",
    "        self.targetName = targetName\n",
    "        self.n_fold = n_fold\n",
    "        self.verbosity = verbosity\n",
    "        self.discardOriginal_col = discardOriginal_col\n",
    "\n",
    "    def fit(self, X, y=None):\n",
    "        return self\n",
    "\n",
    "    def transform(self,X):        \n",
    "        assert(type(self.targetName) == str)\n",
    "        assert(type(self.colnames) == str)\n",
    "        assert(self.colnames in X.columns)\n",
    "        assert(self.targetName in X.columns)       \n",
    "\n",
    "        mean_of_target = X[self.targetName].mean()\n",
    "        kf = KFold(\n",
    "            n_splits = self.n_fold,\n",
    "            # shuffle = False,\n",
    "            # random_state=2019, # random_state is not working for shuffle=False\n",
    "            )        \n",
    "        col_mean_name = self.colnames + '_' + 'Kfold_Target_Enc'\n",
    "        X[col_mean_name] = np.nan       \n",
    "\n",
    "        for tr_ind, val_ind in kf.split(X):\n",
    "            X_tr, X_val = X.iloc[tr_ind], X.iloc[val_ind]\n",
    "            X.loc[X.index[val_ind], col_mean_name] = X_val[self.colnames].map(X_tr.groupby(self.colnames)[self.targetName].mean())\n",
    "            # X[col_mean_name].fillna(mean_of_target, inplace = True)  # nanになってしまったところは平均値で埋める --(1)\n",
    "\n",
    "        if self.verbosity:            \n",
    "            encoded_feature = X[col_mean_name].values\n",
    "            print('Correlation between the new feature, {} and, {} is {}.'.format(col_mean_name,self.targetName, \n",
    "                                                                                  np.corrcoef(X[self.targetName].values,encoded_feature)[0][1]))\n",
    "        if self.discardOriginal_col:\n",
    "            X = X.drop(self.targetName, axis=1)\n",
    "        return X\n",
    "\n",
    "\n",
    "class TargetEncoderTest(base.BaseEstimator, base.TransformerMixin):\n",
    "    \"\"\"How to use.\n",
    "    test_targetc = TargetEncoderTest(new_train,\n",
    "                                      'Feature',\n",
    "                                      'Feature_Kfold_Target_Enc')\n",
    "    new_test = test_targetc.fit_transform(test)\n",
    "    \"\"\"\n",
    "\n",
    "    def __init__(self,train,colNames,encodedName):\n",
    "\n",
    "        self.train = train\n",
    "        self.colNames = colNames\n",
    "        self.encodedName = encodedName\n",
    "\n",
    "    def fit(self, X, y=None):\n",
    "        return self\n",
    "\n",
    "    def transform(self,X):       \n",
    "        mean =  self.train[[self.colNames, self.encodedName]].groupby(self.colNames).mean().reset_index() \n",
    "\n",
    "        dd = {}\n",
    "        for index, row in mean.iterrows():\n",
    "            dd[row[self.colNames]] = row[self.encodedName]\n",
    "            X[self.encodedName] = X[self.colNames]\n",
    "        X = X.replace({self.encodedName: dd})\n",
    "        return X"
   ]
  },
  {
   "cell_type": "code",
   "execution_count": 6,
   "id": "1858e6be",
   "metadata": {
    "execution": {
     "iopub.execute_input": "2024-06-11T11:52:05.667268Z",
     "iopub.status.busy": "2024-06-11T11:52:05.666814Z",
     "iopub.status.idle": "2024-06-11T11:52:05.680092Z",
     "shell.execute_reply": "2024-06-11T11:52:05.678727Z"
    },
    "jupyter": {
     "source_hidden": true
    },
    "papermill": {
     "duration": 0.027238,
     "end_time": "2024-06-11T11:52:05.683627",
     "exception": false,
     "start_time": "2024-06-11T11:52:05.656389",
     "status": "completed"
    },
    "tags": []
   },
   "outputs": [],
   "source": [
    "# 後でモジュールにしたいので、必要なモジュールとともに関数化しておく\n",
    "# 明らかに出力がおかしいので使わんほうがよさそう...?\n",
    "import numpy as np\n",
    "import pandas as pd\n",
    "from sklearn.model_selection import StratifiedKFold\n",
    "\n",
    "def holdout_ts_wo_smoothing(\n",
    "    train_df: pd.DataFrame,\n",
    "    categorical_col: str, # list[str]にもできるらしいがちょっと面倒なので今回は1つのみ\n",
    "    target_col: str,\n",
    "    n_splits: int = 5,\n",
    "    random_seed: int = 42,\n",
    ") -> pd.DataFrame:\n",
    "    \"\"\"\n",
    "    holdout法を用いたtarget encoding\n",
    "    cf. https://blog.amedama.jp/entry/target-mean-encoding-types\n",
    "    \n",
    "    Args:\n",
    "        train_df (pd.DataFrame): 学習データ\n",
    "        random_seed (int): 乱数シード\n",
    "\n",
    "    Returns:\n",
    "        pd.DataFrame: target encoding されたデータ\n",
    "    \"\"\"\n",
    "    # 生成した特徴量をいれるpd.Seriesを用意\n",
    "    generated_feature = pd.Series(\n",
    "        np.empty(train_df.shape[0]),\n",
    "        name=f\"{categorical_col}_target_encoded\",\n",
    "        index=train_df.index,\n",
    "    )\n",
    "\n",
    "    # sumとcountを計算\n",
    "    agg_df = train_df.groupby(categorical_col).agg({target_col: [\"sum\", \"count\"]})\n",
    "\n",
    "    # holdsオブジェクトを用意する\n",
    "    folds = StratifiedKFold(\n",
    "        n_splits=n_splits,\n",
    "        shuffle=True, random_state=random_seed,\n",
    "    )\n",
    "\n",
    "    # K-Foldでtarget encodingを行う\n",
    "    for _, holdout_idx in folds.split(train_df, train_df[target_col]):\n",
    "        # holdout法で分割\n",
    "        holdout_df = train_df.iloc[holdout_idx]\n",
    "\n",
    "        # holdoutしたデータのsumとcountを取得\n",
    "        holdout_agg_df = holdout_df.groupby(categorical_col).agg({target_col: [\"sum\", \"count\"]})\n",
    "\n",
    "        # 全体のsumとcountからholdoutしたデータのsumとcountを引く\n",
    "        train_agg_df = agg_df - holdout_agg_df\n",
    "\n",
    "        # holdoutしたデータの平均を計算\n",
    "        # 分母に1を足しているのは、分母が0になるのを防ぐため\n",
    "        holdout_mean = holdout_df.apply(\n",
    "            lambda row:\n",
    "            train_agg_df.loc[row[categorical_col]][(target_col, \"sum\")] / (1 + train_agg_df.loc[row[categorical_col]][(target_col, \"count\")]),\n",
    "            axis=1,\n",
    "        )\n",
    "\n",
    "        # 計算値を格納してreturn用のpd.Seriesに追加\n",
    "        generated_feature[holdout_idx] = holdout_mean\n",
    "\n",
    "        return generated_feature\n"
   ]
  },
  {
   "cell_type": "code",
   "execution_count": 7,
   "id": "5e75aab5",
   "metadata": {
    "execution": {
     "iopub.execute_input": "2024-06-11T11:52:05.709460Z",
     "iopub.status.busy": "2024-06-11T11:52:05.708905Z",
     "iopub.status.idle": "2024-06-11T11:52:05.926877Z",
     "shell.execute_reply": "2024-06-11T11:52:05.925482Z"
    },
    "papermill": {
     "duration": 0.234757,
     "end_time": "2024-06-11T11:52:05.929645",
     "exception": false,
     "start_time": "2024-06-11T11:52:05.694888",
     "status": "completed"
    },
    "tags": []
   },
   "outputs": [
    {
     "name": "stdout",
     "output_type": "stream",
     "text": [
      "Correlation between the new feature, CustomerId_Kfold_Target_Enc and, Exited is nan.\n"
     ]
    },
    {
     "data": {
      "text/plain": [
       "10758"
      ]
     },
     "execution_count": 7,
     "metadata": {},
     "output_type": "execute_result"
    }
   ],
   "source": [
    "targetc = KFoldTargetEncoderTrain(\n",
    "    \"CustomerId\",\n",
    "    \"Exited\",\n",
    "    n_fold=5,\n",
    ")\n",
    "new_train_df = targetc.fit_transform(train_df)\n",
    "new_train_df[\"CustomerId_Kfold_Target_Enc\"].isnull().sum()"
   ]
  },
  {
   "cell_type": "markdown",
   "id": "2d0dc092",
   "metadata": {
    "papermill": {
     "duration": 0.014374,
     "end_time": "2024-06-11T11:52:05.955331",
     "exception": false,
     "start_time": "2024-06-11T11:52:05.940957",
     "status": "completed"
    },
    "tags": []
   },
   "source": [
    "あとでsqliteで書き直す"
   ]
  },
  {
   "cell_type": "code",
   "execution_count": 8,
   "id": "0d1652cb",
   "metadata": {
    "execution": {
     "iopub.execute_input": "2024-06-11T11:52:05.979688Z",
     "iopub.status.busy": "2024-06-11T11:52:05.979204Z",
     "iopub.status.idle": "2024-06-11T11:52:08.122266Z",
     "shell.execute_reply": "2024-06-11T11:52:08.121032Z"
    },
    "papermill": {
     "duration": 2.159375,
     "end_time": "2024-06-11T11:52:08.125260",
     "exception": false,
     "start_time": "2024-06-11T11:52:05.965885",
     "status": "completed"
    },
    "tags": []
   },
   "outputs": [],
   "source": [
    "new_train_df.to_csv(\"../working/new_train_df.csv\")"
   ]
  },
  {
   "cell_type": "markdown",
   "id": "cc0cbdb9",
   "metadata": {
    "papermill": {
     "duration": 0.008976,
     "end_time": "2024-06-11T11:52:08.143679",
     "exception": false,
     "start_time": "2024-06-11T11:52:08.134703",
     "status": "completed"
    },
    "tags": []
   },
   "source": [
    "### 不要なカラムを削除し、one-hot encodingを行う"
   ]
  },
  {
   "cell_type": "code",
   "execution_count": 9,
   "id": "889ca2ae",
   "metadata": {
    "execution": {
     "iopub.execute_input": "2024-06-11T11:52:08.164122Z",
     "iopub.status.busy": "2024-06-11T11:52:08.163636Z",
     "iopub.status.idle": "2024-06-11T11:52:08.237111Z",
     "shell.execute_reply": "2024-06-11T11:52:08.235877Z"
    },
    "papermill": {
     "duration": 0.087318,
     "end_time": "2024-06-11T11:52:08.240003",
     "exception": false,
     "start_time": "2024-06-11T11:52:08.152685",
     "status": "completed"
    },
    "tags": []
   },
   "outputs": [],
   "source": [
    "# 特徴量。Surname, id, CustomerIDは削除\n",
    "X_train_df = new_train_df.drop(\n",
    "    [TARGET_COULMN_NAME] + DROP_COLUMNS,\n",
    "    axis=1,\n",
    ") \n",
    "# one-hot encoding\n",
    "X_train_df = pd.get_dummies(\n",
    "    X_train_df,\n",
    "    columns=ONE_HOT_ENCODING_COLUMNS,\n",
    ")\n",
    "# 目的変数\n",
    "y_train_df = new_train_df[TARGET_COULMN_NAME]"
   ]
  },
  {
   "cell_type": "code",
   "execution_count": 10,
   "id": "2df410b4",
   "metadata": {
    "execution": {
     "iopub.execute_input": "2024-06-11T11:52:08.262597Z",
     "iopub.status.busy": "2024-06-11T11:52:08.261636Z",
     "iopub.status.idle": "2024-06-11T11:52:08.624252Z",
     "shell.execute_reply": "2024-06-11T11:52:08.622925Z"
    },
    "papermill": {
     "duration": 0.37666,
     "end_time": "2024-06-11T11:52:08.627220",
     "exception": false,
     "start_time": "2024-06-11T11:52:08.250560",
     "status": "completed"
    },
    "tags": []
   },
   "outputs": [],
   "source": [
    "# テストデータの読み込み\n",
    "test_df =  pd.read_csv(\"../input/tdse-inclass-competition-0/test.csv\")\n",
    "# customer_encodeの読み込み\n",
    "customer_encode_df = pd.read_csv(\"../input/modeling-and-evaluation/customer_encode.csv\")\n",
    "# CustomerIdを使ってtrainの\"CustomerId_Kfold_Target_Enc\"を持ってくる\n",
    "new_test_df = pd.merge(test_df, customer_encode_df, on=\"CustomerId\", how=\"left\")"
   ]
  },
  {
   "cell_type": "code",
   "execution_count": 11,
   "id": "52ec9768",
   "metadata": {
    "execution": {
     "iopub.execute_input": "2024-06-11T11:52:08.647707Z",
     "iopub.status.busy": "2024-06-11T11:52:08.647303Z",
     "iopub.status.idle": "2024-06-11T11:52:08.654493Z",
     "shell.execute_reply": "2024-06-11T11:52:08.653408Z"
    },
    "papermill": {
     "duration": 0.020542,
     "end_time": "2024-06-11T11:52:08.657212",
     "exception": false,
     "start_time": "2024-06-11T11:52:08.636670",
     "status": "completed"
    },
    "tags": []
   },
   "outputs": [
    {
     "data": {
      "text/plain": [
       "110023"
      ]
     },
     "execution_count": 11,
     "metadata": {},
     "output_type": "execute_result"
    }
   ],
   "source": [
    "len(new_test_df)"
   ]
  },
  {
   "cell_type": "code",
   "execution_count": 12,
   "id": "787ccaff",
   "metadata": {
    "execution": {
     "iopub.execute_input": "2024-06-11T11:52:08.679160Z",
     "iopub.status.busy": "2024-06-11T11:52:08.678042Z",
     "iopub.status.idle": "2024-06-11T11:52:08.685719Z",
     "shell.execute_reply": "2024-06-11T11:52:08.684523Z"
    },
    "papermill": {
     "duration": 0.021535,
     "end_time": "2024-06-11T11:52:08.688494",
     "exception": false,
     "start_time": "2024-06-11T11:52:08.666959",
     "status": "completed"
    },
    "tags": []
   },
   "outputs": [
    {
     "data": {
      "text/plain": [
       "110023"
      ]
     },
     "execution_count": 12,
     "metadata": {},
     "output_type": "execute_result"
    }
   ],
   "source": [
    "len(test_df)"
   ]
  },
  {
   "cell_type": "code",
   "execution_count": 13,
   "id": "5503b9e3",
   "metadata": {
    "execution": {
     "iopub.execute_input": "2024-06-11T11:52:08.709617Z",
     "iopub.status.busy": "2024-06-11T11:52:08.709205Z",
     "iopub.status.idle": "2024-06-11T11:52:08.716987Z",
     "shell.execute_reply": "2024-06-11T11:52:08.715813Z"
    },
    "papermill": {
     "duration": 0.021486,
     "end_time": "2024-06-11T11:52:08.719645",
     "exception": false,
     "start_time": "2024-06-11T11:52:08.698159",
     "status": "completed"
    },
    "tags": []
   },
   "outputs": [
    {
     "data": {
      "text/plain": [
       "True"
      ]
     },
     "execution_count": 13,
     "metadata": {},
     "output_type": "execute_result"
    }
   ],
   "source": [
    "len(new_test_df) == len(test_df)"
   ]
  },
  {
   "cell_type": "code",
   "execution_count": 14,
   "id": "dd869f5b",
   "metadata": {
    "execution": {
     "iopub.execute_input": "2024-06-11T11:52:08.743694Z",
     "iopub.status.busy": "2024-06-11T11:52:08.742299Z",
     "iopub.status.idle": "2024-06-11T11:52:08.802306Z",
     "shell.execute_reply": "2024-06-11T11:52:08.800590Z"
    },
    "papermill": {
     "duration": 0.075498,
     "end_time": "2024-06-11T11:52:08.805356",
     "exception": false,
     "start_time": "2024-06-11T11:52:08.729858",
     "status": "completed"
    },
    "tags": []
   },
   "outputs": [],
   "source": [
    "# 学習データに合わせて特徴量を加工\n",
    "X_test_df = new_test_df.drop(\n",
    "    DROP_COLUMNS,\n",
    "    axis=1,\n",
    ")\n",
    "# one-hot encoding\n",
    "X_test_df = pd.get_dummies(\n",
    "    X_test_df,\n",
    "    columns=ONE_HOT_ENCODING_COLUMNS,\n",
    ")"
   ]
  },
  {
   "cell_type": "markdown",
   "id": "6405e27e",
   "metadata": {
    "papermill": {
     "duration": 0.009394,
     "end_time": "2024-06-11T11:52:08.824535",
     "exception": false,
     "start_time": "2024-06-11T11:52:08.815141",
     "status": "completed"
    },
    "tags": []
   },
   "source": [
    "## optunaを用いて最適なモデルを探索する\n",
    "ベストモデルは `model_path` にpklで吐き出される。"
   ]
  },
  {
   "cell_type": "code",
   "execution_count": 15,
   "id": "159b6a57",
   "metadata": {
    "execution": {
     "iopub.execute_input": "2024-06-11T11:52:08.846207Z",
     "iopub.status.busy": "2024-06-11T11:52:08.845786Z",
     "iopub.status.idle": "2024-06-11T11:57:05.458058Z",
     "shell.execute_reply": "2024-06-11T11:57:05.456847Z"
    },
    "papermill": {
     "duration": 296.626515,
     "end_time": "2024-06-11T11:57:05.460838",
     "exception": false,
     "start_time": "2024-06-11T11:52:08.834323",
     "status": "completed"
    },
    "tags": []
   },
   "outputs": [
    {
     "name": "stderr",
     "output_type": "stream",
     "text": [
      "[I 2024-06-11 11:52:08,871] A new study created in memory with name: no-name-5fda85cb-fbe9-42ea-a798-f21602f45e63\n",
      "[I 2024-06-11 11:52:12,403] Trial 0 finished with value: 0.8906431510147873 and parameters: {'num_leaves': 87, 'feature_fraction': 0.7082781558933926, 'bagging_fraction': 0.7780871916436569, 'bagging_freq': 7, 'min_child_samples': 66}. Best is trial 0 with value: 0.8906431510147873.\n",
      "[I 2024-06-11 11:52:14,590] Trial 1 finished with value: 0.8907559321438968 and parameters: {'num_leaves': 30, 'feature_fraction': 0.8907295383717303, 'bagging_fraction': 0.555431043776644, 'bagging_freq': 5, 'min_child_samples': 25}. Best is trial 1 with value: 0.8907559321438968.\n",
      "[I 2024-06-11 11:52:18,868] Trial 2 finished with value: 0.8896535856010148 and parameters: {'num_leaves': 109, 'feature_fraction': 0.7059685869483721, 'bagging_fraction': 0.6430069401829588, 'bagging_freq': 3, 'min_child_samples': 28}. Best is trial 1 with value: 0.8907559321438968.\n",
      "[I 2024-06-11 11:52:23,771] Trial 3 finished with value: 0.8886329922690701 and parameters: {'num_leaves': 121, 'feature_fraction': 0.6108883636350619, 'bagging_fraction': 0.43758073510411455, 'bagging_freq': 5, 'min_child_samples': 22}. Best is trial 1 with value: 0.8907559321438968.\n",
      "[I 2024-06-11 11:52:27,779] Trial 4 finished with value: 0.8903240358855369 and parameters: {'num_leaves': 92, 'feature_fraction': 0.44176061558608937, 'bagging_fraction': 0.6844297172064682, 'bagging_freq': 5, 'min_child_samples': 16}. Best is trial 1 with value: 0.8907559321438968.\n",
      "[I 2024-06-11 11:52:31,605] Trial 5 finished with value: 0.889863495924702 and parameters: {'num_leaves': 106, 'feature_fraction': 0.6113124590786434, 'bagging_fraction': 0.8219646032825708, 'bagging_freq': 3, 'min_child_samples': 82}. Best is trial 1 with value: 0.8907559321438968.\n",
      "[I 2024-06-11 11:52:35,125] Trial 6 finished with value: 0.8897084998283034 and parameters: {'num_leaves': 107, 'feature_fraction': 0.606586321649735, 'bagging_fraction': 0.5318743980954288, 'bagging_freq': 1, 'min_child_samples': 25}. Best is trial 1 with value: 0.8907559321438968.\n",
      "[I 2024-06-11 11:52:37,922] Trial 7 finished with value: 0.8901075303355575 and parameters: {'num_leaves': 46, 'feature_fraction': 0.8887223809368323, 'bagging_fraction': 0.45549747353088554, 'bagging_freq': 4, 'min_child_samples': 63}. Best is trial 1 with value: 0.8907559321438968.\n",
      "[I 2024-06-11 11:52:41,460] Trial 8 finished with value: 0.8894671145460007 and parameters: {'num_leaves': 76, 'feature_fraction': 0.818059428127246, 'bagging_fraction': 0.41703510858723797, 'bagging_freq': 1, 'min_child_samples': 22}. Best is trial 1 with value: 0.8907559321438968.\n",
      "[I 2024-06-11 11:52:46,041] Trial 9 finished with value: 0.8896660337457033 and parameters: {'num_leaves': 121, 'feature_fraction': 0.9001704370537146, 'bagging_fraction': 0.7725158142645041, 'bagging_freq': 5, 'min_child_samples': 20}. Best is trial 1 with value: 0.8907559321438968.\n",
      "[I 2024-06-11 11:52:48,365] Trial 10 finished with value: 0.891159739361072 and parameters: {'num_leaves': 26, 'feature_fraction': 0.9872745270579657, 'bagging_fraction': 0.9490308431457297, 'bagging_freq': 7, 'min_child_samples': 44}. Best is trial 10 with value: 0.891159739361072.\n",
      "[I 2024-06-11 11:52:50,540] Trial 11 finished with value: 0.8910524717307629 and parameters: {'num_leaves': 20, 'feature_fraction': 0.9996518855506393, 'bagging_fraction': 0.9622970494874226, 'bagging_freq': 7, 'min_child_samples': 46}. Best is trial 10 with value: 0.891159739361072.\n",
      "[I 2024-06-11 11:52:53,948] Trial 12 finished with value: 0.8909788259570005 and parameters: {'num_leaves': 23, 'feature_fraction': 0.9998332456592746, 'bagging_fraction': 0.9857406217956461, 'bagging_freq': 7, 'min_child_samples': 45}. Best is trial 10 with value: 0.891159739361072.\n",
      "[I 2024-06-11 11:52:57,096] Trial 13 finished with value: 0.8912048849268228 and parameters: {'num_leaves': 54, 'feature_fraction': 0.9980564660577593, 'bagging_fraction': 0.97179754540439, 'bagging_freq': 7, 'min_child_samples': 45}. Best is trial 13 with value: 0.8912048849268228.\n",
      "[I 2024-06-11 11:53:00,022] Trial 14 finished with value: 0.8909432890012707 and parameters: {'num_leaves': 54, 'feature_fraction': 0.8238772392696548, 'bagging_fraction': 0.882858493088802, 'bagging_freq': 6, 'min_child_samples': 95}. Best is trial 13 with value: 0.8912048849268228.\n",
      "[I 2024-06-11 11:53:05,361] Trial 15 finished with value: 0.8892950177728931 and parameters: {'num_leaves': 146, 'feature_fraction': 0.9414893168036153, 'bagging_fraction': 0.893311620974004, 'bagging_freq': 6, 'min_child_samples': 39}. Best is trial 13 with value: 0.8912048849268228.\n",
      "[I 2024-06-11 11:53:08,720] Trial 16 finished with value: 0.8910168050781145 and parameters: {'num_leaves': 57, 'feature_fraction': 0.7958823560464983, 'bagging_fraction': 0.892802051070094, 'bagging_freq': 6, 'min_child_samples': 61}. Best is trial 13 with value: 0.8912048849268228.\n",
      "[I 2024-06-11 11:53:11,464] Trial 17 finished with value: 0.8907674310175204 and parameters: {'num_leaves': 39, 'feature_fraction': 0.46021274647699795, 'bagging_fraction': 0.9950014634624846, 'bagging_freq': 7, 'min_child_samples': 37}. Best is trial 13 with value: 0.8912048849268228.\n",
      "[I 2024-06-11 11:53:15,132] Trial 18 finished with value: 0.8906028069945383 and parameters: {'num_leaves': 71, 'feature_fraction': 0.9471540415275359, 'bagging_fraction': 0.9256117729848536, 'bagging_freq': 6, 'min_child_samples': 54}. Best is trial 13 with value: 0.8912048849268228.\n",
      "[I 2024-06-11 11:53:18,578] Trial 19 finished with value: 0.8907378959936678 and parameters: {'num_leaves': 64, 'feature_fraction': 0.770782656778825, 'bagging_fraction': 0.828239810261046, 'bagging_freq': 3, 'min_child_samples': 74}. Best is trial 13 with value: 0.8912048849268228.\n",
      "[I 2024-06-11 11:53:21,216] Trial 20 finished with value: 0.8907011558920538 and parameters: {'num_leaves': 40, 'feature_fraction': 0.9422630040222391, 'bagging_fraction': 0.7569465455223753, 'bagging_freq': 4, 'min_child_samples': 9}. Best is trial 13 with value: 0.8912048849268228.\n",
      "[I 2024-06-11 11:53:23,586] Trial 21 finished with value: 0.8912825181909585 and parameters: {'num_leaves': 26, 'feature_fraction': 0.9971165800861064, 'bagging_fraction': 0.96249662753452, 'bagging_freq': 7, 'min_child_samples': 49}. Best is trial 21 with value: 0.8912825181909585.\n",
      "[I 2024-06-11 11:53:27,427] Trial 22 finished with value: 0.8910818494626077 and parameters: {'num_leaves': 33, 'feature_fraction': 0.9821839332767655, 'bagging_fraction': 0.9239154934375818, 'bagging_freq': 7, 'min_child_samples': 51}. Best is trial 21 with value: 0.8912825181909585.\n",
      "[I 2024-06-11 11:53:30,380] Trial 23 finished with value: 0.8909081135412082 and parameters: {'num_leaves': 50, 'feature_fraction': 0.8732267925453596, 'bagging_fraction': 0.844523262248153, 'bagging_freq': 6, 'min_child_samples': 35}. Best is trial 21 with value: 0.8912825181909585.\n",
      "[I 2024-06-11 11:53:33,004] Trial 24 finished with value: 0.8909005055751462 and parameters: {'num_leaves': 28, 'feature_fraction': 0.9408500253959455, 'bagging_fraction': 0.9466048281267248, 'bagging_freq': 7, 'min_child_samples': 54}. Best is trial 21 with value: 0.8912825181909585.\n",
      "[I 2024-06-11 11:53:36,041] Trial 25 finished with value: 0.8911023940064351 and parameters: {'num_leaves': 40, 'feature_fraction': 0.8564042493342431, 'bagging_fraction': 0.9974606060286416, 'bagging_freq': 6, 'min_child_samples': 46}. Best is trial 21 with value: 0.8912825181909585.\n",
      "[I 2024-06-11 11:53:40,073] Trial 26 finished with value: 0.8911074632243006 and parameters: {'num_leaves': 64, 'feature_fraction': 0.9526628871550087, 'bagging_fraction': 0.878610732676026, 'bagging_freq': 2, 'min_child_samples': 73}. Best is trial 21 with value: 0.8912825181909585.\n",
      "[I 2024-06-11 11:53:42,238] Trial 27 finished with value: 0.8911851130454901 and parameters: {'num_leaves': 21, 'feature_fraction': 0.49640247747137545, 'bagging_fraction': 0.9348474148412169, 'bagging_freq': 7, 'min_child_samples': 34}. Best is trial 21 with value: 0.8912825181909585.\n",
      "[I 2024-06-11 11:53:44,185] Trial 28 finished with value: 0.8909261910840709 and parameters: {'num_leaves': 20, 'feature_fraction': 0.4989323669446257, 'bagging_fraction': 0.7237203689584131, 'bagging_freq': 6, 'min_child_samples': 33}. Best is trial 21 with value: 0.8912825181909585.\n",
      "[I 2024-06-11 11:53:47,963] Trial 29 finished with value: 0.890746864397622 and parameters: {'num_leaves': 86, 'feature_fraction': 0.5425513313523711, 'bagging_fraction': 0.8104293566173653, 'bagging_freq': 7, 'min_child_samples': 58}. Best is trial 21 with value: 0.8912825181909585.\n",
      "[I 2024-06-11 11:53:50,493] Trial 30 finished with value: 0.8910851332782094 and parameters: {'num_leaves': 37, 'feature_fraction': 0.7543848455476329, 'bagging_fraction': 0.6295862639334078, 'bagging_freq': 4, 'min_child_samples': 73}. Best is trial 21 with value: 0.8912825181909585.\n",
      "[I 2024-06-11 11:53:52,830] Trial 31 finished with value: 0.8916413481724269 and parameters: {'num_leaves': 29, 'feature_fraction': 0.6649244279173516, 'bagging_fraction': 0.9392119891549554, 'bagging_freq': 7, 'min_child_samples': 41}. Best is trial 31 with value: 0.8916413481724269.\n",
      "[I 2024-06-11 11:53:55,291] Trial 32 finished with value: 0.8914855821730427 and parameters: {'num_leaves': 31, 'feature_fraction': 0.5702610674762524, 'bagging_fraction': 0.9264404389745211, 'bagging_freq': 7, 'min_child_samples': 39}. Best is trial 31 with value: 0.8916413481724269.\n",
      "[I 2024-06-11 11:53:58,773] Trial 33 finished with value: 0.8913965328205503 and parameters: {'num_leaves': 31, 'feature_fraction': 0.6624253235567348, 'bagging_fraction': 0.857520459189818, 'bagging_freq': 7, 'min_child_samples': 42}. Best is trial 31 with value: 0.8916413481724269.\n",
      "[I 2024-06-11 11:54:01,266] Trial 34 finished with value: 0.891648740896794 and parameters: {'num_leaves': 31, 'feature_fraction': 0.651779042436904, 'bagging_fraction': 0.905720797273426, 'bagging_freq': 6, 'min_child_samples': 39}. Best is trial 34 with value: 0.891648740896794.\n",
      "[I 2024-06-11 11:54:03,897] Trial 35 finished with value: 0.8916130714846369 and parameters: {'num_leaves': 34, 'feature_fraction': 0.6639277668988435, 'bagging_fraction': 0.85302113940098, 'bagging_freq': 5, 'min_child_samples': 29}. Best is trial 34 with value: 0.891648740896794.\n",
      "[I 2024-06-11 11:54:06,770] Trial 36 finished with value: 0.8913347225804984 and parameters: {'num_leaves': 44, 'feature_fraction': 0.6646163968392835, 'bagging_fraction': 0.7984208694287195, 'bagging_freq': 5, 'min_child_samples': 31}. Best is trial 34 with value: 0.891648740896794.\n",
      "[I 2024-06-11 11:54:09,434] Trial 37 finished with value: 0.8915920136721525 and parameters: {'num_leaves': 33, 'feature_fraction': 0.5726499368564042, 'bagging_fraction': 0.8589593208258559, 'bagging_freq': 5, 'min_child_samples': 27}. Best is trial 34 with value: 0.891648740896794.\n",
      "[I 2024-06-11 11:54:12,122] Trial 38 finished with value: 0.8909105032759232 and parameters: {'num_leaves': 47, 'feature_fraction': 0.6776254545219615, 'bagging_fraction': 0.7320912855932035, 'bagging_freq': 5, 'min_child_samples': 13}. Best is trial 34 with value: 0.891648740896794.\n",
      "[I 2024-06-11 11:54:16,166] Trial 39 finished with value: 0.8903847892336767 and parameters: {'num_leaves': 96, 'feature_fraction': 0.7261570765424511, 'bagging_fraction': 0.8570556567489768, 'bagging_freq': 4, 'min_child_samples': 27}. Best is trial 34 with value: 0.891648740896794.\n",
      "[I 2024-06-11 11:54:19,250] Trial 40 finished with value: 0.8899873288869918 and parameters: {'num_leaves': 77, 'feature_fraction': 0.6127603187403631, 'bagging_fraction': 0.6455030288618684, 'bagging_freq': 5, 'min_child_samples': 17}. Best is trial 34 with value: 0.891648740896794.\n",
      "[I 2024-06-11 11:54:21,677] Trial 41 finished with value: 0.8912609526288351 and parameters: {'num_leaves': 34, 'feature_fraction': 0.572408393836217, 'bagging_fraction': 0.9151108869045894, 'bagging_freq': 5, 'min_child_samples': 27}. Best is trial 34 with value: 0.891648740896794.\n",
      "[I 2024-06-11 11:54:24,100] Trial 42 finished with value: 0.8914494574419154 and parameters: {'num_leaves': 31, 'feature_fraction': 0.6375506342482257, 'bagging_fraction': 0.8936966877391495, 'bagging_freq': 6, 'min_child_samples': 31}. Best is trial 34 with value: 0.891648740896794.\n",
      "[I 2024-06-11 11:54:26,826] Trial 43 finished with value: 0.8911606941511547 and parameters: {'num_leaves': 44, 'feature_fraction': 0.5747643402960508, 'bagging_fraction': 0.8475080072688094, 'bagging_freq': 5, 'min_child_samples': 40}. Best is trial 34 with value: 0.891648740896794.\n",
      "[I 2024-06-11 11:54:30,503] Trial 44 finished with value: 0.891332219705918 and parameters: {'num_leaves': 35, 'feature_fraction': 0.7281183704843226, 'bagging_fraction': 0.9176679471582809, 'bagging_freq': 6, 'min_child_samples': 23}. Best is trial 34 with value: 0.891648740896794.\n",
      "[I 2024-06-11 11:54:33,384] Trial 45 finished with value: 0.8907790706260983 and parameters: {'num_leaves': 60, 'feature_fraction': 0.5510622706478664, 'bagging_fraction': 0.79110448505133, 'bagging_freq': 4, 'min_child_samples': 5}. Best is trial 34 with value: 0.891648740896794.\n",
      "[I 2024-06-11 11:54:35,924] Trial 46 finished with value: 0.8906222449752931 and parameters: {'num_leaves': 50, 'feature_fraction': 0.6334569485297364, 'bagging_fraction': 0.48923999076418834, 'bagging_freq': 5, 'min_child_samples': 18}. Best is trial 34 with value: 0.891648740896794.\n",
      "[I 2024-06-11 11:54:38,247] Trial 47 finished with value: 0.891385511341968 and parameters: {'num_leaves': 27, 'feature_fraction': 0.7026754109945553, 'bagging_fraction': 0.86874800128205, 'bagging_freq': 6, 'min_child_samples': 29}. Best is trial 34 with value: 0.891648740896794.\n",
      "[I 2024-06-11 11:54:42,525] Trial 48 finished with value: 0.8902601091021519 and parameters: {'num_leaves': 132, 'feature_fraction': 0.5126279759929318, 'bagging_fraction': 0.8183355802974789, 'bagging_freq': 6, 'min_child_samples': 40}. Best is trial 34 with value: 0.891648740896794.\n",
      "[I 2024-06-11 11:54:44,732] Trial 49 finished with value: 0.8913158916917037 and parameters: {'num_leaves': 26, 'feature_fraction': 0.5913293264225112, 'bagging_fraction': 0.9069680892717563, 'bagging_freq': 5, 'min_child_samples': 24}. Best is trial 34 with value: 0.891648740896794.\n",
      "[I 2024-06-11 11:54:47,562] Trial 50 finished with value: 0.8914667016130875 and parameters: {'num_leaves': 41, 'feature_fraction': 0.6781330875323291, 'bagging_fraction': 0.9696158254234372, 'bagging_freq': 3, 'min_child_samples': 37}. Best is trial 34 with value: 0.891648740896794.\n",
      "[I 2024-06-11 11:54:50,141] Trial 51 finished with value: 0.8906568299004491 and parameters: {'num_leaves': 40, 'feature_fraction': 0.40794149137769503, 'bagging_fraction': 0.9662622569666217, 'bagging_freq': 3, 'min_child_samples': 37}. Best is trial 34 with value: 0.891648740896794.\n",
      "[I 2024-06-11 11:54:52,616] Trial 52 finished with value: 0.8913077787355114 and parameters: {'num_leaves': 32, 'feature_fraction': 0.6352701329057325, 'bagging_fraction': 0.9432878522572229, 'bagging_freq': 3, 'min_child_samples': 42}. Best is trial 34 with value: 0.891648740896794.\n",
      "[I 2024-06-11 11:54:55,706] Trial 53 finished with value: 0.8915644185830629 and parameters: {'num_leaves': 45, 'feature_fraction': 0.683028476302352, 'bagging_fraction': 0.9720924889890262, 'bagging_freq': 2, 'min_child_samples': 36}. Best is trial 34 with value: 0.891648740896794.\n",
      "[I 2024-06-11 11:54:58,304] Trial 54 finished with value: 0.8911134016874729 and parameters: {'num_leaves': 50, 'feature_fraction': 0.6081268387382683, 'bagging_fraction': 0.9032151191060891, 'bagging_freq': 1, 'min_child_samples': 31}. Best is trial 34 with value: 0.891648740896794.\n",
      "[I 2024-06-11 11:55:01,579] Trial 55 finished with value: 0.8913120532148113 and parameters: {'num_leaves': 24, 'feature_fraction': 0.7237489090059197, 'bagging_fraction': 0.7680199253563521, 'bagging_freq': 6, 'min_child_samples': 50}. Best is trial 34 with value: 0.891648740896794.\n",
      "[I 2024-06-11 11:55:04,502] Trial 56 finished with value: 0.8911055370870822 and parameters: {'num_leaves': 56, 'feature_fraction': 0.6507091653820214, 'bagging_fraction': 0.8352180965366698, 'bagging_freq': 2, 'min_child_samples': 26}. Best is trial 34 with value: 0.891648740896794.\n",
      "[I 2024-06-11 11:55:07,324] Trial 57 finished with value: 0.8911386843080967 and parameters: {'num_leaves': 36, 'feature_fraction': 0.6868315920527107, 'bagging_fraction': 0.98383883663736, 'bagging_freq': 2, 'min_child_samples': 13}. Best is trial 34 with value: 0.891648740896794.\n",
      "[I 2024-06-11 11:55:09,960] Trial 58 finished with value: 0.8913868855774045 and parameters: {'num_leaves': 46, 'feature_fraction': 0.5507503443565435, 'bagging_fraction': 0.9388064248043255, 'bagging_freq': 4, 'min_child_samples': 21}. Best is trial 34 with value: 0.891648740896794.\n",
      "[I 2024-06-11 11:55:12,262] Trial 59 finished with value: 0.891033701551164 and parameters: {'num_leaves': 29, 'feature_fraction': 0.7567204639863276, 'bagging_fraction': 0.8756667725203597, 'bagging_freq': 7, 'min_child_samples': 48}. Best is trial 34 with value: 0.891648740896794.\n",
      "[I 2024-06-11 11:55:14,098] Trial 60 finished with value: 0.8909003317260851 and parameters: {'num_leaves': 24, 'feature_fraction': 0.5914294622563641, 'bagging_fraction': 0.5830855266500308, 'bagging_freq': 1, 'min_child_samples': 56}. Best is trial 34 with value: 0.891648740896794.\n",
      "[I 2024-06-11 11:55:16,898] Trial 61 finished with value: 0.8911645133114847 and parameters: {'num_leaves': 43, 'feature_fraction': 0.6866964442660863, 'bagging_fraction': 0.9543262082099502, 'bagging_freq': 2, 'min_child_samples': 37}. Best is trial 34 with value: 0.891648740896794.\n",
      "[I 2024-06-11 11:55:19,696] Trial 62 finished with value: 0.8913325011758267 and parameters: {'num_leaves': 39, 'feature_fraction': 0.7013141997156567, 'bagging_fraction': 0.9696699225078216, 'bagging_freq': 3, 'min_child_samples': 35}. Best is trial 34 with value: 0.891648740896794.\n",
      "[I 2024-06-11 11:55:22,218] Trial 63 finished with value: 0.8913884060668135 and parameters: {'num_leaves': 35, 'feature_fraction': 0.6169546001662121, 'bagging_fraction': 0.9971094893438591, 'bagging_freq': 3, 'min_child_samples': 39}. Best is trial 34 with value: 0.891648740896794.\n",
      "[I 2024-06-11 11:55:24,582] Trial 64 finished with value: 0.8913543150937522 and parameters: {'num_leaves': 30, 'feature_fraction': 0.6504536809233286, 'bagging_fraction': 0.9267828723074506, 'bagging_freq': 7, 'min_child_samples': 44}. Best is trial 34 with value: 0.891648740896794.\n",
      "[I 2024-06-11 11:55:26,884] Trial 65 finished with value: 0.8912323585975205 and parameters: {'num_leaves': 20, 'feature_fraction': 0.7455720697451398, 'bagging_fraction': 0.974429859719796, 'bagging_freq': 2, 'min_child_samples': 93}. Best is trial 34 with value: 0.891648740896794.\n",
      "[I 2024-06-11 11:55:29,635] Trial 66 finished with value: 0.8913207180727855 and parameters: {'num_leaves': 52, 'feature_fraction': 0.6770873345941838, 'bagging_fraction': 0.8866318781845526, 'bagging_freq': 4, 'min_child_samples': 33}. Best is trial 34 with value: 0.891648740896794.\n",
      "[I 2024-06-11 11:55:33,531] Trial 67 finished with value: 0.8911053356429318 and parameters: {'num_leaves': 41, 'feature_fraction': 0.7976007866941832, 'bagging_fraction': 0.9520166135738215, 'bagging_freq': 7, 'min_child_samples': 29}. Best is trial 34 with value: 0.891648740896794.\n",
      "[I 2024-06-11 11:55:37,539] Trial 68 finished with value: 0.8906260724141498 and parameters: {'num_leaves': 99, 'feature_fraction': 0.5171142226691807, 'bagging_fraction': 0.9040686821905536, 'bagging_freq': 2, 'min_child_samples': 43}. Best is trial 34 with value: 0.891648740896794.\n",
      "[I 2024-06-11 11:55:40,428] Trial 69 finished with value: 0.8914641739029268 and parameters: {'num_leaves': 60, 'feature_fraction': 0.4714944486727156, 'bagging_fraction': 0.8655280893071735, 'bagging_freq': 5, 'min_child_samples': 36}. Best is trial 34 with value: 0.891648740896794.\n",
      "[I 2024-06-11 11:55:44,537] Trial 70 finished with value: 0.890524729449468 and parameters: {'num_leaves': 115, 'feature_fraction': 0.6252741651265314, 'bagging_fraction': 0.9276002882926532, 'bagging_freq': 6, 'min_child_samples': 48}. Best is trial 34 with value: 0.891648740896794.\n",
      "[I 2024-06-11 11:55:47,750] Trial 71 finished with value: 0.8909171178187784 and parameters: {'num_leaves': 63, 'feature_fraction': 0.46463496987516767, 'bagging_fraction': 0.9776903350357211, 'bagging_freq': 5, 'min_child_samples': 36}. Best is trial 34 with value: 0.891648740896794.\n",
      "[I 2024-06-11 11:55:51,006] Trial 72 finished with value: 0.8910690039486364 and parameters: {'num_leaves': 79, 'feature_fraction': 0.4756286946433946, 'bagging_fraction': 0.8616096379438732, 'bagging_freq': 4, 'min_child_samples': 32}. Best is trial 34 with value: 0.891648740896794.\n",
      "[I 2024-06-11 11:55:54,519] Trial 73 finished with value: 0.8906132158621429 and parameters: {'num_leaves': 69, 'feature_fraction': 0.4192681899341525, 'bagging_fraction': 0.8412368237319261, 'bagging_freq': 5, 'min_child_samples': 29}. Best is trial 34 with value: 0.891648740896794.\n",
      "[I 2024-06-11 11:55:57,359] Trial 74 finished with value: 0.8912976899709402 and parameters: {'num_leaves': 47, 'feature_fraction': 0.5724483933435983, 'bagging_fraction': 0.9409598218407335, 'bagging_freq': 7, 'min_child_samples': 40}. Best is trial 34 with value: 0.891648740896794.\n",
      "[I 2024-06-11 11:55:59,824] Trial 75 finished with value: 0.8906410593070342 and parameters: {'num_leaves': 33, 'feature_fraction': 0.4372553475126551, 'bagging_fraction': 0.8788188672801234, 'bagging_freq': 5, 'min_child_samples': 46}. Best is trial 34 with value: 0.891648740896794.\n",
      "[I 2024-06-11 11:56:02,544] Trial 76 finished with value: 0.891269631284354 and parameters: {'num_leaves': 39, 'feature_fraction': 0.6612711451634874, 'bagging_fraction': 0.913974773352888, 'bagging_freq': 6, 'min_child_samples': 38}. Best is trial 34 with value: 0.891648740896794.\n",
      "[I 2024-06-11 11:56:05,590] Trial 77 finished with value: 0.8910931744871702 and parameters: {'num_leaves': 28, 'feature_fraction': 0.5317336294911029, 'bagging_fraction': 0.8949472058827732, 'bagging_freq': 4, 'min_child_samples': 52}. Best is trial 34 with value: 0.891648740896794.\n",
      "[I 2024-06-11 11:56:07,825] Trial 78 finished with value: 0.8910495852844441 and parameters: {'num_leaves': 23, 'feature_fraction': 0.5922223549259574, 'bagging_fraction': 0.8026414604720971, 'bagging_freq': 7, 'min_child_samples': 24}. Best is trial 34 with value: 0.891648740896794.\n",
      "[I 2024-06-11 11:56:10,716] Trial 79 finished with value: 0.8907048674315363 and parameters: {'num_leaves': 59, 'feature_fraction': 0.7171913529983945, 'bagging_fraction': 0.6824559952329561, 'bagging_freq': 5, 'min_child_samples': 20}. Best is trial 34 with value: 0.891648740896794.\n",
      "[I 2024-06-11 11:56:13,231] Trial 80 finished with value: 0.891559230706314 and parameters: {'num_leaves': 37, 'feature_fraction': 0.6488765722908149, 'bagging_fraction': 0.9601701600578753, 'bagging_freq': 6, 'min_child_samples': 42}. Best is trial 34 with value: 0.891648740896794.\n",
      "[I 2024-06-11 11:56:15,767] Trial 81 finished with value: 0.891375596426458 and parameters: {'num_leaves': 37, 'feature_fraction': 0.6493935282165222, 'bagging_fraction': 0.9561617865925324, 'bagging_freq': 6, 'min_child_samples': 34}. Best is trial 34 with value: 0.891648740896794.\n",
      "[I 2024-06-11 11:56:18,571] Trial 82 finished with value: 0.8914645216010494 and parameters: {'num_leaves': 46, 'feature_fraction': 0.6941526473534233, 'bagging_fraction': 0.9875937693776498, 'bagging_freq': 6, 'min_child_samples': 42}. Best is trial 34 with value: 0.891648740896794.\n",
      "[I 2024-06-11 11:56:21,378] Trial 83 finished with value: 0.8916127596601301 and parameters: {'num_leaves': 43, 'feature_fraction': 0.6860532294199542, 'bagging_fraction': 0.9611410200799675, 'bagging_freq': 6, 'min_child_samples': 42}. Best is trial 34 with value: 0.891648740896794.\n",
      "[I 2024-06-11 11:56:23,845] Trial 84 finished with value: 0.891385933546831 and parameters: {'num_leaves': 31, 'feature_fraction': 0.6658214116287082, 'bagging_fraction': 0.9290283020047589, 'bagging_freq': 6, 'min_child_samples': 45}. Best is trial 34 with value: 0.891648740896794.\n",
      "[I 2024-06-11 11:56:27,069] Trial 85 finished with value: 0.8912662646834848 and parameters: {'num_leaves': 43, 'feature_fraction': 0.7095879823898806, 'bagging_fraction': 0.9715879325817027, 'bagging_freq': 7, 'min_child_samples': 41}. Best is trial 34 with value: 0.891648740896794.\n",
      "[I 2024-06-11 11:56:29,650] Trial 86 finished with value: 0.8912426570847687 and parameters: {'num_leaves': 36, 'feature_fraction': 0.6743631175734428, 'bagging_fraction': 0.9583012154261776, 'bagging_freq': 6, 'min_child_samples': 65}. Best is trial 34 with value: 0.891648740896794.\n",
      "[I 2024-06-11 11:56:31,944] Trial 87 finished with value: 0.891402998349924 and parameters: {'num_leaves': 26, 'feature_fraction': 0.6443611637720678, 'bagging_fraction': 0.9389855963187972, 'bagging_freq': 3, 'min_child_samples': 47}. Best is trial 34 with value: 0.891648740896794.\n",
      "[I 2024-06-11 11:56:34,635] Trial 88 finished with value: 0.890371286956585 and parameters: {'num_leaves': 42, 'feature_fraction': 0.6243952681776063, 'bagging_fraction': 0.4003222548703885, 'bagging_freq': 6, 'min_child_samples': 31}. Best is trial 34 with value: 0.891648740896794.\n",
      "[I 2024-06-11 11:56:38,166] Trial 89 finished with value: 0.8916241453938883 and parameters: {'num_leaves': 49, 'feature_fraction': 0.6051782118649214, 'bagging_fraction': 0.9895039601449964, 'bagging_freq': 7, 'min_child_samples': 38}. Best is trial 34 with value: 0.891648740896794.\n",
      "[I 2024-06-11 11:56:41,116] Trial 90 finished with value: 0.891311973189053 and parameters: {'num_leaves': 53, 'feature_fraction': 0.559035360907949, 'bagging_fraction': 0.998909006460542, 'bagging_freq': 7, 'min_child_samples': 60}. Best is trial 34 with value: 0.891648740896794.\n",
      "[I 2024-06-11 11:56:44,109] Trial 91 finished with value: 0.8914442778436932 and parameters: {'num_leaves': 49, 'feature_fraction': 0.7386867491656618, 'bagging_fraction': 0.9784779886081139, 'bagging_freq': 7, 'min_child_samples': 34}. Best is trial 34 with value: 0.891648740896794.\n",
      "[I 2024-06-11 11:56:46,693] Trial 92 finished with value: 0.8911639007005069 and parameters: {'num_leaves': 33, 'feature_fraction': 0.603768813444853, 'bagging_fraction': 0.961420910186186, 'bagging_freq': 7, 'min_child_samples': 37}. Best is trial 34 with value: 0.891648740896794.\n",
      "[I 2024-06-11 11:56:49,256] Trial 93 finished with value: 0.8913961713248834 and parameters: {'num_leaves': 38, 'feature_fraction': 0.5997793651956215, 'bagging_fraction': 0.9168119601308891, 'bagging_freq': 7, 'min_child_samples': 39}. Best is trial 34 with value: 0.891648740896794.\n",
      "[I 2024-06-11 11:56:51,693] Trial 94 finished with value: 0.8914952211376616 and parameters: {'num_leaves': 29, 'feature_fraction': 0.6905125212126865, 'bagging_fraction': 0.9506798640127325, 'bagging_freq': 6, 'min_child_samples': 50}. Best is trial 34 with value: 0.891648740896794.\n",
      "[I 2024-06-11 11:56:53,886] Trial 95 finished with value: 0.891298484709506 and parameters: {'num_leaves': 23, 'feature_fraction': 0.5836872704168797, 'bagging_fraction': 0.9474876793166324, 'bagging_freq': 6, 'min_child_samples': 53}. Best is trial 34 with value: 0.891648740896794.\n",
      "[I 2024-06-11 11:56:56,375] Trial 96 finished with value: 0.8913530981503233 and parameters: {'num_leaves': 29, 'feature_fraction': 0.6268751847707263, 'bagging_fraction': 0.9857449408132982, 'bagging_freq': 6, 'min_child_samples': 44}. Best is trial 34 with value: 0.891648740896794.\n",
      "[I 2024-06-11 11:56:58,774] Trial 97 finished with value: 0.8914393879939067 and parameters: {'num_leaves': 32, 'feature_fraction': 0.658448888911988, 'bagging_fraction': 0.8992758217114972, 'bagging_freq': 6, 'min_child_samples': 42}. Best is trial 34 with value: 0.891648740896794.\n",
      "[I 2024-06-11 11:57:01,022] Trial 98 finished with value: 0.8913940327054788 and parameters: {'num_leaves': 25, 'feature_fraction': 0.6932884132737649, 'bagging_fraction': 0.9291891403539827, 'bagging_freq': 7, 'min_child_samples': 50}. Best is trial 34 with value: 0.891648740896794.\n",
      "[I 2024-06-11 11:57:03,503] Trial 99 finished with value: 0.8914462978042146 and parameters: {'num_leaves': 35, 'feature_fraction': 0.6407596365185065, 'bagging_fraction': 0.9439284407277521, 'bagging_freq': 6, 'min_child_samples': 56}. Best is trial 34 with value: 0.891648740896794.\n"
     ]
    },
    {
     "name": "stdout",
     "output_type": "stream",
     "text": [
      "[LightGBM] [Info] Auto-choosing col-wise multi-threading, the overhead of testing was 0.013384 seconds.\n",
      "You can set `force_col_wise=true` to remove the overhead.\n",
      "[LightGBM] [Info] Total Bins 1081\n",
      "[LightGBM] [Info] Number of data points in the train set: 132027, number of used features: 14\n",
      "[LightGBM] [Info] Start training from score 0.211820\n",
      "Best trial:\n",
      "  Value: 0.891648740896794\n",
      "  Params: \n",
      "    num_leaves: 31\n",
      "    feature_fraction: 0.651779042436904\n",
      "    bagging_fraction: 0.905720797273426\n",
      "    bagging_freq: 6\n",
      "    min_child_samples: 39\n"
     ]
    },
    {
     "data": {
      "text/plain": [
       "<optuna.study.study.Study at 0x7a71a256a470>"
      ]
     },
     "execution_count": 15,
     "metadata": {},
     "output_type": "execute_result"
    }
   ],
   "source": [
    "my_optuna.optimize_lgbm_hyperparameters(\n",
    "    X_train_df,\n",
    "    y_train_df,\n",
    "    n_trials=100,\n",
    "    seed=RANDOM_SEED,\n",
    "    model_path=BEST_MODEL_PATH,\n",
    ")"
   ]
  },
  {
   "cell_type": "markdown",
   "id": "193f92dd",
   "metadata": {
    "papermill": {
     "duration": 0.019305,
     "end_time": "2024-06-11T11:57:05.499775",
     "exception": false,
     "start_time": "2024-06-11T11:57:05.480470",
     "status": "completed"
    },
    "tags": []
   },
   "source": [
    "## モデルを読み込んで予測する"
   ]
  },
  {
   "cell_type": "code",
   "execution_count": 16,
   "id": "5184b718",
   "metadata": {
    "execution": {
     "iopub.execute_input": "2024-06-11T11:57:05.540561Z",
     "iopub.status.busy": "2024-06-11T11:57:05.540182Z",
     "iopub.status.idle": "2024-06-11T11:57:05.548433Z",
     "shell.execute_reply": "2024-06-11T11:57:05.547362Z"
    },
    "papermill": {
     "duration": 0.031777,
     "end_time": "2024-06-11T11:57:05.551073",
     "exception": false,
     "start_time": "2024-06-11T11:57:05.519296",
     "status": "completed"
    },
    "tags": []
   },
   "outputs": [],
   "source": [
    "# モデルの読み込み\n",
    "with open(BEST_MODEL_PATH, 'rb') as f:\n",
    "    model = pickle.load(f)"
   ]
  },
  {
   "cell_type": "code",
   "execution_count": 17,
   "id": "fe82ed08",
   "metadata": {
    "execution": {
     "iopub.execute_input": "2024-06-11T11:57:05.594630Z",
     "iopub.status.busy": "2024-06-11T11:57:05.594259Z",
     "iopub.status.idle": "2024-06-11T11:57:05.888509Z",
     "shell.execute_reply": "2024-06-11T11:57:05.885412Z"
    },
    "papermill": {
     "duration": 0.322512,
     "end_time": "2024-06-11T11:57:05.894557",
     "exception": false,
     "start_time": "2024-06-11T11:57:05.572045",
     "status": "completed"
    },
    "tags": []
   },
   "outputs": [],
   "source": [
    "# テストデータに対する予測\n",
    "y_pred_np = model.predict(X_test_df)"
   ]
  },
  {
   "cell_type": "code",
   "execution_count": 18,
   "id": "9108a710",
   "metadata": {
    "execution": {
     "iopub.execute_input": "2024-06-11T11:57:05.955118Z",
     "iopub.status.busy": "2024-06-11T11:57:05.954588Z",
     "iopub.status.idle": "2024-06-11T11:57:05.962589Z",
     "shell.execute_reply": "2024-06-11T11:57:05.961255Z"
    },
    "papermill": {
     "duration": 0.043713,
     "end_time": "2024-06-11T11:57:05.965589",
     "exception": false,
     "start_time": "2024-06-11T11:57:05.921876",
     "status": "completed"
    },
    "tags": []
   },
   "outputs": [
    {
     "data": {
      "text/plain": [
       "array([0.01446969, 0.8471564 , 0.02994665, ..., 0.00918885, 0.16377055,\n",
       "       0.20911039])"
      ]
     },
     "execution_count": 18,
     "metadata": {},
     "output_type": "execute_result"
    }
   ],
   "source": [
    "y_pred_np"
   ]
  },
  {
   "cell_type": "code",
   "execution_count": 19,
   "id": "f65cbc49",
   "metadata": {
    "execution": {
     "iopub.execute_input": "2024-06-11T11:57:06.015731Z",
     "iopub.status.busy": "2024-06-11T11:57:06.015329Z",
     "iopub.status.idle": "2024-06-11T11:57:06.023285Z",
     "shell.execute_reply": "2024-06-11T11:57:06.021982Z"
    },
    "papermill": {
     "duration": 0.037354,
     "end_time": "2024-06-11T11:57:06.026413",
     "exception": false,
     "start_time": "2024-06-11T11:57:05.989059",
     "status": "completed"
    },
    "tags": []
   },
   "outputs": [],
   "source": [
    "# 提出用ファイルの作成\n",
    "submission_df = pd.DataFrame({\n",
    "    \"id\": test_df[\"id\"],\n",
    "    \"Exited\": y_pred_np,\n",
    "})"
   ]
  },
  {
   "cell_type": "code",
   "execution_count": 20,
   "id": "0e09ab88",
   "metadata": {
    "execution": {
     "iopub.execute_input": "2024-06-11T11:57:06.068410Z",
     "iopub.status.busy": "2024-06-11T11:57:06.067955Z",
     "iopub.status.idle": "2024-06-11T11:57:06.084417Z",
     "shell.execute_reply": "2024-06-11T11:57:06.083172Z"
    },
    "papermill": {
     "duration": 0.040705,
     "end_time": "2024-06-11T11:57:06.087338",
     "exception": false,
     "start_time": "2024-06-11T11:57:06.046633",
     "status": "completed"
    },
    "tags": []
   },
   "outputs": [
    {
     "data": {
      "text/html": [
       "<div>\n",
       "<style scoped>\n",
       "    .dataframe tbody tr th:only-of-type {\n",
       "        vertical-align: middle;\n",
       "    }\n",
       "\n",
       "    .dataframe tbody tr th {\n",
       "        vertical-align: top;\n",
       "    }\n",
       "\n",
       "    .dataframe thead th {\n",
       "        text-align: right;\n",
       "    }\n",
       "</style>\n",
       "<table border=\"1\" class=\"dataframe\">\n",
       "  <thead>\n",
       "    <tr style=\"text-align: right;\">\n",
       "      <th></th>\n",
       "      <th>id</th>\n",
       "      <th>Exited</th>\n",
       "    </tr>\n",
       "  </thead>\n",
       "  <tbody>\n",
       "    <tr>\n",
       "      <th>0</th>\n",
       "      <td>165034</td>\n",
       "      <td>0.014470</td>\n",
       "    </tr>\n",
       "    <tr>\n",
       "      <th>1</th>\n",
       "      <td>165035</td>\n",
       "      <td>0.847156</td>\n",
       "    </tr>\n",
       "    <tr>\n",
       "      <th>2</th>\n",
       "      <td>165036</td>\n",
       "      <td>0.029947</td>\n",
       "    </tr>\n",
       "    <tr>\n",
       "      <th>3</th>\n",
       "      <td>165037</td>\n",
       "      <td>0.241440</td>\n",
       "    </tr>\n",
       "    <tr>\n",
       "      <th>4</th>\n",
       "      <td>165038</td>\n",
       "      <td>0.359321</td>\n",
       "    </tr>\n",
       "  </tbody>\n",
       "</table>\n",
       "</div>"
      ],
      "text/plain": [
       "       id    Exited\n",
       "0  165034  0.014470\n",
       "1  165035  0.847156\n",
       "2  165036  0.029947\n",
       "3  165037  0.241440\n",
       "4  165038  0.359321"
      ]
     },
     "execution_count": 20,
     "metadata": {},
     "output_type": "execute_result"
    }
   ],
   "source": [
    "submission_df.head()"
   ]
  },
  {
   "cell_type": "code",
   "execution_count": 21,
   "id": "0f2fca85",
   "metadata": {
    "execution": {
     "iopub.execute_input": "2024-06-11T11:57:06.132894Z",
     "iopub.status.busy": "2024-06-11T11:57:06.132479Z",
     "iopub.status.idle": "2024-06-11T11:57:06.535299Z",
     "shell.execute_reply": "2024-06-11T11:57:06.533745Z"
    },
    "papermill": {
     "duration": 0.429154,
     "end_time": "2024-06-11T11:57:06.538374",
     "exception": false,
     "start_time": "2024-06-11T11:57:06.109220",
     "status": "completed"
    },
    "tags": []
   },
   "outputs": [],
   "source": [
    "submission_df.to_csv(\"submission.csv\", index=False)"
   ]
  }
 ],
 "metadata": {
  "kaggle": {
   "accelerator": "none",
   "dataSources": [
    {
     "databundleVersionId": 8428413,
     "sourceId": 77360,
     "sourceType": "competition"
    },
    {
     "datasetId": 5178796,
     "sourceId": 8664803,
     "sourceType": "datasetVersion"
    }
   ],
   "dockerImageVersionId": 30732,
   "isGpuEnabled": false,
   "isInternetEnabled": true,
   "language": "python",
   "sourceType": "notebook"
  },
  "kernelspec": {
   "display_name": "Python 3",
   "language": "python",
   "name": "python3"
  },
  "language_info": {
   "codemirror_mode": {
    "name": "ipython",
    "version": 3
   },
   "file_extension": ".py",
   "mimetype": "text/x-python",
   "name": "python",
   "nbconvert_exporter": "python",
   "pygments_lexer": "ipython3",
   "version": "3.10.13"
  },
  "papermill": {
   "default_parameters": {},
   "duration": 309.743237,
   "end_time": "2024-06-11T11:57:07.384249",
   "environment_variables": {},
   "exception": null,
   "input_path": "__notebook__.ipynb",
   "output_path": "__notebook__.ipynb",
   "parameters": {},
   "start_time": "2024-06-11T11:51:57.641012",
   "version": "2.5.0"
  }
 },
 "nbformat": 4,
 "nbformat_minor": 5
}
