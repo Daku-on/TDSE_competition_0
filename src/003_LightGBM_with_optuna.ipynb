{
 "cells": [
  {
   "cell_type": "code",
   "execution_count": 1,
   "id": "7c6b0df5",
   "metadata": {
    "_cell_guid": "b1076dfc-b9ad-4769-8c92-a6c4dae69d19",
    "_uuid": "8f2839f25d086af736a60e9eeb907d3b93b6e0e5",
    "execution": {
     "iopub.execute_input": "2024-06-25T13:27:58.926258Z",
     "iopub.status.busy": "2024-06-25T13:27:58.925614Z",
     "iopub.status.idle": "2024-06-25T13:28:01.701877Z",
     "shell.execute_reply": "2024-06-25T13:28:01.701069Z"
    },
    "papermill": {
     "duration": 2.78451,
     "end_time": "2024-06-25T13:28:01.704311",
     "exception": false,
     "start_time": "2024-06-25T13:27:58.919801",
     "status": "completed"
    },
    "tags": []
   },
   "outputs": [],
   "source": [
    "import numpy as np # 今回は明示的には使わない\n",
    "import pandas as pd # data processing, CSV file I/O (e.g. pd.read_csv)\n",
    "import polars as pl # data processing like SQL\n",
    "import lightgbm as lgb # LightGBM でモデルを作成する\n",
    "from sklearn.metrics import accuracy_score, roc_auc_score #精度評価に使用\n",
    "import pickle # モデルの保存・読み込みに使用"
   ]
  },
  {
   "cell_type": "code",
   "execution_count": 2,
   "id": "02c609ef",
   "metadata": {
    "execution": {
     "iopub.execute_input": "2024-06-25T13:28:01.714943Z",
     "iopub.status.busy": "2024-06-25T13:28:01.714168Z",
     "iopub.status.idle": "2024-06-25T13:28:01.915741Z",
     "shell.execute_reply": "2024-06-25T13:28:01.914962Z"
    },
    "papermill": {
     "duration": 0.20911,
     "end_time": "2024-06-25T13:28:01.918080",
     "exception": false,
     "start_time": "2024-06-25T13:28:01.708970",
     "status": "completed"
    },
    "tags": []
   },
   "outputs": [],
   "source": [
    "# 自作のモジュールを読み込み\n",
    "import sys\n",
    "sys.path.append(\"../input/modeling-and-evaluation/\")\n",
    "import optuna_hypara as my_optuna"
   ]
  },
  {
   "cell_type": "code",
   "execution_count": 3,
   "id": "0e719063",
   "metadata": {
    "execution": {
     "iopub.execute_input": "2024-06-25T13:28:01.927365Z",
     "iopub.status.busy": "2024-06-25T13:28:01.927063Z",
     "iopub.status.idle": "2024-06-25T13:28:01.932611Z",
     "shell.execute_reply": "2024-06-25T13:28:01.931921Z"
    },
    "papermill": {
     "duration": 0.012283,
     "end_time": "2024-06-25T13:28:01.934518",
     "exception": false,
     "start_time": "2024-06-25T13:28:01.922235",
     "status": "completed"
    },
    "tags": []
   },
   "outputs": [],
   "source": [
    "# 各種定数の定義\n",
    "# 乱数シード\n",
    "RANDOM_SEED = 42\n",
    "# target となる特徴量\n",
    "TARGET_COULMN_NAME = \"Exited\"\n",
    "# 削除する特徴量のリスト\n",
    "DROP_COLUMNS = [\"id\", \"CustomerId\", \"Surname\"]\n",
    "# one-hot encoding する特徴量のリスト\n",
    "ONE_HOT_ENCODING_COLUMNS = [\"Geography\", \"Gender\"]\n",
    "# ベストモデルのパス\n",
    "BEST_MODEL_PATH = \"../working/best_lgbm_model.pkl\""
   ]
  },
  {
   "cell_type": "code",
   "execution_count": 4,
   "id": "05be73c8",
   "metadata": {
    "execution": {
     "iopub.execute_input": "2024-06-25T13:28:01.943383Z",
     "iopub.status.busy": "2024-06-25T13:28:01.943108Z",
     "iopub.status.idle": "2024-06-25T13:28:02.304390Z",
     "shell.execute_reply": "2024-06-25T13:28:02.303545Z"
    },
    "papermill": {
     "duration": 0.368168,
     "end_time": "2024-06-25T13:28:02.306659",
     "exception": false,
     "start_time": "2024-06-25T13:28:01.938491",
     "status": "completed"
    },
    "tags": []
   },
   "outputs": [],
   "source": [
    "# 学習データの読み込み\n",
    "train_df =  pd.read_csv(\"../input/tdse-inclass-competition-0/train.csv\")"
   ]
  },
  {
   "cell_type": "code",
   "execution_count": 5,
   "id": "3da695ad",
   "metadata": {
    "execution": {
     "iopub.execute_input": "2024-06-25T13:28:02.316257Z",
     "iopub.status.busy": "2024-06-25T13:28:02.315535Z",
     "iopub.status.idle": "2024-06-25T13:28:02.373061Z",
     "shell.execute_reply": "2024-06-25T13:28:02.372237Z"
    },
    "papermill": {
     "duration": 0.064432,
     "end_time": "2024-06-25T13:28:02.375248",
     "exception": false,
     "start_time": "2024-06-25T13:28:02.310816",
     "status": "completed"
    },
    "tags": []
   },
   "outputs": [],
   "source": [
    "# 特徴量。Surname, id, CustomerIDは削除\n",
    "X_train_df = train_df.drop(\n",
    "    [TARGET_COULMN_NAME] + DROP_COLUMNS,\n",
    "    axis=1,\n",
    ") \n",
    "# one-hot encoding\n",
    "X_train_df = pd.get_dummies(\n",
    "    X_train_df,\n",
    "    columns=ONE_HOT_ENCODING_COLUMNS,\n",
    ")\n",
    "# 目的変数\n",
    "y_train_df = train_df[TARGET_COULMN_NAME]"
   ]
  },
  {
   "cell_type": "code",
   "execution_count": 6,
   "id": "e0692ca2",
   "metadata": {
    "execution": {
     "iopub.execute_input": "2024-06-25T13:28:02.384830Z",
     "iopub.status.busy": "2024-06-25T13:28:02.384287Z",
     "iopub.status.idle": "2024-06-25T13:28:02.611685Z",
     "shell.execute_reply": "2024-06-25T13:28:02.610648Z"
    },
    "papermill": {
     "duration": 0.234714,
     "end_time": "2024-06-25T13:28:02.614081",
     "exception": false,
     "start_time": "2024-06-25T13:28:02.379367",
     "status": "completed"
    },
    "tags": []
   },
   "outputs": [],
   "source": [
    "# テストデータの読み込み\n",
    "test_df =  pd.read_csv(\"../input/tdse-inclass-competition-0/test.csv\")"
   ]
  },
  {
   "cell_type": "code",
   "execution_count": 7,
   "id": "3aaf38be",
   "metadata": {
    "execution": {
     "iopub.execute_input": "2024-06-25T13:28:02.623711Z",
     "iopub.status.busy": "2024-06-25T13:28:02.623168Z",
     "iopub.status.idle": "2024-06-25T13:28:02.935628Z",
     "shell.execute_reply": "2024-06-25T13:28:02.934588Z"
    },
    "papermill": {
     "duration": 0.319773,
     "end_time": "2024-06-25T13:28:02.938054",
     "exception": false,
     "start_time": "2024-06-25T13:28:02.618281",
     "status": "completed"
    },
    "tags": []
   },
   "outputs": [],
   "source": [
    "# polarsでCSVを読み込み、CustomerIdとSurname、Geograpyが一致しているtrainでExited=1の顧客のtestでのidを保持する\n",
    "train_pl = pl.read_csv(\"../input/tdse-inclass-competition-0/train.csv\")\n",
    "test_pl = pl.read_csv(\"../input/tdse-inclass-competition-0/test.csv\")\n",
    "\n",
    "# クエリの実行\n",
    "result_pl = (\n",
    "    test_pl\n",
    "    .join(\n",
    "        train_pl.filter(pl.col(\"Exited\") == 1),\n",
    "        on=[\"CustomerId\", \"Surname\", \"Geography\"],\n",
    "        how=\"inner\"\n",
    "    )\n",
    "    .select([\"id\"])\n",
    ")"
   ]
  },
  {
   "cell_type": "code",
   "execution_count": 8,
   "id": "a91013b5",
   "metadata": {
    "execution": {
     "iopub.execute_input": "2024-06-25T13:28:02.947948Z",
     "iopub.status.busy": "2024-06-25T13:28:02.947211Z",
     "iopub.status.idle": "2024-06-25T13:28:02.981144Z",
     "shell.execute_reply": "2024-06-25T13:28:02.980347Z"
    },
    "papermill": {
     "duration": 0.040954,
     "end_time": "2024-06-25T13:28:02.983160",
     "exception": false,
     "start_time": "2024-06-25T13:28:02.942206",
     "status": "completed"
    },
    "tags": []
   },
   "outputs": [],
   "source": [
    "# 学習データに合わせて特徴量を加工\n",
    "X_test_df = test_df.drop(\n",
    "    DROP_COLUMNS,\n",
    "    axis=1,\n",
    ")\n",
    "# one-hot encoding\n",
    "X_test_df = pd.get_dummies(\n",
    "    X_test_df,\n",
    "    columns=ONE_HOT_ENCODING_COLUMNS,\n",
    ")"
   ]
  },
  {
   "cell_type": "code",
   "execution_count": 9,
   "id": "b660cde2",
   "metadata": {
    "execution": {
     "iopub.execute_input": "2024-06-25T13:28:02.992903Z",
     "iopub.status.busy": "2024-06-25T13:28:02.992164Z",
     "iopub.status.idle": "2024-06-25T13:30:01.942242Z",
     "shell.execute_reply": "2024-06-25T13:30:01.941263Z"
    },
    "papermill": {
     "duration": 118.957059,
     "end_time": "2024-06-25T13:30:01.944423",
     "exception": false,
     "start_time": "2024-06-25T13:28:02.987364",
     "status": "completed"
    },
    "tags": []
   },
   "outputs": [
    {
     "name": "stderr",
     "output_type": "stream",
     "text": [
      "[I 2024-06-25 13:28:03,013] A new study created in memory with name: no-name-f0bf3c56-2287-448a-8a4d-a6b2fbde4429\n",
      "[I 2024-06-25 13:28:04,589] Trial 0 finished with value: 0.8908755954882251 and parameters: {'num_leaves': 23, 'feature_fraction': 0.5501303753303672, 'bagging_fraction': 0.6981960757903249, 'bagging_freq': 1, 'min_child_samples': 30}. Best is trial 0 with value: 0.8908755954882251.\n",
      "[I 2024-06-25 13:28:08,153] Trial 1 finished with value: 0.8895805358811769 and parameters: {'num_leaves': 112, 'feature_fraction': 0.9427187851421015, 'bagging_fraction': 0.7933454274939895, 'bagging_freq': 7, 'min_child_samples': 56}. Best is trial 0 with value: 0.8908755954882251.\n",
      "[I 2024-06-25 13:28:10,927] Trial 2 finished with value: 0.8906339894452096 and parameters: {'num_leaves': 91, 'feature_fraction': 0.6019999713605202, 'bagging_fraction': 0.9218960402075691, 'bagging_freq': 3, 'min_child_samples': 5}. Best is trial 0 with value: 0.8908755954882251.\n",
      "[I 2024-06-25 13:28:14,451] Trial 3 finished with value: 0.8863754766637715 and parameters: {'num_leaves': 137, 'feature_fraction': 0.8305745895625196, 'bagging_fraction': 0.4275902826083645, 'bagging_freq': 5, 'min_child_samples': 45}. Best is trial 0 with value: 0.8908755954882251.\n",
      "[I 2024-06-25 13:28:17,173] Trial 4 finished with value: 0.8912906256281331 and parameters: {'num_leaves': 21, 'feature_fraction': 0.5879255743317977, 'bagging_fraction': 0.8833247781293017, 'bagging_freq': 6, 'min_child_samples': 21}. Best is trial 4 with value: 0.8912906256281331.\n",
      "[I 2024-06-25 13:28:19,834] Trial 5 finished with value: 0.8900902006196092 and parameters: {'num_leaves': 83, 'feature_fraction': 0.710590528625366, 'bagging_fraction': 0.48338578457768444, 'bagging_freq': 5, 'min_child_samples': 65}. Best is trial 4 with value: 0.8912906256281331.\n",
      "[I 2024-06-25 13:28:22,840] Trial 6 finished with value: 0.8903060107733436 and parameters: {'num_leaves': 90, 'feature_fraction': 0.48197887366410835, 'bagging_fraction': 0.6074507556193957, 'bagging_freq': 3, 'min_child_samples': 62}. Best is trial 4 with value: 0.8912906256281331.\n",
      "[I 2024-06-25 13:28:26,130] Trial 7 finished with value: 0.8887294867765989 and parameters: {'num_leaves': 115, 'feature_fraction': 0.7217241629358984, 'bagging_fraction': 0.4714330984299536, 'bagging_freq': 5, 'min_child_samples': 87}. Best is trial 4 with value: 0.8912906256281331.\n",
      "[I 2024-06-25 13:28:29,011] Trial 8 finished with value: 0.8901252463827529 and parameters: {'num_leaves': 80, 'feature_fraction': 0.9625138899629774, 'bagging_fraction': 0.748306689994821, 'bagging_freq': 3, 'min_child_samples': 95}. Best is trial 4 with value: 0.8912906256281331.\n",
      "[I 2024-06-25 13:28:32,250] Trial 9 finished with value: 0.8891171205120588 and parameters: {'num_leaves': 108, 'feature_fraction': 0.7368219989627187, 'bagging_fraction': 0.45452375912548093, 'bagging_freq': 1, 'min_child_samples': 47}. Best is trial 4 with value: 0.8912906256281331.\n",
      "[I 2024-06-25 13:28:33,965] Trial 10 finished with value: 0.8909512695010355 and parameters: {'num_leaves': 20, 'feature_fraction': 0.4601746479079968, 'bagging_fraction': 0.9939680203006568, 'bagging_freq': 7, 'min_child_samples': 8}. Best is trial 4 with value: 0.8912906256281331.\n",
      "[I 2024-06-25 13:28:35,686] Trial 11 finished with value: 0.8908552937811819 and parameters: {'num_leaves': 20, 'feature_fraction': 0.4267667010590246, 'bagging_fraction': 0.9787832940918315, 'bagging_freq': 7, 'min_child_samples': 5}. Best is trial 4 with value: 0.8912906256281331.\n",
      "[I 2024-06-25 13:28:37,873] Trial 12 finished with value: 0.8910571573768904 and parameters: {'num_leaves': 48, 'feature_fraction': 0.5701228688752846, 'bagging_fraction': 0.8784963392410956, 'bagging_freq': 6, 'min_child_samples': 25}. Best is trial 4 with value: 0.8912906256281331.\n",
      "[I 2024-06-25 13:28:40,031] Trial 13 finished with value: 0.8911204660302797 and parameters: {'num_leaves': 51, 'feature_fraction': 0.6201637899573997, 'bagging_fraction': 0.8676575319277805, 'bagging_freq': 6, 'min_child_samples': 26}. Best is trial 4 with value: 0.8912906256281331.\n",
      "[I 2024-06-25 13:28:42,362] Trial 14 finished with value: 0.8911347740839728 and parameters: {'num_leaves': 52, 'feature_fraction': 0.6592323758450069, 'bagging_fraction': 0.8453835366274058, 'bagging_freq': 6, 'min_child_samples': 26}. Best is trial 4 with value: 0.8912906256281331.\n",
      "[I 2024-06-25 13:28:44,600] Trial 15 finished with value: 0.8908091327161526 and parameters: {'num_leaves': 50, 'feature_fraction': 0.8203603808289677, 'bagging_fraction': 0.8095536634127506, 'bagging_freq': 6, 'min_child_samples': 35}. Best is trial 4 with value: 0.8912906256281331.\n",
      "[I 2024-06-25 13:28:46,508] Trial 16 finished with value: 0.8908872544133654 and parameters: {'num_leaves': 38, 'feature_fraction': 0.6358572870248066, 'bagging_fraction': 0.6644894356758059, 'bagging_freq': 4, 'min_child_samples': 18}. Best is trial 4 with value: 0.8912906256281331.\n",
      "[I 2024-06-25 13:28:49,889] Trial 17 finished with value: 0.8910514838265735 and parameters: {'num_leaves': 64, 'feature_fraction': 0.51201164471659, 'bagging_fraction': 0.8372044800835281, 'bagging_freq': 4, 'min_child_samples': 41}. Best is trial 4 with value: 0.8912906256281331.\n",
      "[I 2024-06-25 13:28:51,930] Trial 18 finished with value: 0.8911579291232279 and parameters: {'num_leaves': 37, 'feature_fraction': 0.8199630938947361, 'bagging_fraction': 0.9241099401609218, 'bagging_freq': 6, 'min_child_samples': 20}. Best is trial 4 with value: 0.8912906256281331.\n",
      "[I 2024-06-25 13:28:54,035] Trial 19 finished with value: 0.8911439880842198 and parameters: {'num_leaves': 39, 'feature_fraction': 0.847229086643327, 'bagging_fraction': 0.9291416618453574, 'bagging_freq': 5, 'min_child_samples': 15}. Best is trial 4 with value: 0.8912906256281331.\n",
      "[I 2024-06-25 13:28:56,686] Trial 20 finished with value: 0.8902482266567897 and parameters: {'num_leaves': 68, 'feature_fraction': 0.7778430697657347, 'bagging_fraction': 0.594441624181879, 'bagging_freq': 2, 'min_child_samples': 74}. Best is trial 4 with value: 0.8912906256281331.\n",
      "[I 2024-06-25 13:28:58,668] Trial 21 finished with value: 0.8908260512652736 and parameters: {'num_leaves': 33, 'feature_fraction': 0.8880267740098317, 'bagging_fraction': 0.9284992438647405, 'bagging_freq': 5, 'min_child_samples': 18}. Best is trial 4 with value: 0.8912906256281331.\n",
      "[I 2024-06-25 13:29:00,665] Trial 22 finished with value: 0.8910945845962226 and parameters: {'num_leaves': 35, 'feature_fraction': 0.8662950178658515, 'bagging_fraction': 0.9395003371804312, 'bagging_freq': 6, 'min_child_samples': 15}. Best is trial 4 with value: 0.8912906256281331.\n",
      "[I 2024-06-25 13:29:02,559] Trial 23 finished with value: 0.8909909760747267 and parameters: {'num_leaves': 34, 'feature_fraction': 0.9982494528202641, 'bagging_fraction': 0.7566611483163722, 'bagging_freq': 5, 'min_child_samples': 36}. Best is trial 4 with value: 0.8912906256281331.\n",
      "[I 2024-06-25 13:29:05,096] Trial 24 finished with value: 0.8906739167796134 and parameters: {'num_leaves': 67, 'feature_fraction': 0.802728788498474, 'bagging_fraction': 0.9049747660440542, 'bagging_freq': 7, 'min_child_samples': 15}. Best is trial 4 with value: 0.8912906256281331.\n",
      "[I 2024-06-25 13:29:07,325] Trial 25 finished with value: 0.8905106145613987 and parameters: {'num_leaves': 42, 'feature_fraction': 0.8986271038499408, 'bagging_fraction': 0.9624898459508892, 'bagging_freq': 4, 'min_child_samples': 13}. Best is trial 4 with value: 0.8912906256281331.\n",
      "[I 2024-06-25 13:29:09,825] Trial 26 finished with value: 0.8911468552139761 and parameters: {'num_leaves': 62, 'feature_fraction': 0.7681750355264922, 'bagging_fraction': 0.8889713543475305, 'bagging_freq': 6, 'min_child_samples': 33}. Best is trial 4 with value: 0.8912906256281331.\n",
      "[I 2024-06-25 13:29:12,198] Trial 27 finished with value: 0.8905888549174946 and parameters: {'num_leaves': 59, 'feature_fraction': 0.763457000818877, 'bagging_fraction': 0.7899223809516731, 'bagging_freq': 6, 'min_child_samples': 37}. Best is trial 4 with value: 0.8912906256281331.\n",
      "[I 2024-06-25 13:29:14,001] Trial 28 finished with value: 0.8910905943463403 and parameters: {'num_leaves': 28, 'feature_fraction': 0.6503011505998384, 'bagging_fraction': 0.8874199464027545, 'bagging_freq': 7, 'min_child_samples': 49}. Best is trial 4 with value: 0.8912906256281331.\n",
      "[I 2024-06-25 13:29:16,719] Trial 29 finished with value: 0.8904146829936875 and parameters: {'num_leaves': 75, 'feature_fraction': 0.6785367071791889, 'bagging_fraction': 0.7421413184310466, 'bagging_freq': 6, 'min_child_samples': 29}. Best is trial 4 with value: 0.8912906256281331.\n",
      "[I 2024-06-25 13:29:18,541] Trial 30 finished with value: 0.8913036367126389 and parameters: {'num_leaves': 26, 'feature_fraction': 0.5598167224338972, 'bagging_fraction': 0.698679772415615, 'bagging_freq': 7, 'min_child_samples': 21}. Best is trial 30 with value: 0.8913036367126389.\n",
      "[I 2024-06-25 13:29:21,046] Trial 31 finished with value: 0.8909071973842505 and parameters: {'num_leaves': 27, 'feature_fraction': 0.5496207205923241, 'bagging_fraction': 0.6793493136204933, 'bagging_freq': 7, 'min_child_samples': 24}. Best is trial 30 with value: 0.8913036367126389.\n",
      "[I 2024-06-25 13:29:22,662] Trial 32 finished with value: 0.8911241085820396 and parameters: {'num_leaves': 26, 'feature_fraction': 0.5677739963132941, 'bagging_fraction': 0.6362362338743527, 'bagging_freq': 7, 'min_child_samples': 22}. Best is trial 30 with value: 0.8913036367126389.\n",
      "[I 2024-06-25 13:29:24,534] Trial 33 finished with value: 0.8909600337013304 and parameters: {'num_leaves': 44, 'feature_fraction': 0.5321945177413384, 'bagging_fraction': 0.5255421957178948, 'bagging_freq': 6, 'min_child_samples': 32}. Best is trial 30 with value: 0.8913036367126389.\n",
      "[I 2024-06-25 13:29:26,283] Trial 34 finished with value: 0.8909624537906435 and parameters: {'num_leaves': 30, 'feature_fraction': 0.5932371703467749, 'bagging_fraction': 0.7166590829678552, 'bagging_freq': 7, 'min_child_samples': 31}. Best is trial 30 with value: 0.8913036367126389.\n",
      "[I 2024-06-25 13:29:30,160] Trial 35 finished with value: 0.8892119731117867 and parameters: {'num_leaves': 144, 'feature_fraction': 0.760339571980983, 'bagging_fraction': 0.8118943472802546, 'bagging_freq': 6, 'min_child_samples': 41}. Best is trial 30 with value: 0.8913036367126389.\n",
      "[I 2024-06-25 13:29:32,336] Trial 36 finished with value: 0.8908767048108064 and parameters: {'num_leaves': 56, 'feature_fraction': 0.6965810838370138, 'bagging_fraction': 0.5498891571358047, 'bagging_freq': 5, 'min_child_samples': 10}. Best is trial 30 with value: 0.8913036367126389.\n",
      "[I 2024-06-25 13:29:35,518] Trial 37 finished with value: 0.8905323429345479 and parameters: {'num_leaves': 96, 'feature_fraction': 0.48899095677080895, 'bagging_fraction': 0.8467516157514546, 'bagging_freq': 7, 'min_child_samples': 21}. Best is trial 30 with value: 0.8913036367126389.\n",
      "[I 2024-06-25 13:29:37,716] Trial 38 finished with value: 0.8910951558145667 and parameters: {'num_leaves': 44, 'feature_fraction': 0.5984262352112397, 'bagging_fraction': 0.9582574692008531, 'bagging_freq': 5, 'min_child_samples': 62}. Best is trial 30 with value: 0.8913036367126389.\n",
      "[I 2024-06-25 13:29:40,090] Trial 39 finished with value: 0.8904934421374583 and parameters: {'num_leaves': 60, 'feature_fraction': 0.7312976748643853, 'bagging_fraction': 0.7096955380746922, 'bagging_freq': 6, 'min_child_samples': 54}. Best is trial 30 with value: 0.8913036367126389.\n",
      "[I 2024-06-25 13:29:41,775] Trial 40 finished with value: 0.8912178904923108 and parameters: {'num_leaves': 20, 'feature_fraction': 0.7951242416053682, 'bagging_fraction': 0.7643911874984526, 'bagging_freq': 2, 'min_child_samples': 41}. Best is trial 30 with value: 0.8913036367126389.\n",
      "[I 2024-06-25 13:29:43,483] Trial 41 finished with value: 0.8913662361722388 and parameters: {'num_leaves': 21, 'feature_fraction': 0.7953553951582197, 'bagging_fraction': 0.7701259551321165, 'bagging_freq': 2, 'min_child_samples': 43}. Best is trial 41 with value: 0.8913662361722388.\n",
      "[I 2024-06-25 13:29:45,177] Trial 42 finished with value: 0.8910605515728482 and parameters: {'num_leaves': 20, 'feature_fraction': 0.9202680140783986, 'bagging_fraction': 0.789021116968641, 'bagging_freq': 2, 'min_child_samples': 42}. Best is trial 41 with value: 0.8913662361722388.\n",
      "[I 2024-06-25 13:29:47,043] Trial 43 finished with value: 0.8912318591264079 and parameters: {'num_leaves': 24, 'feature_fraction': 0.7920735904657882, 'bagging_fraction': 0.768867161381872, 'bagging_freq': 2, 'min_child_samples': 58}. Best is trial 41 with value: 0.8913662361722388.\n",
      "[I 2024-06-25 13:29:51,675] Trial 44 finished with value: 0.8897118719481902 and parameters: {'num_leaves': 124, 'feature_fraction': 0.6948871456226177, 'bagging_fraction': 0.7628529741761465, 'bagging_freq': 2, 'min_child_samples': 57}. Best is trial 41 with value: 0.8913662361722388.\n",
      "[I 2024-06-25 13:29:53,269] Trial 45 finished with value: 0.89105240274304 and parameters: {'num_leaves': 24, 'feature_fraction': 0.4377463039214366, 'bagging_fraction': 0.7280051581733669, 'bagging_freq': 1, 'min_child_samples': 71}. Best is trial 41 with value: 0.8913662361722388.\n",
      "[I 2024-06-25 13:29:54,967] Trial 46 finished with value: 0.8913421815330792 and parameters: {'num_leaves': 24, 'feature_fraction': 0.7922772740535811, 'bagging_fraction': 0.6881474437827939, 'bagging_freq': 3, 'min_child_samples': 49}. Best is trial 41 with value: 0.8913662361722388.\n",
      "[I 2024-06-25 13:29:56,851] Trial 47 finished with value: 0.8911104021012887 and parameters: {'num_leaves': 30, 'feature_fraction': 0.8529007044004009, 'bagging_fraction': 0.6690477264939809, 'bagging_freq': 3, 'min_child_samples': 50}. Best is trial 41 with value: 0.8913662361722388.\n",
      "[I 2024-06-25 13:29:58,580] Trial 48 finished with value: 0.8910348357093256 and parameters: {'num_leaves': 27, 'feature_fraction': 0.7481689469107737, 'bagging_fraction': 0.6242350184095894, 'bagging_freq': 3, 'min_child_samples': 78}. Best is trial 41 with value: 0.8913662361722388.\n",
      "[I 2024-06-25 13:30:00,677] Trial 49 finished with value: 0.8904596381533234 and parameters: {'num_leaves': 46, 'feature_fraction': 0.7219315966271774, 'bagging_fraction': 0.5804425007176827, 'bagging_freq': 3, 'min_child_samples': 59}. Best is trial 41 with value: 0.8913662361722388.\n"
     ]
    },
    {
     "name": "stdout",
     "output_type": "stream",
     "text": [
      "[LightGBM] [Info] Auto-choosing col-wise multi-threading, the overhead of testing was 0.009959 seconds.\n",
      "You can set `force_col_wise=true` to remove the overhead.\n",
      "[LightGBM] [Info] Total Bins 864\n",
      "[LightGBM] [Info] Number of data points in the train set: 132027, number of used features: 13\n",
      "[LightGBM] [Info] Start training from score 0.211820\n",
      "Best trial:\n",
      "  Value: 0.8913662361722388\n",
      "  Params: \n",
      "    num_leaves: 21\n",
      "    feature_fraction: 0.7953553951582197\n",
      "    bagging_fraction: 0.7701259551321165\n",
      "    bagging_freq: 2\n",
      "    min_child_samples: 43\n"
     ]
    },
    {
     "data": {
      "text/plain": [
       "<optuna.study.study.Study at 0x7e51f9c26da0>"
      ]
     },
     "execution_count": 9,
     "metadata": {},
     "output_type": "execute_result"
    }
   ],
   "source": [
    "# optunaによるハイパラ探索\n",
    "my_optuna.optimize_lgbm_hyperparameters(\n",
    "    X_train_df,\n",
    "    y_train_df,\n",
    "    n_trials=50,\n",
    "    seed=RANDOM_SEED,\n",
    "    model_path=BEST_MODEL_PATH,\n",
    ")"
   ]
  },
  {
   "cell_type": "code",
   "execution_count": 10,
   "id": "697e25eb",
   "metadata": {
    "execution": {
     "iopub.execute_input": "2024-06-25T13:30:01.960922Z",
     "iopub.status.busy": "2024-06-25T13:30:01.960595Z",
     "iopub.status.idle": "2024-06-25T13:30:01.967619Z",
     "shell.execute_reply": "2024-06-25T13:30:01.966893Z"
    },
    "papermill": {
     "duration": 0.01749,
     "end_time": "2024-06-25T13:30:01.969582",
     "exception": false,
     "start_time": "2024-06-25T13:30:01.952092",
     "status": "completed"
    },
    "tags": []
   },
   "outputs": [],
   "source": [
    "# モデルの読み込み\n",
    "with open(BEST_MODEL_PATH, 'rb') as f:\n",
    "    model = pickle.load(f)"
   ]
  },
  {
   "cell_type": "code",
   "execution_count": 11,
   "id": "c96d05b3",
   "metadata": {
    "execution": {
     "iopub.execute_input": "2024-06-25T13:30:01.985965Z",
     "iopub.status.busy": "2024-06-25T13:30:01.985183Z",
     "iopub.status.idle": "2024-06-25T13:30:02.181248Z",
     "shell.execute_reply": "2024-06-25T13:30:02.180325Z"
    },
    "papermill": {
     "duration": 0.206654,
     "end_time": "2024-06-25T13:30:02.183650",
     "exception": false,
     "start_time": "2024-06-25T13:30:01.976996",
     "status": "completed"
    },
    "tags": []
   },
   "outputs": [],
   "source": [
    "# テストデータに対する予測\n",
    "y_pred_np = model.predict(X_test_df)"
   ]
  },
  {
   "cell_type": "code",
   "execution_count": 12,
   "id": "78123ec7",
   "metadata": {
    "execution": {
     "iopub.execute_input": "2024-06-25T13:30:02.200087Z",
     "iopub.status.busy": "2024-06-25T13:30:02.199738Z",
     "iopub.status.idle": "2024-06-25T13:30:02.205906Z",
     "shell.execute_reply": "2024-06-25T13:30:02.205046Z"
    },
    "papermill": {
     "duration": 0.01643,
     "end_time": "2024-06-25T13:30:02.207804",
     "exception": false,
     "start_time": "2024-06-25T13:30:02.191374",
     "status": "completed"
    },
    "tags": []
   },
   "outputs": [
    {
     "data": {
      "text/plain": [
       "array([0.03226135, 0.84083458, 0.03233401, ..., 0.01544924, 0.15808602,\n",
       "       0.18932645])"
      ]
     },
     "execution_count": 12,
     "metadata": {},
     "output_type": "execute_result"
    }
   ],
   "source": [
    "y_pred_np"
   ]
  },
  {
   "cell_type": "code",
   "execution_count": 13,
   "id": "97c23f90",
   "metadata": {
    "execution": {
     "iopub.execute_input": "2024-06-25T13:30:02.223777Z",
     "iopub.status.busy": "2024-06-25T13:30:02.223491Z",
     "iopub.status.idle": "2024-06-25T13:30:02.367264Z",
     "shell.execute_reply": "2024-06-25T13:30:02.366421Z"
    },
    "papermill": {
     "duration": 0.154453,
     "end_time": "2024-06-25T13:30:02.369597",
     "exception": false,
     "start_time": "2024-06-25T13:30:02.215144",
     "status": "completed"
    },
    "tags": []
   },
   "outputs": [],
   "source": [
    "# 提出用ファイルの作成\n",
    "submission_pl = pl.DataFrame({\n",
    "    \"id\": test_df[\"id\"],\n",
    "    \"Exited\": y_pred_np,\n",
    "})\n",
    "\n",
    "# polarsでCSVを読み込み、CustomerIdとSurname、Geograpyが一致しているtrainでExited=1の顧客のtestでのidを保持する\n",
    "train_pl = pl.read_csv(\"../input/tdse-inclass-competition-0/train.csv\")\n",
    "test_pl = pl.read_csv(\"../input/tdse-inclass-competition-0/test.csv\")\n",
    "\n",
    "# クエリの実行\n",
    "result_pl = (\n",
    "    test_pl\n",
    "    .join(\n",
    "        train_pl.filter(pl.col(\"Exited\") == 1),\n",
    "        on=[\"CustomerId\", \"Surname\", \"Geography\"],\n",
    "        how=\"inner\"\n",
    "    )\n",
    "    .select([\"id\"])\n",
    ")\n",
    "\n",
    "# 　result_plに含まれるidのうち、予測値が0.5を超えるものはすべて1に置換する\n",
    "# df_1に含まれるidを抽出\n",
    "ids_in_result_pl = result_pl.select(pl.col(\"id\")).to_series()\n",
    "\n",
    "# submission_plでExitedが0.5を超える行をフィルタ (0.3とかでもいいかもしれない)\n",
    "submission_pl_filtered = submission_pl.filter(pl.col(\"Exited\") >= 0.5)\n",
    "\n",
    "# submission_pl_filteredのidを抽出\n",
    "ids_to_update = submission_pl_filtered.select(pl.col(\"id\")).to_series()\n",
    "\n",
    "# 更新対象の行をフィルタ\n",
    "submission_updated_pl = submission_pl.with_columns(\n",
    "    pl.when(\n",
    "        (pl.col(\"id\").is_in(ids_in_result_pl)) & (pl.col(\"id\").is_in(ids_to_update))\n",
    "    ).then(pl.lit(1.0)).otherwise(pl.col(\"Exited\")).alias(\"Exited\")\n",
    ")"
   ]
  },
  {
   "cell_type": "code",
   "execution_count": 14,
   "id": "42188fda",
   "metadata": {
    "execution": {
     "iopub.execute_input": "2024-06-25T13:30:02.386719Z",
     "iopub.status.busy": "2024-06-25T13:30:02.386413Z",
     "iopub.status.idle": "2024-06-25T13:30:02.398768Z",
     "shell.execute_reply": "2024-06-25T13:30:02.397919Z"
    },
    "papermill": {
     "duration": 0.022618,
     "end_time": "2024-06-25T13:30:02.400753",
     "exception": false,
     "start_time": "2024-06-25T13:30:02.378135",
     "status": "completed"
    },
    "tags": []
   },
   "outputs": [
    {
     "data": {
      "text/html": [
       "<div><style>\n",
       ".dataframe > thead > tr,\n",
       ".dataframe > tbody > tr {\n",
       "  text-align: right;\n",
       "  white-space: pre-wrap;\n",
       "}\n",
       "</style>\n",
       "<small>shape: (5, 2)</small><table border=\"1\" class=\"dataframe\"><thead><tr><th>id</th><th>Exited</th></tr><tr><td>i64</td><td>f64</td></tr></thead><tbody><tr><td>165034</td><td>0.032261</td></tr><tr><td>165035</td><td>0.840835</td></tr><tr><td>165036</td><td>0.032334</td></tr><tr><td>165037</td><td>0.244467</td></tr><tr><td>165038</td><td>0.347258</td></tr></tbody></table></div>"
      ],
      "text/plain": [
       "shape: (5, 2)\n",
       "┌────────┬──────────┐\n",
       "│ id     ┆ Exited   │\n",
       "│ ---    ┆ ---      │\n",
       "│ i64    ┆ f64      │\n",
       "╞════════╪══════════╡\n",
       "│ 165034 ┆ 0.032261 │\n",
       "│ 165035 ┆ 0.840835 │\n",
       "│ 165036 ┆ 0.032334 │\n",
       "│ 165037 ┆ 0.244467 │\n",
       "│ 165038 ┆ 0.347258 │\n",
       "└────────┴──────────┘"
      ]
     },
     "execution_count": 14,
     "metadata": {},
     "output_type": "execute_result"
    }
   ],
   "source": [
    "submission_updated_pl.head()"
   ]
  },
  {
   "cell_type": "code",
   "execution_count": 15,
   "id": "c5cb5f74",
   "metadata": {
    "execution": {
     "iopub.execute_input": "2024-06-25T13:30:02.416774Z",
     "iopub.status.busy": "2024-06-25T13:30:02.416486Z",
     "iopub.status.idle": "2024-06-25T13:30:02.432666Z",
     "shell.execute_reply": "2024-06-25T13:30:02.431805Z"
    },
    "papermill": {
     "duration": 0.026397,
     "end_time": "2024-06-25T13:30:02.434661",
     "exception": false,
     "start_time": "2024-06-25T13:30:02.408264",
     "status": "completed"
    },
    "tags": []
   },
   "outputs": [],
   "source": [
    "submission_updated_pl.write_csv(\"submission.csv\")"
   ]
  }
 ],
 "metadata": {
  "kaggle": {
   "accelerator": "none",
   "dataSources": [
    {
     "databundleVersionId": 8428413,
     "sourceId": 77360,
     "sourceType": "competition"
    },
    {
     "databundleVersionId": 8815780,
     "datasetId": 5178796,
     "sourceId": 8664803,
     "sourceType": "datasetVersion"
    }
   ],
   "dockerImageVersionId": 30732,
   "isGpuEnabled": false,
   "isInternetEnabled": true,
   "language": "python",
   "sourceType": "notebook"
  },
  "kernelspec": {
   "display_name": "Python 3",
   "language": "python",
   "name": "python3"
  },
  "language_info": {
   "codemirror_mode": {
    "name": "ipython",
    "version": 3
   },
   "file_extension": ".py",
   "mimetype": "text/x-python",
   "name": "python",
   "nbconvert_exporter": "python",
   "pygments_lexer": "ipython3",
   "version": "3.10.13"
  },
  "papermill": {
   "default_parameters": {},
   "duration": 126.521281,
   "end_time": "2024-06-25T13:30:03.061192",
   "environment_variables": {},
   "exception": null,
   "input_path": "__notebook__.ipynb",
   "output_path": "__notebook__.ipynb",
   "parameters": {},
   "start_time": "2024-06-25T13:27:56.539911",
   "version": "2.5.0"
  }
 },
 "nbformat": 4,
 "nbformat_minor": 5
}
